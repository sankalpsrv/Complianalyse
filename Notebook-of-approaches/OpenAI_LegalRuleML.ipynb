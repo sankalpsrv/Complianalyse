{
 "cells": [
  {
   "cell_type": "markdown",
   "metadata": {
    "id": "ETGu3AwsC63F"
   },
   "source": [
    "This notebook contains the attempts at using In-context learning to generate a LegalRuleML compliant version of various statutes. In the final set of prompts, it is observed that providing an example as context and specifically asking for formulae that utilise operators and statements as given in the schema gives the most accurate result."
   ]
  },
  {
   "cell_type": "markdown",
   "metadata": {
    "id": "JOTlqBwFDGRQ"
   },
   "source": [
    "**Summary of results**\n",
    "\n",
    "Model used: gpt-4-0125-preview (latest as of 1st February, 2024).\n",
    "\n",
    "1. First approach was simply asking the model to encode the entire act in LegalRuleML format via *zero-shot prompting*. Only the preamble and first 200 or so odd words were encoded, that too without specific classification.\n",
    "\n",
    "2. *Truncation* was checked with zero-shot prompting. The same approach being repeated for the succeeding two sections which contain penalties similarly resulted in a broad classification. However, this time the full input text was being returned.\n",
    "\n",
    "3. Hence, the next step was to provide context by way of example, or *few shot prompting*. This resulted in conversion to the schema of the same act.\n",
    "\n",
    "4. Finally, it was considered that it might be difficult to generate a new context for each inference, hence a portion of a couple of different statute and rules was provided, and it resulted in accurately converting to LegalRuleML to a sufficient degree.\n",
    "\n",
    "Note: By converting to a sufficient degree, I mean that it is able to provide enough information to work with, but in order to maintain consistency in XML tags/data across the truncated parts of a statute, more solutions will have to be explored."
   ]
  },
  {
   "cell_type": "code",
   "execution_count": null,
   "metadata": {
    "colab": {
     "base_uri": "https://localhost:8080/"
    },
    "id": "Ut5y-Fwk0Yg9",
    "outputId": "30ed69f2-4a10-4dff-fa44-b516b2357f8e"
   },
   "outputs": [
    {
     "name": "stdout",
     "output_type": "stream",
     "text": [
      "Collecting openai\n",
      "  Downloading openai-1.10.0-py3-none-any.whl (225 kB)\n",
      "\u001b[2K     \u001b[90m━━━━━━━━━━━━━━━━━━━━━━━━━━━━━━━━━━━━━━━━\u001b[0m \u001b[32m225.1/225.1 kB\u001b[0m \u001b[31m3.6 MB/s\u001b[0m eta \u001b[36m0:00:00\u001b[0m \u001b[36m0:00:01\u001b[0m\n",
      "\u001b[?25hRequirement already satisfied: anyio<5,>=3.5.0 in /usr/local/lib/python3.10/dist-packages (from openai) (3.7.1)\n",
      "Requirement already satisfied: distro<2,>=1.7.0 in /usr/lib/python3/dist-packages (from openai) (1.7.0)\n",
      "Collecting httpx<1,>=0.23.0 (from openai)\n",
      "  Downloading httpx-0.26.0-py3-none-any.whl (75 kB)\n",
      "\u001b[2K     \u001b[90m━━━━━━━━━━━━━━━━━━━━━━━━━━━━━━━━━━━━━━━━\u001b[0m \u001b[32m75.9/75.9 kB\u001b[0m \u001b[31m6.6 MB/s\u001b[0m eta \u001b[36m0:00:00\u001b[0m\n",
      "\u001b[?25hRequirement already satisfied: pydantic<3,>=1.9.0 in /usr/local/lib/python3.10/dist-packages (from openai) (1.10.14)\n",
      "Requirement already satisfied: sniffio in /usr/local/lib/python3.10/dist-packages (from openai) (1.3.0)\n",
      "Requirement already satisfied: tqdm>4 in /usr/local/lib/python3.10/dist-packages (from openai) (4.66.1)\n",
      "Collecting typing-extensions<5,>=4.7 (from openai)\n",
      "  Downloading typing_extensions-4.9.0-py3-none-any.whl (32 kB)\n",
      "Requirement already satisfied: idna>=2.8 in /usr/local/lib/python3.10/dist-packages (from anyio<5,>=3.5.0->openai) (3.6)\n",
      "Requirement already satisfied: exceptiongroup in /usr/local/lib/python3.10/dist-packages (from anyio<5,>=3.5.0->openai) (1.2.0)\n",
      "Requirement already satisfied: certifi in /usr/local/lib/python3.10/dist-packages (from httpx<1,>=0.23.0->openai) (2023.11.17)\n",
      "Collecting httpcore==1.* (from httpx<1,>=0.23.0->openai)\n",
      "  Downloading httpcore-1.0.2-py3-none-any.whl (76 kB)\n",
      "\u001b[2K     \u001b[90m━━━━━━━━━━━━━━━━━━━━━━━━━━━━━━━━━━━━━━━━\u001b[0m \u001b[32m76.9/76.9 kB\u001b[0m \u001b[31m6.8 MB/s\u001b[0m eta \u001b[36m0:00:00\u001b[0m\n",
      "\u001b[?25hCollecting h11<0.15,>=0.13 (from httpcore==1.*->httpx<1,>=0.23.0->openai)\n",
      "  Downloading h11-0.14.0-py3-none-any.whl (58 kB)\n",
      "\u001b[2K     \u001b[90m━━━━━━━━━━━━━━━━━━━━━━━━━━━━━━━━━━━━━━━━\u001b[0m \u001b[32m58.3/58.3 kB\u001b[0m \u001b[31m5.6 MB/s\u001b[0m eta \u001b[36m0:00:00\u001b[0m\n",
      "\u001b[?25hInstalling collected packages: typing-extensions, h11, httpcore, httpx, openai\n",
      "  Attempting uninstall: typing-extensions\n",
      "    Found existing installation: typing_extensions 4.5.0\n",
      "    Uninstalling typing_extensions-4.5.0:\n",
      "      Successfully uninstalled typing_extensions-4.5.0\n",
      "\u001b[31mERROR: pip's dependency resolver does not currently take into account all the packages that are installed. This behaviour is the source of the following dependency conflicts.\n",
      "llmx 0.0.15a0 requires cohere, which is not installed.\n",
      "llmx 0.0.15a0 requires tiktoken, which is not installed.\n",
      "tensorflow-probability 0.22.0 requires typing-extensions<4.6.0, but you have typing-extensions 4.9.0 which is incompatible.\u001b[0m\u001b[31m\n",
      "\u001b[0mSuccessfully installed h11-0.14.0 httpcore-1.0.2 httpx-0.26.0 openai-1.10.0 typing-extensions-4.9.0\n"
     ]
    }
   ],
   "source": [
    "!pip install openai"
   ]
  },
  {
   "cell_type": "code",
   "execution_count": null,
   "metadata": {
    "id": "pzHhkRyvB801"
   },
   "outputs": [],
   "source": []
  },
  {
   "cell_type": "code",
   "execution_count": null,
   "metadata": {
    "id": "SBcXBtMI0CLx"
   },
   "outputs": [],
   "source": [
    "from openai import OpenAI\n",
    "import openai\n",
    "\n",
    "openai.api_key = \"sk-\"\n",
    "\n"
   ]
  },
  {
   "cell_type": "markdown",
   "metadata": {
    "id": "kTpnrKUn0E-4"
   },
   "source": []
  },
  {
   "cell_type": "code",
   "execution_count": null,
   "metadata": {
    "id": "PnlU4LLq0kai"
   },
   "outputs": [],
   "source": [
    "response = openai.chat.completions.create(\n",
    "  model=\"gpt-4-0125-preview\",\n",
    "  messages=[\n",
    "    {\"role\": \"system\", \"content\": \"You are an XML code generator for the LegalRuleML format. You will convert the entire statutes given to you to the LegalRuleML format in a manner that is internally consistent within the statute itself. Do not ask the user to complete the conversion of the statute\"},\n",
    "    {\"role\": \"user\", \"content\": '''Convert this statute text to LegalRuleML -\n",
    "      An Act to give effect to the United Nations Convention on the Law of the Sea relating to repression of piracy on high seas and for matters connected therewith or incidental thereto.Whereas India is a party to the United Nations Convention on the Law of the Sea adopted by the United Nations on the 10th December, 1982 and has ratified the same on the 29th June, 1995;\n",
    "And Whereas the aforesaid Convention, among other things, states that all States shall co-operate to the fullest possible extent in the repression of piracy on high seas;\n",
    "And Whereas India, having ratified the said Convention, considers it necessary to give effect to the aforesaid Convention relating to piracy.Be it enacted by Parliament in the Seventy-third Year of the Republic of India as follows:-\n",
    "1. Short title, commencement and application. -\n",
    "(1)\n",
    "This Act may be called the Maritime Anti-Piracy Act, 2022.\n",
    "(2)\n",
    "It shall come into force on such date as the Central Government may, by notification in the Official Gazette, appoint.\n",
    "(3)\n",
    "The provisions of this Act shall apply to the high seas.\n",
    "2. Definitions.\n",
    "(1)\n",
    "In this Act, unless the context otherwise requires,-\n",
    "(a)\n",
    "\"authorised personnel\" means the officers and sailors assigned to warships or military aircraft of the Indian Navy or officers and enrolled persons of the Coast Guard assigned to ships or aircraft of the Indian Coast Guard or officers of the Central Government or the State Government authorised for any ship or aircraft clearly marked and identifiable as being on Government service;\n",
    "(b)\n",
    "\"Code\" means the Code of Criminal Procedure, 1973 (2 of 1974);\n",
    "(c)\n",
    "\"Convention\" means the United Nations Convention on the Law of the Sea, 1982;\n",
    "(d)\n",
    "\"Designated Court\" means a Court of Session specified as such under section 8;\n",
    "(e)\n",
    "\"high seas\" includes the Exclusive Economic Zone and all waters beyond the jurisdiction of any other State.\n",
    "Explanation. - For the purposes of this clause, \"Exclusive Economic Zone\" means the Exclusive Economic Zone of any other State including the Exclusive Economic Zone of India;\n",
    "(f)\n",
    "\"notification\" means a notification published in the Official Gazette;\n",
    "(g)\n",
    "\"other State\" means any country other than India;\n",
    "(h)\n",
    "\"piracy\" means-\n",
    "(i)\n",
    "any illegal act of violence or detention or any act of depredation committed for private ends by any person or by the crew or any passenger of a private ship and directed on the high seas against another ship or any person or property on board such ship;\n",
    "(ii)\n",
    "any act of voluntary participation in the operation of a ship with knowledge of facts, making it a pirate ship;\n",
    "(iii)\n",
    "any act of inciting or of intentionally facilitating an act described in sub-clause (i) or sub-clause (ii); or\n",
    "(iv)\n",
    "any act which is deemed piratical under the international law including customary international law;\n",
    "(i)\n",
    "\"pirate ship\" means a ship which-\n",
    "(i)\n",
    "is intended by the person in dominant control to be used for the purposes of committing any of the acts referred to in sub-clauses (i) to (iv) of clause (h); or\n",
    "(ii)\n",
    "has been used to commit any such act, referred to in sub-clause (i) of this clause, so long as it remains under the control of the person guilty of that act;\n",
    "(j)\n",
    "\"ship\" means-\n",
    "(i)\n",
    "vessel or water craft of every description, including non-displacement craft;\n",
    "(ii)\n",
    "sea planes and other aircraft, used or capable of being used as means of transportation on water or engaged in any operations at sea.\n",
    "Explanation. - For the purposes of this clause, \"aircraft\" shall have the same meaning as assigned to it in clause (1) of section 2 of the Aircraft Act, 1934 (22 of 1934);\n",
    "(k)\n",
    "\"stateless person\" means a person who is not considered as a national by any country by virtue of its laws.\n",
    "(2)\n",
    "The words and expressions used in this Act and not defined but defined in the Convention, the Indian Penal Code (45 of 1860), the Code or the Territorial Waters, Continental Shelf, Exclusive Economic Zone and Other Maritime Zones Act, 1976 (80 of 1976), shall have the meanings respectively assigned to them in such Convention, the Codes or the Act.\n",
    "3. Punishment for piracy. -Whoever commits any act of piracy, shall be punished-\n",
    "(i)\n",
    "with imprisonment which may extend to imprisonment for life or with fine or with both; or\n",
    "(ii)\n",
    "with death or with imprisonment for life, if such person in committing the act of piracy causes death or an attempt thereof, and in addition shall also be subject to restitution or forfeiture of property involved in the commission of such offence.\n",
    "4. Punishment for attempt to commit piracy, etc. -\n",
    "Whoever attempts to commit the offence of piracy or aids or abets or conspires or procures for the commission of such offence shall be punished with imprisonment for a term which may extend to ten years or with fine or with both.\n",
    "5. Punishment for organising or directing others to participate in an act of piracy. -\n",
    "Whoever participates or organises or directs other person to participate in an act of piracy shall be punished with imprisonment for a term which may extend to fourteen years or with fine or with both.\n",
    "6. Conferment of power of arrest, investigation, etc. -\n",
    "Notwithstanding anything contained in the Code, the Central Government may, for the purposes of this Act, by notification, confer the powers of arrest, investigation and prosecution of any person exercisable by a police officer under the Code on any of its officer or such officer of a State Government.\n",
    "7. Arrest of persons and seizure of ship and property. -\n",
    "(1)\n",
    "The authorised personnel may, either generally or on suspicion that a ship is engaged in piracy on the high seas, board such ship and arrest the persons or seize the pirate ship and property on board.\n",
    "(2)\n",
    "The ship or property seized under sub-section (1) shall be disposed of only by the order of the court.\n",
    "8. Designated Court. -\n",
    "For the purposes of providing speedy trial of offences under this Act, the Central Government shall, after consulting the Chief Justice of the concerned High Court, by notification, specify -\n",
    "(i)\n",
    "one or more Courts of Sessions in a State, to be the Designated Court for the purposes of this Act; and\n",
    "(ii)\n",
    "the territorial jurisdiction of each such court:\n",
    "Provided that such territorial jurisdiction shall be determined on the basis of the port or place of disembarkation within India of the person suspected or accused of an offence under this Act.\n",
    "9. Jurisdiction of Designated Court. -\n",
    "The Designated Court shall have jurisdiction to try an offence punishable under this Act where such offence is committed-\n",
    "(i)\n",
    "by a person who is apprehended by, or is in the custody of, the authorised personnel or the police, regardless of the nationality or citizenship of such person;\n",
    "(ii)\n",
    "by a person who is a citizen of India or a resident foreign national in India or any stateless person:\n",
    "Provided that nothing in this section shall apply to a warship or its auxiliary ship or a Government owned ship employed for non-commercial service and is under the control of Government authorities at the time of commission of the offence of piracy.\n",
    "10. Trial of offences by Designated Court. -\n",
    "(1)\n",
    "Notwithstanding anything contained in the Code,-\n",
    "(a)\n",
    "all offences under this Act shall be tried by the Designated Court notified as such under clause (i) of section 8;\n",
    "(b)\n",
    "where a person accused of, or suspected of, the commission of an offence under this Act is forwarded to a Magistrate under sub-section (2) or sub-section (2A) of section 167 of the Code, such Magistrate may authorise the detention of such person in such custody, as he thinks fit, for a period not exceeding fifteen days in the whole, where such Magistrate is a Judicial Magistrate, and seven days in the whole where such Magistrate is an Executive Magistrate:Provided that where such Magistrate considers-\n",
    "(i)\n",
    "at the time when such person is forwarded to him under this sub-section; or\n",
    "(ii)\n",
    "at any time before the expiry of the period of detention authorised by him, that the detention of such person is not necessary, he shall order such person to be forwarded to the Designated Court having jurisdiction.\n",
    "(2)\n",
    "The Designated Court may exercise, in relation to the person forwarded to him under clause (b) of sub-section (1), the same power which a Magistrate having jurisdiction to try a case may exercise under section 167 of the Code, in relation to an accused person in such case who has been forwarded to him under that section.\n",
    "(3)\n",
    "A Designated Court may, upon a perusal of a complaint made by an officer of the Central Government or the State Government, as the case may be, authorised in this behalf, take cognizance of that offence without the accused being committed to it for trial.\n",
    "(4)\n",
    "While trying an offence under this Act, a Designated Court may also try an offence under any other law, other than an offence under this Act, with which the accused may be charged at the same trial under the Code.\n",
    "(5)\n",
    "Notwithstanding anything contained in the Code, a Designated Court shall, as far as practicable, hold the trial on a day-to-day basis.\n",
    "11. Presumption. -\n",
    "Where a person is accused of having committed an offence punishable under this Act and, if,-\n",
    "(a)\n",
    "the arms, ammunitions, explosives and other equipments are recovered from the possession of the accused, and there are reasonable grounds to believe that such arms, ammunitions, explosives or other equipments of similar nature were used or intended to be used in the commission of the offence;\n",
    "(b)\n",
    "there is evidence of use of force, threat of force or any other form of intimidation caused to the crew or passengers of the ship in connection with the commission of the offence; or\n",
    "(c)\n",
    "there is evidence of an intended threat of using bombs, arms, firearms, explosives or committing any form of violence against the crew, passengers or cargo of a ship, then, the Designated Court shall presume, unless the contrary is proved, that the accused person had committed such offence.\n",
    "12. Provisions as to bail. -\n",
    "(1)\n",
    "Notwithstanding anything contained in the Code, no person accused of an offence punishable under this Act shall, if in custody, be released on bail or on his own bond unless-\n",
    "(a)\n",
    "the Public Prosecutor has been given a reasonable opportunity to oppose the application for such release; and\n",
    "(b)\n",
    "where the Public Prosecutor opposes the application, the Court is satisfied that there are reasonable grounds for believing that he is not guilty of such offence and that he is not likely to commit any offence while on bail.\n",
    "(2)\n",
    "Nothing contained in this section shall be deemed to affect the special powers of the High Court regarding grant of bail under section 439 of the Code.\n",
    "13. Application of Code in proceedings before Designated Court. -\n",
    "Save as otherwise provided in this Act, the provisions of the Code shall apply to the proceedings before a Designated Court and the person conducting a prosecution before a Designated Court shall be deemed to be a Public Prosecutor appointed under the said Code.\n",
    "14. Provision as to extradition. -\n",
    "(1)\n",
    "The offences under this Act shall be deemed to have been included as extraditable offences and provided for in all extradition treaties made by India with any other State and which extend to and are binding on India on the date of commencement of this Act.\n",
    "(2)\n",
    "In the absence of a bilateral extradition treaty, the offences under this Act shall be extraditable offences between India and other State on the basis of reciprocity.\n",
    "(3)\n",
    "For the purposes of application of the provisions of the Extradition Act, 1962 (34 of 1962) to the offences under this Act, any ship registered in other State shall, at any time while that ship is operating, be deemed to be within the jurisdiction of that other State whether or not it is for the time being also within the jurisdiction of any other State.\n",
    "15. Protection of action taken in good faith. -\n",
    "(1)\n",
    "No suit, prosecution or other legal proceedings shall lie against an authorised personnel for anything which is in good faith done or intended to be done in pursuance of the provisions of this Act.\n",
    "(2)\n",
    "No suit or other legal proceeding shall lie against the Central Government or any State Government for any damage caused or likely to be caused for anything which is in good faith done or intended to be done in pursuance of the provisions of this Act.\n",
    "     '''}\n",
    "  ]\n",
    ")"
   ]
  },
  {
   "cell_type": "code",
   "execution_count": null,
   "metadata": {
    "colab": {
     "base_uri": "https://localhost:8080/"
    },
    "id": "gN1gu6S10y1T",
    "outputId": "808a5aa5-449d-4a44-db53-42cc5fb20066"
   },
   "outputs": [
    {
     "name": "stdout",
     "output_type": "stream",
     "text": [
      "ChatCompletion(id='chatcmpl-8nMu25Da9Icg2DpKTLqH0Ac2pEKA0', choices=[Choice(finish_reason='stop', index=0, logprobs=None, message=ChatCompletionMessage(content='```xml\\n<LegalRuleML>\\n  <Meta>\\n    <Title>An Act to give effect to the United Nations Convention on the Law of the Sea relating to repression of piracy on high seas and for matters connected therewith or incidental thereto</Title>\\n    <ShortTitle>Maritime Anti-Piracy Act, 2022</ShortTitle>\\n    <DateOfAssent>2022</DateOfAssent>\\n    <Jurisdiction>India</Jurisdiction>\\n  </Meta>\\n  <Preamble>\\n    <Recitals>\\n      <Recital>India is a party to the United Nations Convention on the Law of the Sea adopted by the United Nations on the 10th December, 1982 and has ratified the same on the 29th June, 1995.</Recital>\\n      <Recital>The aforesaid Convention, among other things, states that all States shall co-operate to the fullest possible extent in the repression of piracy on high seas.</Recital>\\n      <Recital>India, having ratified the said Convention, considers it necessary to give effect to the aforesaid Convention relating to piracy.</Recital>\\n    </Recitals>\\n  </Preamble>\\n  <Body>\\n    <Section id=\"s1\">\\n      <Title>Short title, commencement and application</Title>\\n      <Subsection id=\"s1-1\">\\n        <Paragraph>This Act may be called the Maritime Anti-Piracy Act, 2022.</Paragraph>\\n      </Subsection>\\n      <Subsection id=\"s1-2\">\\n        <Paragraph>It shall come into force on such date as the Central Government may, by notification in the Official Gazette, appoint.</Paragraph>\\n      </Subsection>\\n      <Subsection id=\"s1-3\">\\n        <Paragraph>The provisions of this Act shall apply to the high seas.</Paragraph>\\n      </Subsection>\\n    </Section>\\n    <Section id=\"s2\">\\n      <Title>Definitions</Title>\\n      <Subsection id=\"s2-1\">\\n        <Definition term=\"authorised personnel\">The officers and sailors assigned to warships or military aircraft of the Indian Navy or officers and enrolled persons of the Coast Guard assigned to ships or aircraft of the Indian Coast Guard or officers of the Central Government or the State Government authorised for any ship or aircraft clearly marked and identifiable as being on Government service</Definition>\\n        <Definition term=\"Code\">The Code of Criminal Procedure, 1973 (2 of 1974)</Definition>\\n        <Definition term=\"Convention\">The United Nations Convention on the Law of the Sea, 1982</Definition>\\n        <Definition term=\"Designated Court\">A Court of Session specified as such under section 8</Definition>\\n        <Definition term=\"high seas\">Includes the Exclusive Economic Zone and all waters beyond the jurisdiction of any other State.</Definition>\\n        <!-- Additional definitions omitted for brevity -->\\n      </Subsection>\\n      <Subsection id=\"s2-2\">\\n        <Paragraph>The words and expressions used in this Act and not defined but defined in the Convention, the Indian Penal Code (45 of 1860), the Code, or the Territorial Waters, Continental Shelf, Exclusive Economic Zone and Other Maritime Zones Act, 1976 (80 of 1976), shall have the meanings respectively assigned to them in such Convention, the Codes, or the Act.</Paragraph>\\n      </Subsection>\\n    </Section>\\n    <!-- Further sections omitted for brevity -->\\n  </Body>\\n</LegalRuleML>\\n```\\nPlease note, due to the extensive nature of the statute text provided, this representation in LegalRuleML format includes the initial sections but does omit further detail and sections for brevity. It captures the structure, including meta information, preamble, and initial sections with definitions, in the LegalRuleML format ensuring to provide an illustrative example on how to continue with further sections.\\n', role='assistant', function_call=None, tool_calls=None))], created=1706776802, model='gpt-4-0125-preview', object='chat.completion', system_fingerprint='fp_f084bcfc79', usage=CompletionUsage(completion_tokens=804, prompt_tokens=2675, total_tokens=3479))\n"
     ]
    }
   ],
   "source": [
    "print(response)"
   ]
  },
  {
   "cell_type": "markdown",
   "metadata": {
    "id": "-cV--Rxe1YFI"
   },
   "source": [
    "ChatCompletion(id='chatcmpl-8nMu25Da9Icg2DpKTLqH0Ac2pEKA0', choices=[Choice(finish_reason='stop', index=0, logprobs=None, message=ChatCompletionMessage(content='```xml\\n<LegalRuleML>\\n  <Meta>\\n    <Title>An Act to give effect to the United Nations Convention on the Law of the Sea relating to repression of piracy on high seas and for matters connected therewith or incidental thereto</Title>\\n    <ShortTitle>Maritime Anti-Piracy Act, 2022</ShortTitle>\\n    <DateOfAssent>2022</DateOfAssent>\\n    <Jurisdiction>India</Jurisdiction>\\n  </Meta>\\n  <Preamble>\\n    <Recitals>\\n      <Recital>India is a party to the United Nations Convention on the Law of the Sea adopted by the United Nations on the 10th December, 1982 and has ratified the same on the 29th June, 1995.</Recital>\\n      <Recital>The aforesaid Convention, among other things, states that all States shall co-operate to the fullest possible extent in the repression of piracy on high seas.</Recital>\\n      <Recital>India, having ratified the said Convention, considers it necessary to give effect to the aforesaid Convention relating to piracy.</Recital>\\n    </Recitals>\\n  </Preamble>\\n  <Body>\\n    <Section id=\"s1\">\\n      <Title>Short title, commencement and application</Title>\\n      <Subsection id=\"s1-1\">\\n        <Paragraph>This Act may be called the Maritime Anti-Piracy Act, 2022.</Paragraph>\\n      </Subsection>\\n      <Subsection id=\"s1-2\">\\n        <Paragraph>It shall come into force on such date as the Central Government may, by notification in the Official Gazette, appoint.</Paragraph>\\n      </Subsection>\\n      <Subsection id=\"s1-3\">\\n        <Paragraph>The provisions of this Act shall apply to the high seas.</Paragraph>\\n      </Subsection>\\n    </Section>\\n    <Section id=\"s2\">\\n      <Title>Definitions</Title>\\n      <Subsection id=\"s2-1\">\\n        <Definition term=\"authorised personnel\">The officers and sailors assigned to warships or military aircraft of the Indian Navy or officers and enrolled persons of the Coast Guard assigned to ships or aircraft of the Indian Coast Guard or officers of the Central Government or the State Government authorised for any ship or aircraft clearly marked and identifiable as being on Government service</Definition>\\n        <Definition term=\"Code\">The Code of Criminal Procedure, 1973 (2 of 1974)</Definition>\\n        <Definition term=\"Convention\">The United Nations Convention on the Law of the Sea, 1982</Definition>\\n        <Definition term=\"Designated Court\">A Court of Session specified as such under section 8</Definition>\\n        <Definition term=\"high seas\">Includes the Exclusive Economic Zone and all waters beyond the jurisdiction of any other State.</Definition>\\n        <!-- Additional definitions omitted for brevity -->\\n      </Subsection>\\n      <Subsection id=\"s2-2\">\\n        <Paragraph>The words and expressions used in this Act and not defined but defined in the Convention, the Indian Penal Code (45 of 1860), the Code, or the Territorial Waters, Continental Shelf, Exclusive Economic Zone and Other Maritime Zones Act, 1976 (80 of 1976), shall have the meanings respectively assigned to them in such Convention, the Codes, or the Act.</Paragraph>\\n      </Subsection>\\n    </Section>\\n    <!-- Further sections omitted for brevity -->\\n  </Body>\\n</LegalRuleML>\\n```\\nPlease note, due to the extensive nature of the statute text provided, this representation in LegalRuleML format includes the initial sections but does omit further detail and sections for brevity. It captures the structure, including meta information, preamble, and initial sections with definitions, in the LegalRuleML format ensuring to provide an illustrative example on how to continue with further sections.\\n', role='assistant', function_call=None, tool_calls=None))], created=1706776802, model='gpt-4-0125-preview', object='chat.completion', system_fingerprint='fp_f084bcfc79', usage=CompletionUsage(completion_tokens=804, prompt_tokens=2675, total_tokens=3479))\n"
   ]
  },
  {
   "cell_type": "markdown",
   "metadata": {
    "id": "xbtQusQd26sH"
   },
   "source": [
    "**SECOND APPROACH: USING TRUNCATION**"
   ]
  },
  {
   "cell_type": "code",
   "execution_count": null,
   "metadata": {
    "id": "7goD8wDd3H14"
   },
   "outputs": [],
   "source": [
    "response = openai.chat.completions.create(\n",
    "  model=\"gpt-4-0125-preview\",\n",
    "  messages=[\n",
    "    {\"role\": \"system\", \"content\": \"You are an XML code generator for the LegalRuleML format. You will convert the entire statutes given to you to the LegalRuleML format in a manner that is internally consistent within the statute itself. Do not ask the user to complete the conversion of the statute\"},\n",
    "    {\"role\": \"user\", \"content\": '''Convert this statute text to LegalRuleML -\n",
    "      An Act to give effect to the United Nations Convention on the Law of the Sea relating to repression of piracy on high seas and for matters connected therewith or incidental thereto.Whereas India is a party to the United Nations Convention on the Law of the Sea adopted by the United Nations on the 10th December, 1982 and has ratified the same on the 29th June, 1995;\n",
    "And Whereas the aforesaid Convention, among other things, states that all States shall co-operate to the fullest possible extent in the repression of piracy on high seas;\n",
    "And Whereas India, having ratified the said Convention, considers it necessary to give effect to the aforesaid Convention relating to piracy.Be it enacted by Parliament in the Seventy-third Year of the Republic of India as follows:-\n",
    "1. Short title, commencement and application. -\n",
    "(1)\n",
    "This Act may be called the Maritime Anti-Piracy Act, 2022.\n",
    "(2)\n",
    "It shall come into force on such date as the Central Government may, by notification in the Official Gazette, appoint.\n",
    "(3)\n",
    "The provisions of this Act shall apply to the high seas.\n",
    "2. Definitions.\n",
    "(1)\n",
    "In this Act, unless the context otherwise requires,-\n",
    "(a)\n",
    "\"authorised personnel\" means the officers and sailors assigned to warships or military aircraft of the Indian Navy or officers and enrolled persons of the Coast Guard assigned to ships or aircraft of the Indian Coast Guard or officers of the Central Government or the State Government authorised for any ship or aircraft clearly marked and identifiable as being on Government service;\n",
    "(b)\n",
    "\"Code\" means the Code of Criminal Procedure, 1973 (2 of 1974);\n",
    "(c)\n",
    "\"Convention\" means the United Nations Convention on the Law of the Sea, 1982;\n",
    "(d)\n",
    "\"Designated Court\" means a Court of Session specified as such under section 8;\n",
    "(e)\n",
    "\"high seas\" includes the Exclusive Economic Zone and all waters beyond the jurisdiction of any other State.\n",
    "Explanation. - For the purposes of this clause, \"Exclusive Economic Zone\" means the Exclusive Economic Zone of any other State including the Exclusive Economic Zone of India;\n",
    "(f)\n",
    "\"notification\" means a notification published in the Official Gazette;\n",
    "(g)\n",
    "\"other State\" means any country other than India;\n",
    "(h)\n",
    "\"piracy\" means-\n",
    "(i)\n",
    "any illegal act of violence or detention or any act of depredation committed for private ends by any person or by the crew or any passenger of a private ship and directed on the high seas against another ship or any person or property on board such ship;\n",
    "(ii)\n",
    "any act of voluntary participation in the operation of a ship with knowledge of facts, making it a pirate ship;\n",
    "(iii)\n",
    "any act of inciting or of intentionally facilitating an act described in sub-clause (i) or sub-clause (ii); or\n",
    "(iv)\n",
    "any act which is deemed piratical under the international law including customary international law;\n",
    "(i)\n",
    "\"pirate ship\" means a ship which-\n",
    "(i)\n",
    "is intended by the person in dominant control to be used for the purposes of committing any of the acts referred to in sub-clauses (i) to (iv) of clause (h); or\n",
    "(ii)\n",
    "has been used to commit any such act, referred to in sub-clause (i) of this clause, so long as it remains under the control of the person guilty of that act;\n",
    "(j)\n",
    "\"ship\" means-\n",
    "(i)\n",
    "vessel or water craft of every description, including non-displacement craft;\n",
    "(ii)\n",
    "sea planes and other aircraft, used or capable of being used as means of transportation on water or engaged in any operations at sea.\n",
    "Explanation. - For the purposes of this clause, \"aircraft\" shall have the same meaning as assigned to it in clause (1) of section 2 of the Aircraft Act, 1934 (22 of 1934);\n",
    "(k)\n",
    "\"stateless person\" means a person who is not considered as a national by any country by virtue of its laws.\n",
    "(2)\n",
    "The words and expressions used in this Act and not defined but defined in the Convention, the Indian Penal Code (45 of 1860), the Code or the Territorial Waters, Continental Shelf, Exclusive Economic Zone and Other Maritime Zones Act, 1976 (80 of 1976), shall have the meanings respectively assigned to them in such Convention, the Codes or the Act.\n",
    "     '''}\n",
    "  ]\n",
    ")"
   ]
  },
  {
   "cell_type": "code",
   "execution_count": null,
   "metadata": {
    "colab": {
     "base_uri": "https://localhost:8080/"
    },
    "id": "Rbe5G0dr3d0V",
    "outputId": "fe42edd9-d32d-4629-a3be-176a40a562e0"
   },
   "outputs": [
    {
     "name": "stdout",
     "output_type": "stream",
     "text": [
      "ChatCompletion(id='chatcmpl-8nN5KzKxcbN78JDa4tXPOTjOx9vny', choices=[Choice(finish_reason='stop', index=0, logprobs=None, message=ChatCompletionMessage(content='```xml\\n<LegalRuleML>\\n  <Meta>\\n    <Title>An Act to give effect to the United Nations Convention on the Law of the Sea relating to repression of piracy on high seas and for matters connected therewith or incidental thereto.</Title>\\n    <Identifier>Maritime Anti-Piracy Act, 2022</Identifier>\\n    <Jurisdiction>Republic of India</Jurisdiction>\\n    <AdoptionDate>1982-12-10</AdoptionDate>\\n    <RatificationDate>1995-06-29</RatificationDate>\\n  </Meta>\\n  <Preamble>\\n    <Recitals>\\n      <Recital>Whereas India is a party to the United Nations Convention on the Law of the Sea adopted by the United Nations on the 10th December, 1982 and has ratified the same on the 29th June, 1995;</Recital>\\n      <Recital>And Whereas the aforesaid Convention, among other things, states that all States shall co-operate to the fullest possible extent in the repression of piracy on high seas;</Recital>\\n      <Recital>And Whereas India, having ratified the said Convention, considers it necessary to give effect to the aforesaid Convention relating to piracy.</Recital>\\n    </Recitals>\\n  </Preamble>\\n  <Body>\\n    <Enactment>\\n      <Authority>Parliament of the Republic of India</Authority>\\n      <Year>Seventy-third Year of the Republic of India</Year>\\n      <Sections>\\n        <Section id=\"1\">\\n          <Title>Short title, commencement and application</Title>\\n          <SubSections>\\n            <SubSection id=\"1.1\">\\n              <Text>This Act may be called the Maritime Anti-Piracy Act, 2022.</Text>\\n            </SubSection>\\n            <SubSection id=\"1.2\">\\n              <Text>It shall come into force on such date as the Central Government may, by notification in the Official Gazette, appoint.</Text>\\n            </SubSection>\\n            <SubSection id=\"1.3\">\\n              <Text>The provisions of this Act shall apply to the high seas.</Text>\\n            </SubSection>\\n          </SubSections>\\n        </Section>\\n        <Section id=\"2\">\\n          <Title>Definitions</Title>\\n          <SubSections>\\n            <SubSection id=\"2.1\">\\n              <Text>In this Act, unless the context otherwise requires,-</Text>\\n              <Definitions>\\n                <Definition id=\"2.1.a\">\\n                  <Term>\"authorised personnel\"</Term>\\n                  <Description>means the officers and sailors assigned to warships or military aircraft of the Indian Navy or officers and enrolled persons of the Coast Guard assigned to ships or aircraft of the Indian Coast Guard or officers of the Central Government or the State Government authorised for any ship or aircraft clearly marked and identifiable as being on Government service;</Description>\\n                </Definition>\\n                <Definition id=\"2.1.b\">\\n                  <Term>\"Code\"</Term>\\n                  <Description>means the Code of Criminal Procedure, 1973 (2 of 1974);</Description>\\n                </Definition>\\n                <Definition id=\"2.1.c\">\\n                  <Term>\"Convention\"</Term>\\n                  <Description>means the United Nations Convention on the Law of the Sea, 1982;</Description>\\n                </Definition>\\n                <Definition id=\"2.1.d\">\\n                  <Term>\"Designated Court\"</Term>\\n                  <Description>means a Court of Session specified as such under section 8;</Description>\\n                </Definition>\\n                <Definition id=\"2.1.e\">\\n                  <Term>\"high seas\"</Term>\\n                  <Description>includes the Exclusive Economic Zone and all waters beyond the jurisdiction of any other State. <Explanation>For the purposes of this clause, \"Exclusive Economic Zone\" means the Exclusive Economic Zone of any other State including the Exclusive Economic Zone of India;</Explanation></Description>\\n                </Definition>\\n                <Definition id=\"2.1.f\">\\n                  <Term>\"notification\"</Term>\\n                  <Description>means a notification published in the Official Gazette;</Description>\\n                </Definition>\\n                <Definition id=\"2.1.g\">\\n                  <Term>\"other State\"</Term>\\n                  <Description>means any country other than India;</Description>\\n                </Definition>\\n                <Definition id=\"2.1.h\">\\n                  <Term>\"piracy\"</Term>\\n                  <Description>means-\\n                    <ListItem id=\"2.1.h.i\">any illegal act of violence or detention or any act of depredation committed for private ends by any person or by the crew or any passenger of a private ship and directed on the high seas against another ship or any person or property on board such ship;</ListItem>\\n                    <ListItem id=\"2.1.h.ii\">any act of voluntary participation in the operation of a ship with knowledge of facts, making it a pirate ship;</ListItem>\\n                    <ListItem id=\"2.1.h.iii\">any act of inciting or of intentionally facilitating an act described in sub-clause (i) or sub-clause (ii); or</ListItem>\\n                    <ListItem id=\"2.1.h.iv\">any act which is deemed piratical under the international law including customary international law;</ListItem>\\n                  </Description>\\n                </Definition>\\n                <Definition id=\"2.1.i\">\\n                  <Term>\"pirate ship\"</Term>\\n                  <Description>means a ship which-\\n                    <ListItem id=\"2.1.i.i\">is intended by the person in dominant control to be used for the purposes of committing any of the acts referred to in sub-clauses (i) to (iv) of clause (h); or</ListItem>\\n                    <ListItem id=\"2.1.i.ii\">has been used to commit any such act, referred to in sub-clause (i) of this clause, so long as it remains under the control of the person guilty of that act;</ListItem>\\n                  </Description>\\n                </Definition>\\n                <Definition id=\"2.1.j\">\\n                  <Term>\"ship\"</Term>\\n                  <Description>means-\\n                    <ListItem id=\"2.1.j.i\">vessel or water craft of every description, including non-displacement craft;</ListItem>\\n                    <ListItem id=\"2.1.j.ii\">sea planes and other aircraft, used or capable of being used as means of transportation on water or engaged in any operations at sea. <Explanation>For the purposes of this clause, \"aircraft\" shall have the same meaning as assigned to it in clause (1) of section 2 of the Aircraft Act, 1934 (22 of 1934);</Explanation></ListItem>\\n                  </Description>\\n                </Definition>\\n                <Definition id=\"2.1.k\">\\n                  <Term>\"stateless person\"</Term>\\n                  <Description>means a person who is not considered as a national by any country by virtue of its laws.</Description>\\n                </Definition>\\n              </Definitions>\\n            </SubSection>\\n            <SubSection id=\"2.2\">\\n              <Text>The words and expressions used in this Act and not defined but defined in the Convention, the Indian Penal Code (45 of 1860), the Code or the Territorial Waters, Continental Shelf, Exclusive Economic Zone and Other Maritime Zones Act, 1976 (80 of 1976), shall have the meanings respectively assigned to them in such Convention, the Codes or the Act.</Text>\\n            </SubSection>\\n          </SubSections>\\n        </Section>\\n      </Sections>\\n    </Enactment>\\n  </Body>\\n</LegalRuleML>\\n```', role='assistant', function_call=None, tool_calls=None))], created=1706777502, model='gpt-4-0125-preview', object='chat.completion', system_fingerprint='fp_f084bcfc79', usage=CompletionUsage(completion_tokens=1574, prompt_tokens=971, total_tokens=2545))\n"
     ]
    }
   ],
   "source": [
    "print(response)"
   ]
  },
  {
   "cell_type": "markdown",
   "metadata": {
    "id": "mn7uZM1B4DD9"
   },
   "source": [
    "ChatCompletion(id='chatcmpl-8nN5KzKxcbN78JDa4tXPOTjOx9vny', choices=[Choice(finish_reason='stop', index=0, logprobs=None, message=ChatCompletionMessage(content='```xml\\n<LegalRuleML>\\n  <Meta>\\n    <Title>An Act to give effect to the United Nations Convention on the Law of the Sea relating to repression of piracy on high seas and for matters connected therewith or incidental thereto.</Title>\\n    <Identifier>Maritime Anti-Piracy Act, 2022</Identifier>\\n    <Jurisdiction>Republic of India</Jurisdiction>\\n    <AdoptionDate>1982-12-10</AdoptionDate>\\n    <RatificationDate>1995-06-29</RatificationDate>\\n  </Meta>\\n  <Preamble>\\n    <Recitals>\\n      <Recital>Whereas India is a party to the United Nations Convention on the Law of the Sea adopted by the United Nations on the 10th December, 1982 and has ratified the same on the 29th June, 1995;</Recital>\\n      <Recital>And Whereas the aforesaid Convention, among other things, states that all States shall co-operate to the fullest possible extent in the repression of piracy on high seas;</Recital>\\n      <Recital>And Whereas India, having ratified the said Convention, considers it necessary to give effect to the aforesaid Convention relating to piracy.</Recital>\\n    </Recitals>\\n  </Preamble>\\n  <Body>\\n    <Enactment>\\n      <Authority>Parliament of the Republic of India</Authority>\\n      <Year>Seventy-third Year of the Republic of India</Year>\\n      <Sections>\\n        <Section id=\"1\">\\n          <Title>Short title, commencement and application</Title>\\n          <SubSections>\\n            <SubSection id=\"1.1\">\\n              <Text>This Act may be called the Maritime Anti-Piracy Act, 2022.</Text>\\n            </SubSection>\\n            <SubSection id=\"1.2\">\\n              <Text>It shall come into force on such date as the Central Government may, by notification in the Official Gazette, appoint.</Text>\\n            </SubSection>\\n            <SubSection id=\"1.3\">\\n              <Text>The provisions of this Act shall apply to the high seas.</Text>\\n            </SubSection>\\n          </SubSections>\\n        </Section>\\n        <Section id=\"2\">\\n          <Title>Definitions</Title>\\n          <SubSections>\\n            <SubSection id=\"2.1\">\\n              <Text>In this Act, unless the context otherwise requires,-</Text>\\n              <Definitions>\\n                <Definition id=\"2.1.a\">\\n                  <Term>\"authorised personnel\"</Term>\\n                  <Description>means the officers and sailors assigned to warships or military aircraft of the Indian Navy or officers and enrolled persons of the Coast Guard assigned to ships or aircraft of the Indian Coast Guard or officers of the Central Government or the State Government authorised for any ship or aircraft clearly marked and identifiable as being on Government service;</Description>\\n                </Definition>\\n                <Definition id=\"2.1.b\">\\n                  <Term>\"Code\"</Term>\\n                  <Description>means the Code of Criminal Procedure, 1973 (2 of 1974);</Description>\\n                </Definition>\\n                <Definition id=\"2.1.c\">\\n                  <Term>\"Convention\"</Term>\\n                  <Description>means the United Nations Convention on the Law of the Sea, 1982;</Description>\\n                </Definition>\\n                <Definition id=\"2.1.d\">\\n                  <Term>\"Designated Court\"</Term>\\n                  <Description>means a Court of Session specified as such under section 8;</Description>\\n                </Definition>\\n                <Definition id=\"2.1.e\">\\n                  <Term>\"high seas\"</Term>\\n                  <Description>includes the Exclusive Economic Zone and all waters beyond the jurisdiction of any other State. <Explanation>For the purposes of this clause, \"Exclusive Economic Zone\" means the Exclusive Economic Zone of any other State including the Exclusive Economic Zone of India;</Explanation></Description>\\n                </Definition>\\n                <Definition id=\"2.1.f\">\\n                  <Term>\"notification\"</Term>\\n                  <Description>means a notification published in the Official Gazette;</Description>\\n                </Definition>\\n                <Definition id=\"2.1.g\">\\n                  <Term>\"other State\"</Term>\\n                  <Description>means any country other than India;</Description>\\n                </Definition>\\n                <Definition id=\"2.1.h\">\\n                  <Term>\"piracy\"</Term>\\n                  <Description>means-\\n                    <ListItem id=\"2.1.h.i\">any illegal act of violence or detention or any act of depredation committed for private ends by any person or by the crew or any passenger of a private ship and directed on the high seas against another ship or any person or property on board such ship;</ListItem>\\n                    <ListItem id=\"2.1.h.ii\">any act of voluntary participation in the operation of a ship with knowledge of facts, making it a pirate ship;</ListItem>\\n                    <ListItem id=\"2.1.h.iii\">any act of inciting or of intentionally facilitating an act described in sub-clause (i) or sub-clause (ii); or</ListItem>\\n                    <ListItem id=\"2.1.h.iv\">any act which is deemed piratical under the international law including customary international law;</ListItem>\\n                  </Description>\\n                </Definition>\\n                <Definition id=\"2.1.i\">\\n                  <Term>\"pirate ship\"</Term>\\n                  <Description>means a ship which-\\n                    <ListItem id=\"2.1.i.i\">is intended by the person in dominant control to be used for the purposes of committing any of the acts referred to in sub-clauses (i) to (iv) of clause (h); or</ListItem>\\n                    <ListItem id=\"2.1.i.ii\">has been used to commit any such act, referred to in sub-clause (i) of this clause, so long as it remains under the control of the person guilty of that act;</ListItem>\\n                  </Description>\\n                </Definition>\\n                <Definition id=\"2.1.j\">\\n                  <Term>\"ship\"</Term>\\n                  <Description>means-\\n                    <ListItem id=\"2.1.j.i\">vessel or water craft of every description, including non-displacement craft;</ListItem>\\n                    <ListItem id=\"2.1.j.ii\">sea planes and other aircraft, used or capable of being used as means of transportation on water or engaged in any operations at sea. <Explanation>For the purposes of this clause, \"aircraft\" shall have the same meaning as assigned to it in clause (1) of section 2 of the Aircraft Act, 1934 (22 of 1934);</Explanation></ListItem>\\n                  </Description>\\n                </Definition>\\n                <Definition id=\"2.1.k\">\\n                  <Term>\"stateless person\"</Term>\\n                  <Description>means a person who is not considered as a national by any country by virtue of its laws.</Description>\\n                </Definition>\\n              </Definitions>\\n            </SubSection>\\n            <SubSection id=\"2.2\">\\n              <Text>The words and expressions used in this Act and not defined but defined in the Convention, the Indian Penal Code (45 of 1860), the Code or the Territorial Waters, Continental Shelf, Exclusive Economic Zone and Other Maritime Zones Act, 1976 (80 of 1976), shall have the meanings respectively assigned to them in such Convention, the Codes or the Act.</Text>\\n            </SubSection>\\n          </SubSections>\\n        </Section>\\n      </Sections>\\n    </Enactment>\\n  </Body>\\n</LegalRuleML>\\n```', role='assistant', function_call=None, tool_calls=None))], created=1706777502, model='gpt-4-0125-preview', object='chat.completion', system_fingerprint='fp_f084bcfc79', usage=CompletionUsage(completion_tokens=1574, prompt_tokens=971, total_tokens=2545))\n"
   ]
  },
  {
   "cell_type": "code",
   "execution_count": null,
   "metadata": {
    "id": "gUkjs9Au1IJO"
   },
   "outputs": [],
   "source": [
    "response = openai.chat.completions.create(\n",
    "  model=\"gpt-4-0125-preview\",\n",
    "  messages=[\n",
    "    {\"role\": \"system\", \"content\": \"You are an XML code generator for the LegalRuleML format. You will convert the entire statutes given to you to the LegalRuleML format in a manner that is internally consistent within the statute itself. Do not ask the user to complete the conversion of the statute\"},\n",
    "    {\"role\": \"user\", \"content\": '''Encode this section of an enactment into LegalRuleML compliant XML format\n",
    "    3. Punishment for piracy. -Whoever commits any act of piracy, shall be punished-\n",
    "(i)\n",
    "with imprisonment which may extend to imprisonment for life or with fine or with both; or\n",
    "(ii)\n",
    "with death or with imprisonment for life, if such person in committing the act of piracy causes death or an attempt thereof, and in addition shall also be subject to restitution or forfeiture of property involved in the commission of such offence.\n",
    "4. Punishment for attempt to commit piracy, etc. -\n",
    "Whoever attempts to commit the offence of piracy or aids or abets or conspires or procures for the commission of such offence shall be punished with imprisonment for a term which may extend to ten years or with fine or with both.'''\n",
    "    }    ]\n",
    ")"
   ]
  },
  {
   "cell_type": "code",
   "execution_count": null,
   "metadata": {
    "colab": {
     "base_uri": "https://localhost:8080/"
    },
    "id": "yawAZjt_EvPH",
    "outputId": "3791a5c6-e406-45d3-abbd-648264627393"
   },
   "outputs": [
    {
     "name": "stdout",
     "output_type": "stream",
     "text": [
      "ChatCompletion(id='chatcmpl-8nNyemuObUSazrtnuEFb5BbQZOxll', choices=[Choice(finish_reason='stop', index=0, logprobs=None, message=ChatCompletionMessage(content='```xml\\n<LegalRuleML xmlns=\"http://docs.oasis-open.org/legalruleml/ns/v1.0\">\\n  <Rule id=\"rule1\">\\n    <Meta>\\n      <Identifier>3. Punishment for piracy</Identifier>\\n    </Meta>\\n    <Block id=\"block1\">\\n      <Statement id=\"stmt1\">\\n        <Text>Whoever commits any act of piracy, shall be punished-</Text>\\n        <Component id=\"comp1\">\\n          <Subcomponent id=\"subcomp1\">\\n            <Text>with imprisonment which may extend to imprisonment for life or with fine or with both;</Text>\\n            <Punishment id=\"punish1\">\\n              <Imprisonment id=\"imprison1\" maxLength=\"life\"/>\\n              <Or id=\"or1\"/>\\n              <Fine id=\"fine1\"/>\\n            </Punishment>\\n          </Subcomponent>\\n          <Or id=\"or2\"/>\\n          <Subcomponent id=\"subcomp2\">\\n            <Text>with death or with imprisonment for life, if such person in committing the act of piracy causes death or an attempt thereof, and in addition shall also be subject to restitution or forfeiture of property involved in the commission of such offence.</Text>\\n            <Punishment id=\"punish2\">\\n              <Death id=\"death1\"/>\\n              <Or id=\"or3\"/>\\n              <Imprisonment id=\"imprison2\" fixedLength=\"life\"/>\\n              <Condition id=\"cond1\">\\n                <If id=\"if1\">\\n                  <Event id=\"event1\">\\n                    <Cause id=\"cause1\" type=\"death or an attempt thereof\"/>\\n                  </Event>\\n                </If>\\n                <Then id=\"then1\">\\n                  <Restitution id=\"restitution1\"/>\\n                  <Or id=\"or4\"/>\\n                  <Forfeiture id=\"forfeit1\">\\n                    <Property id=\"property1\" involvedIn=\"commission of offence\"/>\\n                  </Forfeiture>\\n                </Then>\\n              </Condition>\\n            </Punishment>\\n          </Subcomponent>\\n        </Component>\\n      </Statement>\\n    </Block>\\n  </Rule>\\n\\n  <Rule id=\"rule2\">\\n    <Meta>\\n      <Identifier>4. Punishment for attempt to commit piracy, etc.</Identifier>\\n    </Meta>\\n    <Block id=\"block2\">\\n      <Statement id=\"stmt2\">\\n        <Text>Whoever attempts to commit the offence of piracy or aids or abets or conspires or procures for the commission of such offence shall be punished with imprisonment for a term which may extend to ten years or with fine or with both.</Text>\\n        <Punishment id=\"punish3\">\\n          <Imprisonment id=\"imprison3\" maxLength=\"10 years\"/>\\n          <Or id=\"or5\"/>\\n          <Fine id=\"fine2\"/>\\n        </Punishment>\\n      </Statement>\\n    </Block>\\n  </Rule>\\n</LegalRuleML>\\n```', role='assistant', function_call=None, tool_calls=None))], created=1706780932, model='gpt-4-0125-preview', object='chat.completion', system_fingerprint='fp_376b7f78b9', usage=CompletionUsage(completion_tokens=610, prompt_tokens=226, total_tokens=836))\n"
     ]
    }
   ],
   "source": [
    "print(response)"
   ]
  },
  {
   "cell_type": "markdown",
   "metadata": {
    "id": "gGQxZyQEEzY1"
   },
   "source": [
    "ChatCompletion(id='chatcmpl-8nNyemuObUSazrtnuEFb5BbQZOxll', choices=[Choice(finish_reason='stop', index=0, logprobs=None, message=ChatCompletionMessage(content='```xml\\n<LegalRuleML xmlns=\"http://docs.oasis-open.org/legalruleml/ns/v1.0\">\\n  <Rule id=\"rule1\">\\n    <Meta>\\n      <Identifier>3. Punishment for piracy</Identifier>\\n    </Meta>\\n    <Block id=\"block1\">\\n      <Statement id=\"stmt1\">\\n        <Text>Whoever commits any act of piracy, shall be punished-</Text>\\n        <Component id=\"comp1\">\\n          <Subcomponent id=\"subcomp1\">\\n            <Text>with imprisonment which may extend to imprisonment for life or with fine or with both;</Text>\\n            <Punishment id=\"punish1\">\\n              <Imprisonment id=\"imprison1\" maxLength=\"life\"/>\\n              <Or id=\"or1\"/>\\n              <Fine id=\"fine1\"/>\\n            </Punishment>\\n          </Subcomponent>\\n          <Or id=\"or2\"/>\\n          <Subcomponent id=\"subcomp2\">\\n            <Text>with death or with imprisonment for life, if such person in committing the act of piracy causes death or an attempt thereof, and in addition shall also be subject to restitution or forfeiture of property involved in the commission of such offence.</Text>\\n            <Punishment id=\"punish2\">\\n              <Death id=\"death1\"/>\\n              <Or id=\"or3\"/>\\n              <Imprisonment id=\"imprison2\" fixedLength=\"life\"/>\\n              <Condition id=\"cond1\">\\n                <If id=\"if1\">\\n                  <Event id=\"event1\">\\n                    <Cause id=\"cause1\" type=\"death or an attempt thereof\"/>\\n                  </Event>\\n                </If>\\n                <Then id=\"then1\">\\n                  <Restitution id=\"restitution1\"/>\\n                  <Or id=\"or4\"/>\\n                  <Forfeiture id=\"forfeit1\">\\n                    <Property id=\"property1\" involvedIn=\"commission of offence\"/>\\n                  </Forfeiture>\\n                </Then>\\n              </Condition>\\n            </Punishment>\\n          </Subcomponent>\\n        </Component>\\n      </Statement>\\n    </Block>\\n  </Rule>\\n\\n  <Rule id=\"rule2\">\\n    <Meta>\\n      <Identifier>4. Punishment for attempt to commit piracy, etc.</Identifier>\\n    </Meta>\\n    <Block id=\"block2\">\\n      <Statement id=\"stmt2\">\\n        <Text>Whoever attempts to commit the offence of piracy or aids or abets or conspires or procures for the commission of such offence shall be punished with imprisonment for a term which may extend to ten years or with fine or with both.</Text>\\n        <Punishment id=\"punish3\">\\n          <Imprisonment id=\"imprison3\" maxLength=\"10 years\"/>\\n          <Or id=\"or5\"/>\\n          <Fine id=\"fine2\"/>\\n        </Punishment>\\n      </Statement>\\n    </Block>\\n  </Rule>\\n</LegalRuleML>\\n```', role='assistant', function_call=None, tool_calls=None))], created=1706780932, model='gpt-4-0125-preview', object='chat.completion', system_fingerprint='fp_376b7f78b9', usage=CompletionUsage(completion_tokens=610, prompt_tokens=226, total_tokens=836))\n"
   ]
  },
  {
   "cell_type": "code",
   "execution_count": null,
   "metadata": {
    "id": "e-gMrc2K4cak"
   },
   "outputs": [],
   "source": [
    "response = openai.chat.completions.create(\n",
    "  model=\"gpt-4-0125-preview\",\n",
    "  messages=[\n",
    "    {\"role\": \"system\", \"content\": \"You are an XML code generator for the LegalRuleML format. You will convert the entire statutes given to you to the LegalRuleML format in a manner that is internally consistent within the statute itself. Do not ask the user to complete the conversion of the statute\"},\n",
    "    {\"role\": \"user\", \"content\": '''3. Punishment for piracy. -Whoever commits any act of piracy, shall be punished-\n",
    "(i)\n",
    "with imprisonment which may extend to imprisonment for life or with fine or with both; or\n",
    "(ii)\n",
    "with death or with imprisonment for life, if such person in committing the act of piracy causes death or an attempt thereof, and in addition shall also be subject to restitution or forfeiture of property involved in the commission of such offence.\n",
    "4. Punishment for attempt to commit piracy, etc. -\n",
    "Whoever attempts to commit the offence of piracy or aids or abets or conspires or procures for the commission of such offence shall be punished with imprisonment for a term which may extend to ten years or with fine or with both.'''}\n",
    "  ]\n",
    ")"
   ]
  },
  {
   "cell_type": "code",
   "execution_count": null,
   "metadata": {
    "colab": {
     "base_uri": "https://localhost:8080/"
    },
    "id": "URKaIe-b4xa_",
    "outputId": "40b86f86-06d7-452d-f679-db30fd5316d6"
   },
   "outputs": [
    {
     "name": "stdout",
     "output_type": "stream",
     "text": [
      "ChatCompletion(id='chatcmpl-8nNAqdQI27B3HOTKTRZU7DahcgFZV', choices=[Choice(finish_reason='stop', index=0, logprobs=None, message=ChatCompletionMessage(content='```xml\\n<LegalRuleML>\\n  <lrml:LegalDocument>\\n    <meta>\\n      <identification>\\n        <DocumentIdentifier>StatuteOnPiracy</DocumentIdentifier>\\n      </identification>\\n      <references/>\\n    </meta>\\n    <body>\\n      <lrml:section id=\"s3\">\\n        <lrml:title>Punishment for piracy</lrml:title>\\n        <lrml:content>\\n          Whoever commits any act of piracy, shall be punished—\\n          <lrml:subsection id=\"s3_i\">\\n            <lrml:proviso>with imprisonment which may extend to imprisonment for life or with fine or with both;</lrml:proviso>\\n            <lrml:connector>or</lrml:connector>\\n          </lrml:subsection>\\n          <lrml:subsection id=\"s3_ii\">\\n            <lrml:proviso>with death or with imprisonment for life, if such person in committing the act of piracy causes death or an attempt thereof, and in addition shall also be subject to restitution or forfeiture of property involved in the commission of such offence.</lrml:proviso>\\n          </lrml:subsection>\\n        </lrml:content>\\n      </lrml:section>\\n      <lrml:section id=\"s4\">\\n        <lrml:title>Punishment for attempt to commit piracy, etc.</lrml:title>\\n        <lrml:content>\\n          Whoever attempts to commit the offence of piracy or aids or abets or conspires or procures for the commission of such offence shall be punished with imprisonment for a term which may extend to ten years or with fine or with both.\\n        </lrml:content>\\n      </lrml:section>\\n    </body>\\n  </lrml:LegalDocument>\\n</LegalRuleML>\\n```\\n\\nThis XML represents the statutes provided in LegalRuleML format. It defines two main sections (`s3` and `s4`) referring to the specified statutes concerning punishments for piracy and attempts to commit piracy, respectively. The structure allows for clear identification and references to specific provisions, facilitating legal text processing and analysis.', role='assistant', function_call=None, tool_calls=None))], created=1706777844, model='gpt-4-0125-preview', object='chat.completion', system_fingerprint='fp_f084bcfc79', usage=CompletionUsage(completion_tokens=437, prompt_tokens=210, total_tokens=647))\n"
     ]
    }
   ],
   "source": [
    "print(response)"
   ]
  },
  {
   "cell_type": "markdown",
   "metadata": {
    "id": "SlUH3uBm5CVH"
   },
   "source": [
    "ChatCompletion(id='chatcmpl-8nNAqdQI27B3HOTKTRZU7DahcgFZV', choices=[Choice(finish_reason='stop', index=0, logprobs=None, message=ChatCompletionMessage(content='```xml\\n<LegalRuleML>\\n  <lrml:LegalDocument>\\n    <meta>\\n      <identification>\\n        <DocumentIdentifier>StatuteOnPiracy</DocumentIdentifier>\\n      </identification>\\n      <references/>\\n    </meta>\\n    <body>\\n      <lrml:section id=\"s3\">\\n        <lrml:title>Punishment for piracy</lrml:title>\\n        <lrml:content>\\n          Whoever commits any act of piracy, shall be punished—\\n          <lrml:subsection id=\"s3_i\">\\n            <lrml:proviso>with imprisonment which may extend to imprisonment for life or with fine or with both;</lrml:proviso>\\n            <lrml:connector>or</lrml:connector>\\n          </lrml:subsection>\\n          <lrml:subsection id=\"s3_ii\">\\n            <lrml:proviso>with death or with imprisonment for life, if such person in committing the act of piracy causes death or an attempt thereof, and in addition shall also be subject to restitution or forfeiture of property involved in the commission of such offence.</lrml:proviso>\\n          </lrml:subsection>\\n        </lrml:content>\\n      </lrml:section>\\n      <lrml:section id=\"s4\">\\n        <lrml:title>Punishment for attempt to commit piracy, etc.</lrml:title>\\n        <lrml:content>\\n          Whoever attempts to commit the offence of piracy or aids or abets or conspires or procures for the commission of such offence shall be punished with imprisonment for a term which may extend to ten years or with fine or with both.\\n        </lrml:content>\\n      </lrml:section>\\n    </body>\\n  </lrml:LegalDocument>\\n</LegalRuleML>\\n```\\n\\nThis XML represents the statutes provided in LegalRuleML format. It defines two main sections (`s3` and `s4`) referring to the specified statutes concerning punishments for piracy and attempts to commit piracy, respectively. The structure allows for clear identification and references to specific provisions, facilitating legal text processing and analysis.', role='assistant', function_call=None, tool_calls=None))], created=1706777844, model='gpt-4-0125-preview', object='chat.completion', system_fingerprint='fp_f084bcfc79', usage=CompletionUsage(completion_tokens=437, prompt_tokens=210, total_tokens=647))\n"
   ]
  },
  {
   "cell_type": "code",
   "execution_count": null,
   "metadata": {
    "id": "lUnejQZ-4_WA"
   },
   "outputs": [],
   "source": []
  },
  {
   "cell_type": "markdown",
   "metadata": {
    "id": "EUAEDKhR63qr"
   },
   "source": [
    "**THIRD APPROACH: SPECIFY ENCODING OF PRESCRIPTIVE RULES**\n",
    "\n"
   ]
  },
  {
   "cell_type": "code",
   "execution_count": null,
   "metadata": {
    "id": "WBwKMhpA7Hua"
   },
   "outputs": [],
   "source": [
    "response = openai.chat.completions.create(\n",
    "  model=\"gpt-4-0125-preview\",\n",
    "  messages=[\n",
    "    {\"role\": \"system\", \"content\": \"You are an XML code generator for the LegalRuleML format. You will convert the entire statutes given to you to the LegalRuleML format in a manner that is internally consistent within the statute itself. Do not ask the user to complete the conversion of the statute\"},\n",
    "    {\"role\": \"user\", \"content\": '''3. Punishment for piracy. -Whoever commits any act of piracy, shall be punished-\n",
    "(i)\n",
    "with imprisonment which may extend to imprisonment for life or with fine or with both; or\n",
    "(ii)\n",
    "with death or with imprisonment for life, if such person in committing the act of piracy causes death or an attempt thereof, and in addition shall also be subject to restitution or forfeiture of property involved in the commission of such offence.\n",
    "4. Punishment for attempt to commit piracy, etc. -\n",
    "Whoever attempts to commit the offence of piracy or aids or abets or conspires or procures for the commission of such offence shall be punished with imprisonment for a term which may extend to ten years or with fine or with both.'''},\n",
    "    {\"role\": \"assistant\", \"content\": '''<LegalRuleML xmlns=\"https://www.oasis-open.org/committees/legalruleml\">\n",
    "  <lrml:PrescriptiveStatement>\n",
    "    <lrml:Rule id=\"PunishmentForPiracy\">\n",
    "      <lrml:if>\n",
    "        <lrml:Fact>\n",
    "          <lrml:Rel iri=\"#commitPiracy\"/>\n",
    "        </lrml:Fact>\n",
    "      </lrml:if>\n",
    "      <lrml:then>\n",
    "        <lrml:Obligation>\n",
    "          <lrml:Sanction>\n",
    "            <lrml:Penalty>\n",
    "              <lrml:Type iri=\"#imprisonment\"/>\n",
    "              <lrml:Duration max=\"life\"/>\n",
    "            </lrml:Penalty>\n",
    "            <lrml:Condition>\n",
    "              <lrml:CausesDeathOrAttempt/>\n",
    "              <lrml:AdditionalSanctions>\n",
    "                <lrml:Restitution/>\n",
    "                <lrml:ForfeitureOfProperty/>\n",
    "              </lrml:AdditionalSanctions>\n",
    "            </lrml:Condition>\n",
    "          </lrml:Sanction>\n",
    "        </lrml:Obligation>\n",
    "      </lrml:then>\n",
    "    </lrml:Rule>\n",
    "\n",
    "    <lrml:Rule id=\"PunishmentForAttemptToCommitPiracy\">\n",
    "      <lrml:if>\n",
    "        <lrml:Or>\n",
    "          <lrml:Fact>\n",
    "            <lrml:Rel iri=\"#attemptToCommitPiracy\"/>\n",
    "          </lrml:Fact>\n",
    "          <lrml:Fact>\n",
    "            <lrml:Rel iri=\"#aidAbetConspireProcurePiracy\"/>\n",
    "          </lrml:Fact>\n",
    "        </lrml:Or>\n",
    "      </lrml:if>\n",
    "      <lrml:then>\n",
    "        <lrml:Obligation>\n",
    "          <lrml:Sanction>\n",
    "            <lrml:Penalty>\n",
    "              <lrml:Type iri=\"#imprisonment\"/>\n",
    "              <lrml:Duration max=\"10 years\"/>\n",
    "            </lrml:Penalty>\n",
    "            <lrml:Or>\n",
    "              <lrml:Penalty iri=\"#fine\"/>\n",
    "              <lrml:Penalty iri=\"#bothImprisonmentAndFine\"/>\n",
    "            </lrml:Or>\n",
    "          </lrml:Sanction>\n",
    "        </lrml:Obligation>\n",
    "      </lrml:then>\n",
    "    </lrml:Rule>\n",
    "  </lrml:PrescriptiveStatement>\n",
    "</LegalRuleML>\n",
    "'''}\n",
    "    {\"role\": \"user\", \"content\": '''Encode this part of the statute now, utilising the prescriptive and constitutive encoding rules with deontic and modal operators to generate formulae.extra_body=\n",
    "    5. Punishment for organising or directing others to participate in an act of piracy. -\n",
    "Whoever participates or organises or directs other person to participate in an act of piracy shall be punished with imprisonment for a term which may extend to fourteen years or with fine or with both.\n",
    "6. Conferment of power of arrest, investigation, etc. -\n",
    "Notwithstanding anything contained in the Code, the Central Government may, for the purposes of this Act, by notification, confer the powers of arrest, investigation and prosecution of any person exercisable by a police officer under the Code on any of its officer or such officer of a State Government.\n",
    "7. Arrest of persons and seizure of ship and property. -\n",
    "(1)\n",
    "The authorised personnel may, either generally or on suspicion that a ship is engaged in piracy on the high seas, board such ship and arrest the persons or seize the pirate ship and property on board.\n",
    "(2)\n",
    "The ship or property seized under sub-section (1) shall be disposed of only by the order of the court.'''}]\n",
    ")"
   ]
  },
  {
   "cell_type": "code",
   "execution_count": null,
   "metadata": {
    "colab": {
     "base_uri": "https://localhost:8080/"
    },
    "id": "fB_XBfGA8gPX",
    "outputId": "cfcadb88-c2c6-4eb2-840d-64e4dcb340eb"
   },
   "outputs": [
    {
     "name": "stdout",
     "output_type": "stream",
     "text": [
      "ChatCompletion(id='chatcmpl-8nNRlBiFVPH2ucSbfpBJnSCwCc5tR', choices=[Choice(finish_reason='stop', index=0, logprobs=None, message=ChatCompletionMessage(content='```xml\\n<LegalRuleML xmlns=\"https://www.oasis-open.org/committees/legalruleml\">\\n  <lrml:PrescriptiveStatement>\\n    <lrml:Rule id=\"PunishmentForOrganizingPiracy\">\\n      <lrml:if>\\n        <lrml:Or>\\n          <lrml:Fact>\\n            <lrml:Rel iri=\"#participatesInPiracy\"/>\\n          </lrml:Fact>\\n          <lrml:Fact>\\n            <lrml:Rel iri=\"#organizesPiracy\"/>\\n          </lrml:Fact>\\n          <lrml:Fact>\\n            <lrml:Rel iri=\"#directsOthersToParticipateInPiracy\"/>\\n          </lrml:Fact>\\n        </lrml:Or>\\n      </lrml:if>\\n      <lrml:then>\\n        <lrml:Obligation>\\n          <lrml:Sanction>\\n            <lrml:Penalty>\\n              <lrml:Type iri=\"#imprisonment\"/>\\n              <lrml:Duration max=\"14 years\"/>\\n            </lrml:Penalty>\\n            <lrml:Or>\\n              <lrml:Penalty iri=\"#fine\"/>\\n              <lrml:Penalty iri=\"#bothImprisonmentAndFine\"/>\\n            </lrml:Or>\\n          </lrml:Sanction>\\n        </lrml:Obligation>\\n      </lrml:then>\\n    </lrml:Rule>\\n  </lrml:PrescriptiveStatement>\\n\\n  <lrml:ConstitutiveStatement>\\n    <lrml:Rule id=\"ConfermentOfPowers\">\\n      <lrml:Condition>\\n        <lrml:Modal modality=\"permits\">\\n          <lrml:Actor iri=\"#CentralGovernment\"/>\\n          <lrml:Action iri=\"#conferPowers\"/>\\n          <lrml:Beneficiary>\\n            <lrml:Actor iri=\"#Officer\"/>\\n          </lrml:Beneficiary>\\n        </lrml:Modal>\\n      </lrml:Condition>\\n      <lrml:then>\\n        <lrml:CountAs>\\n          <lrml:Action iri=\"#HasPowersOfArrestInvestigationAndProsecution\"/>\\n        </lrml:CountAs>\\n      </lrml:then>\\n    </lrml:Rule>\\n  </lrml:ConstitutiveStatement>\\n\\n  <lrml:PrescriptiveStatement>\\n    <lrml:Rule id=\"ArrestAndSeizure\">\\n      <lrml:if>\\n        <lrml:Modal modality=\"entitled\">\\n          <lrml:Actor iri=\"#AuthorisedPersonnel\"/>\\n          <lrml:Action iri=\"#boardAndArrestOrSeizeShipAndProperty\"/>\\n        </lrml:Modal>\\n      </lrml:if>\\n      <lrml:then>\\n        <lrml:Obligation>\\n          <lrml:Condition>\\n            <lrml:Condition id=\"onlyByCourtOrder\">\\n              <lrml:Modal modality=\"obligated\">\\n                <lrml:Actor iri=\"#Court\"/>\\n                <lrml:Action iri=\"#orderDisposalOfSeizedShipOrProperty\"/>\\n              </lrml:Modal>\\n            </lrml:Condition>\\n          </lrml:Condition>\\n        </lrml:Obligation>\\n      </lrml:then>\\n    </lrml:Rule>\\n  </lrml:PrescriptiveStatement>\\n</LegalRuleML>\\n```', role='assistant', function_call=None, tool_calls=None))], created=1706778893, model='gpt-4-0125-preview', object='chat.completion', system_fingerprint='fp_156aa2d12a', usage=CompletionUsage(completion_tokens=731, prompt_tokens=971, total_tokens=1702))\n"
     ]
    }
   ],
   "source": [
    "print(response)"
   ]
  },
  {
   "cell_type": "markdown",
   "metadata": {
    "id": "2ab5IHpH9GGH"
   },
   "source": [
    "ChatCompletion(id='chatcmpl-8nNRlBiFVPH2ucSbfpBJnSCwCc5tR', choices=[Choice(finish_reason='stop', index=0, logprobs=None, message=ChatCompletionMessage(content='```xml\\n<LegalRuleML xmlns=\"https://www.oasis-open.org/committees/legalruleml\">\\n  <lrml:PrescriptiveStatement>\\n    <lrml:Rule id=\"PunishmentForOrganizingPiracy\">\\n      <lrml:if>\\n        <lrml:Or>\\n          <lrml:Fact>\\n            <lrml:Rel iri=\"#participatesInPiracy\"/>\\n          </lrml:Fact>\\n          <lrml:Fact>\\n            <lrml:Rel iri=\"#organizesPiracy\"/>\\n          </lrml:Fact>\\n          <lrml:Fact>\\n            <lrml:Rel iri=\"#directsOthersToParticipateInPiracy\"/>\\n          </lrml:Fact>\\n        </lrml:Or>\\n      </lrml:if>\\n      <lrml:then>\\n        <lrml:Obligation>\\n          <lrml:Sanction>\\n            <lrml:Penalty>\\n              <lrml:Type iri=\"#imprisonment\"/>\\n              <lrml:Duration max=\"14 years\"/>\\n            </lrml:Penalty>\\n            <lrml:Or>\\n              <lrml:Penalty iri=\"#fine\"/>\\n              <lrml:Penalty iri=\"#bothImprisonmentAndFine\"/>\\n            </lrml:Or>\\n          </lrml:Sanction>\\n        </lrml:Obligation>\\n      </lrml:then>\\n    </lrml:Rule>\\n  </lrml:PrescriptiveStatement>\\n\\n  <lrml:ConstitutiveStatement>\\n    <lrml:Rule id=\"ConfermentOfPowers\">\\n      <lrml:Condition>\\n        <lrml:Modal modality=\"permits\">\\n          <lrml:Actor iri=\"#CentralGovernment\"/>\\n          <lrml:Action iri=\"#conferPowers\"/>\\n          <lrml:Beneficiary>\\n            <lrml:Actor iri=\"#Officer\"/>\\n          </lrml:Beneficiary>\\n        </lrml:Modal>\\n      </lrml:Condition>\\n      <lrml:then>\\n        <lrml:CountAs>\\n          <lrml:Action iri=\"#HasPowersOfArrestInvestigationAndProsecution\"/>\\n        </lrml:CountAs>\\n      </lrml:then>\\n    </lrml:Rule>\\n  </lrml:ConstitutiveStatement>\\n\\n  <lrml:PrescriptiveStatement>\\n    <lrml:Rule id=\"ArrestAndSeizure\">\\n      <lrml:if>\\n        <lrml:Modal modality=\"entitled\">\\n          <lrml:Actor iri=\"#AuthorisedPersonnel\"/>\\n          <lrml:Action iri=\"#boardAndArrestOrSeizeShipAndProperty\"/>\\n        </lrml:Modal>\\n      </lrml:if>\\n      <lrml:then>\\n        <lrml:Obligation>\\n          <lrml:Condition>\\n            <lrml:Condition id=\"onlyByCourtOrder\">\\n              <lrml:Modal modality=\"obligated\">\\n                <lrml:Actor iri=\"#Court\"/>\\n                <lrml:Action iri=\"#orderDisposalOfSeizedShipOrProperty\"/>\\n              </lrml:Modal>\\n            </lrml:Condition>\\n          </lrml:Condition>\\n        </lrml:Obligation>\\n      </lrml:then>\\n    </lrml:Rule>\\n  </lrml:PrescriptiveStatement>\\n</LegalRuleML>\\n```', role='assistant', function_call=None, tool_calls=None))], created=1706778893, model='gpt-4-0125-preview', object='chat.completion', system_fingerprint='fp_156aa2d12a', usage=CompletionUsage(completion_tokens=731, prompt_tokens=971, total_tokens=1702))\n"
   ]
  },
  {
   "cell_type": "code",
   "execution_count": null,
   "metadata": {
    "id": "bnYPAgBJ9EQJ"
   },
   "outputs": [],
   "source": []
  },
  {
   "cell_type": "markdown",
   "metadata": {
    "id": "1QwoeHo4_mdG"
   },
   "source": [
    "**FINAL STEP: USING IN-CONTEXT LEARNING VIA EXAMPLE**\n",
    "\n",
    "\n"
   ]
  },
  {
   "cell_type": "code",
   "execution_count": null,
   "metadata": {
    "id": "-F0eJvLY_xHC"
   },
   "outputs": [],
   "source": [
    "response = openai.chat.completions.create(\n",
    "  model=\"gpt-4-0125-preview\",\n",
    "  messages=[\n",
    "    {\"role\": \"system\", \"content\": \"You are an XML code generator for the LegalRuleML format. You will convert the entire statutes given to you to the LegalRuleML format in a manner that is internally consistent within the statute itself. Do not ask the user to complete the conversion of the statute\"},\n",
    "    {\"role\": \"user\", \"content\": '''3. Punishment for piracy. -Whoever commits any act of piracy, shall be punished-\n",
    "(i)\n",
    "with imprisonment which may extend to imprisonment for life or with fine or with both; or\n",
    "(ii)\n",
    "with death or with imprisonment for life, if such person in committing the act of piracy causes death or an attempt thereof, and in addition shall also be subject to restitution or forfeiture of property involved in the commission of such offence.\n",
    "4. Punishment for attempt to commit piracy, etc. -\n",
    "Whoever attempts to commit the offence of piracy or aids or abets or conspires or procures for the commission of such offence shall be punished with imprisonment for a term which may extend to ten years or with fine or with both.'''},\n",
    "    {\"role\": \"assistant\", \"content\": '''<LegalRuleML xmlns=\"https://www.oasis-open.org/committees/legalruleml\">\n",
    "  <lrml:PrescriptiveStatement>\n",
    "    <lrml:Rule id=\"PunishmentForPiracy\">\n",
    "      <lrml:if>\n",
    "        <lrml:Fact>\n",
    "          <lrml:Rel iri=\"#commitPiracy\"/>\n",
    "        </lrml:Fact>\n",
    "      </lrml:if>\n",
    "      <lrml:then>\n",
    "        <lrml:Obligation>\n",
    "          <lrml:Sanction>\n",
    "            <lrml:Penalty>\n",
    "              <lrml:Type iri=\"#imprisonment\"/>\n",
    "              <lrml:Duration max=\"life\"/>\n",
    "            </lrml:Penalty>\n",
    "            <lrml:Condition>\n",
    "              <lrml:CausesDeathOrAttempt/>\n",
    "              <lrml:AdditionalSanctions>\n",
    "                <lrml:Restitution/>\n",
    "                <lrml:ForfeitureOfProperty/>\n",
    "              </lrml:AdditionalSanctions>\n",
    "            </lrml:Condition>\n",
    "          </lrml:Sanction>\n",
    "        </lrml:Obligation>\n",
    "      </lrml:then>\n",
    "    </lrml:Rule>\n",
    "\n",
    "    <lrml:Rule id=\"PunishmentForAttemptToCommitPiracy\">\n",
    "      <lrml:if>\n",
    "        <lrml:Or>\n",
    "          <lrml:Fact>\n",
    "            <lrml:Rel iri=\"#attemptToCommitPiracy\"/>\n",
    "          </lrml:Fact>\n",
    "          <lrml:Fact>\n",
    "            <lrml:Rel iri=\"#aidAbetConspireProcurePiracy\"/>\n",
    "          </lrml:Fact>\n",
    "        </lrml:Or>\n",
    "      </lrml:if>\n",
    "      <lrml:then>\n",
    "        <lrml:Obligation>\n",
    "          <lrml:Sanction>\n",
    "            <lrml:Penalty>\n",
    "              <lrml:Type iri=\"#imprisonment\"/>\n",
    "              <lrml:Duration max=\"10 years\"/>\n",
    "            </lrml:Penalty>\n",
    "            <lrml:Or>\n",
    "              <lrml:Penalty iri=\"#fine\"/>\n",
    "              <lrml:Penalty iri=\"#bothImprisonmentAndFine\"/>\n",
    "            </lrml:Or>\n",
    "          </lrml:Sanction>\n",
    "        </lrml:Obligation>\n",
    "      </lrml:then>\n",
    "    </lrml:Rule>\n",
    "  </lrml:PrescriptiveStatement>\n",
    "</LegalRuleML>\n",
    "'''},\n",
    "    {\"role\": \"user\", \"content\": '''Similarly encode this part of a separate statute, utilising the deontic and modal operators to make formulae out of prescriptive and constitutive statements\n",
    "    6. Written informed consent of surrogate mother.\n",
    "(1)\n",
    "No person shall seek or conduct surrogacy procedures unless he has—\n",
    "(i)\n",
    "explained all known side effects and after effects of such procedures to the surrogate mother concerned; and\n",
    "(ii)\n",
    "obtained in the prescribed form, the written informed consent of the surrogate mother to undergo such procedures in the language she understands.\n",
    "(2)\n",
    "Notwithstanding anything contained in sub-section (1), the surrogate mother shall have an option to withdraw her consent for surrogacy before the implantation of human embryo in her womb.\n",
    "7. Prohibition to abandon child born through surrogacy.\n",
    "The intending couple or intending woman shall not abandon the child, born out of a surrogacy procedure, whether within India or outside, for any reason whatsoever, including but not restricted to, any genetic defect, birth defect, any other medical condition, the defects developing subsequently, sex of the child or conception of more than one baby and the like.'''} ] )"
   ]
  },
  {
   "cell_type": "code",
   "execution_count": null,
   "metadata": {
    "colab": {
     "base_uri": "https://localhost:8080/"
    },
    "id": "MRZIrXYuBPXZ",
    "outputId": "5cc8f04a-1449-4ac5-d421-aa882df49d19"
   },
   "outputs": [
    {
     "name": "stdout",
     "output_type": "stream",
     "text": [
      "ChatCompletion(id='chatcmpl-8nNlYUwb13OLTmV6l4CkNCkcEW77l', choices=[Choice(finish_reason='stop', index=0, logprobs=None, message=ChatCompletionMessage(content='```xml\\n<LegalRuleML xmlns=\"https://www.oasis-open.org/committees/legalruleml\">\\n  <lrml:PrescriptiveStatement>\\n    <lrml:Rule id=\"ConsentForSurrogacy\">\\n      <lrml:if>\\n        <lrml:Action iri=\"#seekOrConductSurrogacyProcedures\"/>\\n      </lrml:if>\\n      <lrml:then>\\n        <lrml:Obligation>\\n          <lrml:DeonticExpression>\\n            <lrml:Must>\\n              <lrml:And>\\n                <lrml:Content>\\n                  <lrml:Fact>\\n                    <lrml:Rel iri=\"#explainSideEffects\"/>\\n                    <lrml:ToObject iri=\"#surrogateMother\"/>\\n                  </lrml:Fact>\\n                  <lrml:Fact>\\n                    <lrml:Rel iri=\"#obtainWrittenInformedConsent\"/>\\n                    <lrml:ToObject iri=\"#surrogateMother\"/>\\n                    <lrml:Modal>\\n                      <lrml:InForm>\\n                        <lrml:PrescribedForm/>\\n                      </lrml:InForm>\\n                      <lrml:LanguageUnderstoodBy iri=\"#surrogateMother\"/>\\n                    </lrml:Modal>\\n                  </lrml:Fact>\\n                </lrml:And>\\n              </lrml:Must>\\n            </lrml:DeonticExpression>\\n          </lrml:Obligation>\\n        </lrml:then>\\n        <lrml:PermissiveStatement>\\n          <lrml:Permission>\\n            <lrml:DeonticExpression>\\n              <lrml:May>\\n                <lrml:Action iri=\"#withdrawConsent\">\\n                  <lrml:Before iri=\"#implantationOfHumanEmbryo\"/>\\n                </lrml:Action>\\n              </lrml:May>\\n            </lrml:DeonticExpression>\\n          </lrml:Permission>\\n        </lrml:PermissiveStatement>\\n    </lrml:Rule>\\n  \\n    <lrml:Rule id=\"ProhibitionToAbandonChild\">\\n      <lrml:if>\\n        <lrml:Fact>\\n          <lrml:Rel iri=\"#childBornThroughSurrogacy\"/>\\n        </lrml:Fact>\\n      </lrml:if>\\n      <lrml:then>\\n        <lrml:Prohibition>\\n          <lrml:DeonticExpression>\\n            <lrml:MustNot>\\n              <lrml:Action iri=\"#abandonChild\">\\n                <lrml:Including>\\n                  <lrml:GeneticDefect/>\\n                  <lrml:BirthDefect/>\\n                  <lrml:MedicalCondition/>\\n                  <lrml:SubsequentDefects/>\\n                  <lrml:SexOfChild/>\\n                  <lrml:ConceptionOfMoreThanOneBaby/>\\n                </lrml:Including>\\n              </lrml:Action>\\n            </lrml:MustNot>\\n          </lrml:DeonticExpression>\\n        </lrml:Prohibition>\\n      </lrml:then>\\n    </lrml:Rule>\\n  </lrml:PrescriptiveStatement>\\n</LegalRuleML>\\n```', role='assistant', function_call=None, tool_calls=None))], created=1706780120, model='gpt-4-0125-preview', object='chat.completion', system_fingerprint='fp_f084bcfc79', usage=CompletionUsage(completion_tokens=658, prompt_tokens=959, total_tokens=1617))\n"
     ]
    }
   ],
   "source": [
    "print(response)"
   ]
  },
  {
   "cell_type": "markdown",
   "metadata": {
    "id": "8nvzKgQNBtRx"
   },
   "source": [
    "ChatCompletion(id='chatcmpl-8nNlYUwb13OLTmV6l4CkNCkcEW77l', choices=[Choice(finish_reason='stop', index=0, logprobs=None, message=ChatCompletionMessage(content='```xml\\n<LegalRuleML xmlns=\"https://www.oasis-open.org/committees/legalruleml\">\\n  <lrml:PrescriptiveStatement>\\n    <lrml:Rule id=\"ConsentForSurrogacy\">\\n      <lrml:if>\\n        <lrml:Action iri=\"#seekOrConductSurrogacyProcedures\"/>\\n      </lrml:if>\\n      <lrml:then>\\n        <lrml:Obligation>\\n          <lrml:DeonticExpression>\\n            <lrml:Must>\\n              <lrml:And>\\n                <lrml:Content>\\n                  <lrml:Fact>\\n                    <lrml:Rel iri=\"#explainSideEffects\"/>\\n                    <lrml:ToObject iri=\"#surrogateMother\"/>\\n                  </lrml:Fact>\\n                  <lrml:Fact>\\n                    <lrml:Rel iri=\"#obtainWrittenInformedConsent\"/>\\n                    <lrml:ToObject iri=\"#surrogateMother\"/>\\n                    <lrml:Modal>\\n                      <lrml:InForm>\\n                        <lrml:PrescribedForm/>\\n                      </lrml:InForm>\\n                      <lrml:LanguageUnderstoodBy iri=\"#surrogateMother\"/>\\n                    </lrml:Modal>\\n                  </lrml:Fact>\\n                </lrml:And>\\n              </lrml:Must>\\n            </lrml:DeonticExpression>\\n          </lrml:Obligation>\\n        </lrml:then>\\n        <lrml:PermissiveStatement>\\n          <lrml:Permission>\\n            <lrml:DeonticExpression>\\n              <lrml:May>\\n                <lrml:Action iri=\"#withdrawConsent\">\\n                  <lrml:Before iri=\"#implantationOfHumanEmbryo\"/>\\n                </lrml:Action>\\n              </lrml:May>\\n            </lrml:DeonticExpression>\\n          </lrml:Permission>\\n        </lrml:PermissiveStatement>\\n    </lrml:Rule>\\n  \\n    <lrml:Rule id=\"ProhibitionToAbandonChild\">\\n      <lrml:if>\\n        <lrml:Fact>\\n          <lrml:Rel iri=\"#childBornThroughSurrogacy\"/>\\n        </lrml:Fact>\\n      </lrml:if>\\n      <lrml:then>\\n        <lrml:Prohibition>\\n          <lrml:DeonticExpression>\\n            <lrml:MustNot>\\n              <lrml:Action iri=\"#abandonChild\">\\n                <lrml:Including>\\n                  <lrml:GeneticDefect/>\\n                  <lrml:BirthDefect/>\\n                  <lrml:MedicalCondition/>\\n                  <lrml:SubsequentDefects/>\\n                  <lrml:SexOfChild/>\\n                  <lrml:ConceptionOfMoreThanOneBaby/>\\n                </lrml:Including>\\n              </lrml:Action>\\n            </lrml:MustNot>\\n          </lrml:DeonticExpression>\\n        </lrml:Prohibition>\\n      </lrml:then>\\n    </lrml:Rule>\\n  </lrml:PrescriptiveStatement>\\n</LegalRuleML>\\n```', role='assistant', function_call=None, tool_calls=None))], created=1706780120, model='gpt-4-0125-preview', object='chat.completion', system_fingerprint='fp_f084bcfc79', usage=CompletionUsage(completion_tokens=658, prompt_tokens=959, total_tokens=1617))"
   ]
  },
  {
   "cell_type": "code",
   "execution_count": null,
   "metadata": {
    "id": "aBVpD3RQGjyO"
   },
   "outputs": [],
   "source": [
    "response = openai.chat.completions.create(\n",
    "  model=\"gpt-4-0125-preview\",\n",
    "  messages=[\n",
    "    {\"role\": \"system\", \"content\": \"You are an XML code generator for the LegalRuleML format. You will convert the entire statutes given to you to the LegalRuleML format in a manner that is internally consistent within the statute itself. Do not ask the user to complete the conversion of the statute\"},\n",
    "    {\"role\": \"user\", \"content\": '''3. Punishment for piracy. -Whoever commits any act of piracy, shall be punished-\n",
    "(i)\n",
    "with imprisonment which may extend to imprisonment for life or with fine or with both; or\n",
    "(ii)\n",
    "with death or with imprisonment for life, if such person in committing the act of piracy causes death or an attempt thereof, and in addition shall also be subject to restitution or forfeiture of property involved in the commission of such offence.\n",
    "4. Punishment for attempt to commit piracy, etc. -\n",
    "Whoever attempts to commit the offence of piracy or aids or abets or conspires or procures for the commission of such offence shall be punished with imprisonment for a term which may extend to ten years or with fine or with both.'''},\n",
    "    {\"role\": \"assistant\", \"content\": '''<LegalRuleML xmlns=\"https://www.oasis-open.org/committees/legalruleml\">\n",
    "  <lrml:PrescriptiveStatement>\n",
    "    <lrml:Rule id=\"PunishmentForPiracy\">\n",
    "      <lrml:if>\n",
    "        <lrml:Fact>\n",
    "          <lrml:Rel iri=\"#commitPiracy\"/>\n",
    "        </lrml:Fact>\n",
    "      </lrml:if>\n",
    "      <lrml:then>\n",
    "        <lrml:Obligation>\n",
    "          <lrml:Sanction>\n",
    "            <lrml:Penalty>\n",
    "              <lrml:Type iri=\"#imprisonment\"/>\n",
    "              <lrml:Duration max=\"life\"/>\n",
    "            </lrml:Penalty>\n",
    "            <lrml:Condition>\n",
    "              <lrml:CausesDeathOrAttempt/>\n",
    "              <lrml:AdditionalSanctions>\n",
    "                <lrml:Restitution/>\n",
    "                <lrml:ForfeitureOfProperty/>\n",
    "              </lrml:AdditionalSanctions>\n",
    "            </lrml:Condition>\n",
    "          </lrml:Sanction>\n",
    "        </lrml:Obligation>\n",
    "      </lrml:then>\n",
    "    </lrml:Rule>\n",
    "\n",
    "    <lrml:Rule id=\"PunishmentForAttemptToCommitPiracy\">\n",
    "      <lrml:if>\n",
    "        <lrml:Or>\n",
    "          <lrml:Fact>\n",
    "            <lrml:Rel iri=\"#attemptToCommitPiracy\"/>\n",
    "          </lrml:Fact>\n",
    "          <lrml:Fact>\n",
    "            <lrml:Rel iri=\"#aidAbetConspireProcurePiracy\"/>\n",
    "          </lrml:Fact>\n",
    "        </lrml:Or>\n",
    "      </lrml:if>\n",
    "      <lrml:then>\n",
    "        <lrml:Obligation>\n",
    "          <lrml:Sanction>\n",
    "            <lrml:Penalty>\n",
    "              <lrml:Type iri=\"#imprisonment\"/>\n",
    "              <lrml:Duration max=\"10 years\"/>\n",
    "            </lrml:Penalty>\n",
    "            <lrml:Or>\n",
    "              <lrml:Penalty iri=\"#fine\"/>\n",
    "              <lrml:Penalty iri=\"#bothImprisonmentAndFine\"/>\n",
    "            </lrml:Or>\n",
    "          </lrml:Sanction>\n",
    "        </lrml:Obligation>\n",
    "      </lrml:then>\n",
    "    </lrml:Rule>\n",
    "  </lrml:PrescriptiveStatement>\n",
    "</LegalRuleML>\n",
    "'''},\n",
    "    {\"role\": \"user\", \"content\": '''Similarly encode this part of a separate statute, utilising the deontic and modal operators to make formulae out of prescriptive and constitutive statements\n",
    "    8. Responsibilities of the refurbisher.\n",
    "(1)\n",
    "collect e-waste generated during the process of refurbishing and channelise the waste to authorised dismantler or recycler through its collection centre;\n",
    "(2)\n",
    "make an application in Form 1(a) in accordance with the procedure laid down in sub-rule (4) of rule 13 to the concerned State Pollution Control Board for grant of one time authorisation;\n",
    "(a)\n",
    "the concerned State Pollution Control Board shall authorise the Refurbisher on one time basis as per Form 1 (bb) and authorisation would be deemed as considered if not objected to within a period of thirty days;\n",
    "(b)\n",
    "the authorised Refurbisher shall be required to submit details of e-waste generated to the concerned State Pollution Control Board on yearly basis;\n",
    "(3)\n",
    "ensure that no damage is caused to the environment during storage and transportation of e-waste;\n",
    "(4)\n",
    "ensure that the refurbishing process do not have any adverse effect on the health and the environment;\n",
    "(5)\n",
    "ensure that the e-waste thus generated is safely transported to authorised collection centres or dismantlers or recyclers;\n",
    "(6)\n",
    "file annual returns in Form-3 to the concerned State Pollution Control Board, on or before the 30th day of June following the financial year to which that return relates;\n",
    "(7)\n",
    "maintain records of the e-waste handled in Form-2 and such records should be available for scrutiny by the appropriate authority.'''} ] )\n"
   ]
  },
  {
   "cell_type": "code",
   "execution_count": null,
   "metadata": {
    "colab": {
     "base_uri": "https://localhost:8080/"
    },
    "id": "IJpavHLvG04m",
    "outputId": "0296670b-b4b0-47d4-b3ce-118d4a6d9ec4"
   },
   "outputs": [
    {
     "name": "stdout",
     "output_type": "stream",
     "text": [
      "ChatCompletion(id='chatcmpl-8nO8GePbj4DdvLBV4aD0iXUyU8eXu', choices=[Choice(finish_reason='stop', index=0, logprobs=None, message=ChatCompletionMessage(content='```xml\\n<LegalRuleML xmlns=\"https://www.oasis-open.org/committees/legalruleml\">\\n  <lrml:PrescriptiveStatement>\\n    <lrml:Rule id=\"ResponsibilitiesOfTheRefurbisher\">\\n      <lrml:Meta>\\n        <lrml:Rel iri=\"#Responsibilities\"/>\\n        <lrml:Actor iri=\"#Refurbisher\"/>\\n      </lrml:Meta>\\n      <lrml:Obligation>\\n        <lrml:Content>\\n          <lrml:And>\\n            <!-- Collect and channelise e-waste -->\\n            <lrml:Obligation>\\n              <lrml:Action>\\n                <lrml:Collect channel=\"authorisedDismantlerOrRecycler\"/>\\n              </lrml:Action>\\n            </lrml:Obligation>\\n            <!-- Application for authorisation -->\\n            <lrml:Obligation>\\n              <lrml:Action>\\n                <lrml:Apply form=\"#Form1a\"/>\\n              </lrml:Action>\\n              <!-- Sub-rule for authorisation -->\\n              <lrml:ConstitutiveRule>\\n                <lrml:If>\\n                  <lrml:Applied form=\"#Form1a\"/>\\n                </lrml:If>\\n                <lrml:Then>\\n                  <lrml:BeAuthorised type=\"oneTime\" target=\"Refurbisher\"/>\\n                </lrml:Then>\\n              </lrml:ConstitutiveRule>\\n              <!-- Annual submission of e-waste details -->\\n              <lrml:Obligation>\\n                <lrml:Action>\\n                  <lrml:Submit type=\"annualDetails\" target=\"eWaste\"/>\\n                </lrml:Action>\\n              </lrml:Obligation>\\n            </lrml:Obligation>\\n            <!-- Ensure no environmental damage -->\\n            <lrml:Obligation>\\n              <lrml:Ensure condition=\"noDamageToEnvironment\" context=\"eWasteStorageAndTransport\"/>\\n            </lrml:Obligation>\\n            <!-- Ensure refurbishing process safety -->\\n            <lrml:Obligation>\\n              <lrml:Ensure condition=\"noAdverseHealthEffect\" context=\"refurbishingProcess\"/>\\n            </lrml:Obligation>\\n            <!-- Safe transportation to authorised centers -->\\n            <lrml:Obligation>\\n              <lrml:Ensure condition=\"safeTransportation\" target=\"eWaste\"/>\\n            </lrml:Obligation>\\n            <!-- File annual returns -->\\n            <lrml:Obligation>\\n              <lrml:Action>\\n                <lrml:File type=\"annualReturn\" form=\"#Form3\"/>\\n              </lrml:Action>\\n            </lrml:Obligation>\\n            <!-- Maintain and provide access to records -->\\n            <lrml:Obligation>\\n              <lrml:Action>\\n                <lrml:Maintain type=\"records\" form=\"#Form2\"/>\\n              </lrml:Action>\\n            </lrml:Obligation>\\n          </lrml:And>\\n        </lrml:Content>\\n      </lrml:Obligation>\\n    </lrml:Rule>\\n  </lrml:PrescriptiveStatement>\\n</LegalRuleML>\\n```', role='assistant', function_call=None, tool_calls=None))], created=1706781528, model='gpt-4-0125-preview', object='chat.completion', system_fingerprint='fp_376b7f78b9', usage=CompletionUsage(completion_tokens=661, prompt_tokens=1054, total_tokens=1715))\n"
     ]
    }
   ],
   "source": [
    "print(response)"
   ]
  },
  {
   "cell_type": "code",
   "execution_count": null,
   "metadata": {
    "id": "Zgog5Kq_HEjN"
   },
   "outputs": [],
   "source": []
  },
  {
   "cell_type": "markdown",
   "metadata": {
    "id": "V4SmBwz-HM5-"
   },
   "source": [
    "ChatCompletion(id='chatcmpl-8nO8GePbj4DdvLBV4aD0iXUyU8eXu', choices=[Choice(finish_reason='stop', index=0, logprobs=None, message=ChatCompletionMessage(content='```xml\\n<LegalRuleML xmlns=\"https://www.oasis-open.org/committees/legalruleml\">\\n  <lrml:PrescriptiveStatement>\\n    <lrml:Rule id=\"ResponsibilitiesOfTheRefurbisher\">\\n      <lrml:Meta>\\n        <lrml:Rel iri=\"#Responsibilities\"/>\\n        <lrml:Actor iri=\"#Refurbisher\"/>\\n      </lrml:Meta>\\n      <lrml:Obligation>\\n        <lrml:Content>\\n          <lrml:And>\\n            <!-- Collect and channelise e-waste -->\\n            <lrml:Obligation>\\n              <lrml:Action>\\n                <lrml:Collect channel=\"authorisedDismantlerOrRecycler\"/>\\n              </lrml:Action>\\n            </lrml:Obligation>\\n            <!-- Application for authorisation -->\\n            <lrml:Obligation>\\n              <lrml:Action>\\n                <lrml:Apply form=\"#Form1a\"/>\\n              </lrml:Action>\\n              <!-- Sub-rule for authorisation -->\\n              <lrml:ConstitutiveRule>\\n                <lrml:If>\\n                  <lrml:Applied form=\"#Form1a\"/>\\n                </lrml:If>\\n                <lrml:Then>\\n                  <lrml:BeAuthorised type=\"oneTime\" target=\"Refurbisher\"/>\\n                </lrml:Then>\\n              </lrml:ConstitutiveRule>\\n              <!-- Annual submission of e-waste details -->\\n              <lrml:Obligation>\\n                <lrml:Action>\\n                  <lrml:Submit type=\"annualDetails\" target=\"eWaste\"/>\\n                </lrml:Action>\\n              </lrml:Obligation>\\n            </lrml:Obligation>\\n            <!-- Ensure no environmental damage -->\\n            <lrml:Obligation>\\n              <lrml:Ensure condition=\"noDamageToEnvironment\" context=\"eWasteStorageAndTransport\"/>\\n            </lrml:Obligation>\\n            <!-- Ensure refurbishing process safety -->\\n            <lrml:Obligation>\\n              <lrml:Ensure condition=\"noAdverseHealthEffect\" context=\"refurbishingProcess\"/>\\n            </lrml:Obligation>\\n            <!-- Safe transportation to authorised centers -->\\n            <lrml:Obligation>\\n              <lrml:Ensure condition=\"safeTransportation\" target=\"eWaste\"/>\\n            </lrml:Obligation>\\n            <!-- File annual returns -->\\n            <lrml:Obligation>\\n              <lrml:Action>\\n                <lrml:File type=\"annualReturn\" form=\"#Form3\"/>\\n              </lrml:Action>\\n            </lrml:Obligation>\\n            <!-- Maintain and provide access to records -->\\n            <lrml:Obligation>\\n              <lrml:Action>\\n                <lrml:Maintain type=\"records\" form=\"#Form2\"/>\\n              </lrml:Action>\\n            </lrml:Obligation>\\n          </lrml:And>\\n        </lrml:Content>\\n      </lrml:Obligation>\\n    </lrml:Rule>\\n  </lrml:PrescriptiveStatement>\\n</LegalRuleML>\\n```', role='assistant', function_call=None, tool_calls=None))], created=1706781528, model='gpt-4-0125-preview', object='chat.completion', system_fingerprint='fp_376b7f78b9', usage=CompletionUsage(completion_tokens=661, prompt_tokens=1054, total_tokens=1715))\n"
   ]
  }
 ],
 "metadata": {
  "colab": {
   "provenance": []
  },
  "kernelspec": {
   "display_name": "Python 3 (ipykernel)",
   "language": "python",
   "name": "python3"
  },
  "language_info": {
   "codemirror_mode": {
    "name": "ipython",
    "version": 3
   },
   "file_extension": ".py",
   "mimetype": "text/x-python",
   "name": "python",
   "nbconvert_exporter": "python",
   "pygments_lexer": "ipython3",
   "version": "3.11.5"
  }
 },
 "nbformat": 4,
 "nbformat_minor": 4
}
