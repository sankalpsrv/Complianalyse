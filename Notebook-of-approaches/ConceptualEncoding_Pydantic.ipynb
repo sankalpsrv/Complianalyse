{
 "cells": [
  {
   "cell_type": "markdown",
   "metadata": {
    "id": "31mkFpJuRnvh"
   },
   "source": [
    "This notebook represents conceptual LegalRuleML encoding using rule-based formatting via the Pydantic Output Parser functionality of Llama. It can be used to generate categories of codes via descriptions in natural language. However, the limitation is that it may attach semantic meaning to those which are not strictly within a particular XML tag or concept within LegalRuleML"
   ]
  },
  {
   "cell_type": "code",
   "execution_count": null,
   "metadata": {
    "colab": {
     "base_uri": "https://localhost:8080/"
    },
    "id": "0jXCVZKifzy6",
    "outputId": "92f3f3db-28f7-48e4-9f5e-297b9c4789e8"
   },
   "outputs": [
    {
     "name": "stdout",
     "output_type": "stream",
     "text": [
      "Requirement already satisfied: langchain in /usr/local/lib/python3.10/dist-packages (0.1.5)\n",
      "Requirement already satisfied: PyYAML>=5.3 in /usr/local/lib/python3.10/dist-packages (from langchain) (6.0.1)\n",
      "Requirement already satisfied: SQLAlchemy<3,>=1.4 in /usr/local/lib/python3.10/dist-packages (from langchain) (2.0.24)\n",
      "Requirement already satisfied: aiohttp<4.0.0,>=3.8.3 in /usr/local/lib/python3.10/dist-packages (from langchain) (3.9.3)\n",
      "Requirement already satisfied: async-timeout<5.0.0,>=4.0.0 in /usr/local/lib/python3.10/dist-packages (from langchain) (4.0.3)\n",
      "Requirement already satisfied: dataclasses-json<0.7,>=0.5.7 in /usr/local/lib/python3.10/dist-packages (from langchain) (0.6.4)\n",
      "Requirement already satisfied: jsonpatch<2.0,>=1.33 in /usr/local/lib/python3.10/dist-packages (from langchain) (1.33)\n",
      "Requirement already satisfied: langchain-community<0.1,>=0.0.17 in /usr/local/lib/python3.10/dist-packages (from langchain) (0.0.17)\n",
      "Requirement already satisfied: langchain-core<0.2,>=0.1.16 in /usr/local/lib/python3.10/dist-packages (from langchain) (0.1.18)\n",
      "Requirement already satisfied: langsmith<0.1,>=0.0.83 in /usr/local/lib/python3.10/dist-packages (from langchain) (0.0.86)\n",
      "Requirement already satisfied: numpy<2,>=1 in /usr/local/lib/python3.10/dist-packages (from langchain) (1.23.5)\n",
      "Requirement already satisfied: pydantic<3,>=1 in /usr/local/lib/python3.10/dist-packages (from langchain) (1.10.14)\n",
      "Requirement already satisfied: requests<3,>=2 in /usr/local/lib/python3.10/dist-packages (from langchain) (2.31.0)\n",
      "Requirement already satisfied: tenacity<9.0.0,>=8.1.0 in /usr/local/lib/python3.10/dist-packages (from langchain) (8.2.3)\n",
      "Requirement already satisfied: aiosignal>=1.1.2 in /usr/local/lib/python3.10/dist-packages (from aiohttp<4.0.0,>=3.8.3->langchain) (1.3.1)\n",
      "Requirement already satisfied: attrs>=17.3.0 in /usr/local/lib/python3.10/dist-packages (from aiohttp<4.0.0,>=3.8.3->langchain) (23.2.0)\n",
      "Requirement already satisfied: frozenlist>=1.1.1 in /usr/local/lib/python3.10/dist-packages (from aiohttp<4.0.0,>=3.8.3->langchain) (1.4.1)\n",
      "Requirement already satisfied: multidict<7.0,>=4.5 in /usr/local/lib/python3.10/dist-packages (from aiohttp<4.0.0,>=3.8.3->langchain) (6.0.4)\n",
      "Requirement already satisfied: yarl<2.0,>=1.0 in /usr/local/lib/python3.10/dist-packages (from aiohttp<4.0.0,>=3.8.3->langchain) (1.9.4)\n",
      "Requirement already satisfied: marshmallow<4.0.0,>=3.18.0 in /usr/local/lib/python3.10/dist-packages (from dataclasses-json<0.7,>=0.5.7->langchain) (3.20.2)\n",
      "Requirement already satisfied: typing-inspect<1,>=0.4.0 in /usr/local/lib/python3.10/dist-packages (from dataclasses-json<0.7,>=0.5.7->langchain) (0.9.0)\n",
      "Requirement already satisfied: jsonpointer>=1.9 in /usr/local/lib/python3.10/dist-packages (from jsonpatch<2.0,>=1.33->langchain) (2.4)\n",
      "Requirement already satisfied: anyio<5,>=3 in /usr/local/lib/python3.10/dist-packages (from langchain-core<0.2,>=0.1.16->langchain) (3.7.1)\n",
      "Requirement already satisfied: packaging<24.0,>=23.2 in /usr/local/lib/python3.10/dist-packages (from langchain-core<0.2,>=0.1.16->langchain) (23.2)\n",
      "Requirement already satisfied: typing-extensions>=4.2.0 in /usr/local/lib/python3.10/dist-packages (from pydantic<3,>=1->langchain) (4.9.0)\n",
      "Requirement already satisfied: charset-normalizer<4,>=2 in /usr/local/lib/python3.10/dist-packages (from requests<3,>=2->langchain) (3.3.2)\n",
      "Requirement already satisfied: idna<4,>=2.5 in /usr/local/lib/python3.10/dist-packages (from requests<3,>=2->langchain) (3.6)\n",
      "Requirement already satisfied: urllib3<3,>=1.21.1 in /usr/local/lib/python3.10/dist-packages (from requests<3,>=2->langchain) (2.0.7)\n",
      "Requirement already satisfied: certifi>=2017.4.17 in /usr/local/lib/python3.10/dist-packages (from requests<3,>=2->langchain) (2023.11.17)\n",
      "Requirement already satisfied: greenlet!=0.4.17 in /usr/local/lib/python3.10/dist-packages (from SQLAlchemy<3,>=1.4->langchain) (3.0.3)\n",
      "Requirement already satisfied: sniffio>=1.1 in /usr/local/lib/python3.10/dist-packages (from anyio<5,>=3->langchain-core<0.2,>=0.1.16->langchain) (1.3.0)\n",
      "Requirement already satisfied: exceptiongroup in /usr/local/lib/python3.10/dist-packages (from anyio<5,>=3->langchain-core<0.2,>=0.1.16->langchain) (1.2.0)\n",
      "Requirement already satisfied: mypy-extensions>=0.3.0 in /usr/local/lib/python3.10/dist-packages (from typing-inspect<1,>=0.4.0->dataclasses-json<0.7,>=0.5.7->langchain) (1.0.0)\n",
      "Requirement already satisfied: pydantic in /usr/local/lib/python3.10/dist-packages (1.10.14)\n",
      "Requirement already satisfied: typing-extensions>=4.2.0 in /usr/local/lib/python3.10/dist-packages (from pydantic) (4.9.0)\n",
      "Requirement already satisfied: openai in /usr/local/lib/python3.10/dist-packages (1.10.0)\n",
      "Requirement already satisfied: anyio<5,>=3.5.0 in /usr/local/lib/python3.10/dist-packages (from openai) (3.7.1)\n",
      "Requirement already satisfied: distro<2,>=1.7.0 in /usr/lib/python3/dist-packages (from openai) (1.7.0)\n",
      "Requirement already satisfied: httpx<1,>=0.23.0 in /usr/local/lib/python3.10/dist-packages (from openai) (0.26.0)\n",
      "Requirement already satisfied: pydantic<3,>=1.9.0 in /usr/local/lib/python3.10/dist-packages (from openai) (1.10.14)\n",
      "Requirement already satisfied: sniffio in /usr/local/lib/python3.10/dist-packages (from openai) (1.3.0)\n",
      "Requirement already satisfied: tqdm>4 in /usr/local/lib/python3.10/dist-packages (from openai) (4.66.1)\n",
      "Requirement already satisfied: typing-extensions<5,>=4.7 in /usr/local/lib/python3.10/dist-packages (from openai) (4.9.0)\n",
      "Requirement already satisfied: idna>=2.8 in /usr/local/lib/python3.10/dist-packages (from anyio<5,>=3.5.0->openai) (3.6)\n",
      "Requirement already satisfied: exceptiongroup in /usr/local/lib/python3.10/dist-packages (from anyio<5,>=3.5.0->openai) (1.2.0)\n",
      "Requirement already satisfied: certifi in /usr/local/lib/python3.10/dist-packages (from httpx<1,>=0.23.0->openai) (2023.11.17)\n",
      "Requirement already satisfied: httpcore==1.* in /usr/local/lib/python3.10/dist-packages (from httpx<1,>=0.23.0->openai) (1.0.2)\n",
      "Requirement already satisfied: h11<0.15,>=0.13 in /usr/local/lib/python3.10/dist-packages (from httpcore==1.*->httpx<1,>=0.23.0->openai) (0.14.0)\n",
      "Collecting langchain-openai\n",
      "  Downloading langchain_openai-0.0.5-py3-none-any.whl (29 kB)\n",
      "Requirement already satisfied: langchain-core<0.2,>=0.1.16 in /usr/local/lib/python3.10/dist-packages (from langchain-openai) (0.1.18)\n",
      "Requirement already satisfied: numpy<2,>=1 in /usr/local/lib/python3.10/dist-packages (from langchain-openai) (1.23.5)\n",
      "Requirement already satisfied: openai<2.0.0,>=1.10.0 in /usr/local/lib/python3.10/dist-packages (from langchain-openai) (1.10.0)\n",
      "Collecting tiktoken<0.6.0,>=0.5.2 (from langchain-openai)\n",
      "  Downloading tiktoken-0.5.2-cp310-cp310-manylinux_2_17_x86_64.manylinux2014_x86_64.whl (2.0 MB)\n",
      "\u001b[2K     \u001b[90m━━━━━━━━━━━━━━━━━━━━━━━━━━━━━━━━━━━━━━━━\u001b[0m \u001b[32m2.0/2.0 MB\u001b[0m \u001b[31m9.4 MB/s\u001b[0m eta \u001b[36m0:00:00\u001b[0m\n",
      "\u001b[?25hRequirement already satisfied: PyYAML>=5.3 in /usr/local/lib/python3.10/dist-packages (from langchain-core<0.2,>=0.1.16->langchain-openai) (6.0.1)\n",
      "Requirement already satisfied: anyio<5,>=3 in /usr/local/lib/python3.10/dist-packages (from langchain-core<0.2,>=0.1.16->langchain-openai) (3.7.1)\n",
      "Requirement already satisfied: jsonpatch<2.0,>=1.33 in /usr/local/lib/python3.10/dist-packages (from langchain-core<0.2,>=0.1.16->langchain-openai) (1.33)\n",
      "Requirement already satisfied: langsmith<0.1,>=0.0.83 in /usr/local/lib/python3.10/dist-packages (from langchain-core<0.2,>=0.1.16->langchain-openai) (0.0.86)\n",
      "Requirement already satisfied: packaging<24.0,>=23.2 in /usr/local/lib/python3.10/dist-packages (from langchain-core<0.2,>=0.1.16->langchain-openai) (23.2)\n",
      "Requirement already satisfied: pydantic<3,>=1 in /usr/local/lib/python3.10/dist-packages (from langchain-core<0.2,>=0.1.16->langchain-openai) (1.10.14)\n",
      "Requirement already satisfied: requests<3,>=2 in /usr/local/lib/python3.10/dist-packages (from langchain-core<0.2,>=0.1.16->langchain-openai) (2.31.0)\n",
      "Requirement already satisfied: tenacity<9.0.0,>=8.1.0 in /usr/local/lib/python3.10/dist-packages (from langchain-core<0.2,>=0.1.16->langchain-openai) (8.2.3)\n",
      "Requirement already satisfied: distro<2,>=1.7.0 in /usr/lib/python3/dist-packages (from openai<2.0.0,>=1.10.0->langchain-openai) (1.7.0)\n",
      "Requirement already satisfied: httpx<1,>=0.23.0 in /usr/local/lib/python3.10/dist-packages (from openai<2.0.0,>=1.10.0->langchain-openai) (0.26.0)\n",
      "Requirement already satisfied: sniffio in /usr/local/lib/python3.10/dist-packages (from openai<2.0.0,>=1.10.0->langchain-openai) (1.3.0)\n",
      "Requirement already satisfied: tqdm>4 in /usr/local/lib/python3.10/dist-packages (from openai<2.0.0,>=1.10.0->langchain-openai) (4.66.1)\n",
      "Requirement already satisfied: typing-extensions<5,>=4.7 in /usr/local/lib/python3.10/dist-packages (from openai<2.0.0,>=1.10.0->langchain-openai) (4.9.0)\n",
      "Requirement already satisfied: regex>=2022.1.18 in /usr/local/lib/python3.10/dist-packages (from tiktoken<0.6.0,>=0.5.2->langchain-openai) (2023.6.3)\n",
      "Requirement already satisfied: idna>=2.8 in /usr/local/lib/python3.10/dist-packages (from anyio<5,>=3->langchain-core<0.2,>=0.1.16->langchain-openai) (3.6)\n",
      "Requirement already satisfied: exceptiongroup in /usr/local/lib/python3.10/dist-packages (from anyio<5,>=3->langchain-core<0.2,>=0.1.16->langchain-openai) (1.2.0)\n",
      "Requirement already satisfied: certifi in /usr/local/lib/python3.10/dist-packages (from httpx<1,>=0.23.0->openai<2.0.0,>=1.10.0->langchain-openai) (2023.11.17)\n",
      "Requirement already satisfied: httpcore==1.* in /usr/local/lib/python3.10/dist-packages (from httpx<1,>=0.23.0->openai<2.0.0,>=1.10.0->langchain-openai) (1.0.2)\n",
      "Requirement already satisfied: h11<0.15,>=0.13 in /usr/local/lib/python3.10/dist-packages (from httpcore==1.*->httpx<1,>=0.23.0->openai<2.0.0,>=1.10.0->langchain-openai) (0.14.0)\n",
      "Requirement already satisfied: jsonpointer>=1.9 in /usr/local/lib/python3.10/dist-packages (from jsonpatch<2.0,>=1.33->langchain-core<0.2,>=0.1.16->langchain-openai) (2.4)\n",
      "Requirement already satisfied: charset-normalizer<4,>=2 in /usr/local/lib/python3.10/dist-packages (from requests<3,>=2->langchain-core<0.2,>=0.1.16->langchain-openai) (3.3.2)\n",
      "Requirement already satisfied: urllib3<3,>=1.21.1 in /usr/local/lib/python3.10/dist-packages (from requests<3,>=2->langchain-core<0.2,>=0.1.16->langchain-openai) (2.0.7)\n",
      "Installing collected packages: tiktoken, langchain-openai\n",
      "\u001b[31mERROR: pip's dependency resolver does not currently take into account all the packages that are installed. This behaviour is the source of the following dependency conflicts.\n",
      "llmx 0.0.15a0 requires cohere, which is not installed.\u001b[0m\u001b[31m\n",
      "\u001b[0mSuccessfully installed langchain-openai-0.0.5 tiktoken-0.5.2\n"
     ]
    }
   ],
   "source": [
    "!pip install langchain\n",
    "!pip install pydantic\n",
    "!pip install openai\n",
    "!pip install langchain-openai"
   ]
  },
  {
   "cell_type": "code",
   "execution_count": null,
   "metadata": {
    "colab": {
     "base_uri": "https://localhost:8080/"
    },
    "id": "cX-kCfZYf3Bn",
    "outputId": "e477227e-479c-49b7-da74-a31ee89d8a50"
   },
   "outputs": [
    {
     "name": "stdout",
     "output_type": "stream",
     "text": [
      "/content\n"
     ]
    }
   ],
   "source": [
    "!pwd"
   ]
  },
  {
   "cell_type": "code",
   "execution_count": null,
   "metadata": {
    "id": "A_7iGTAvp05W"
   },
   "outputs": [],
   "source": [
    "from secret_key import openai_key\n",
    "openai_api_key=openai_key"
   ]
  },
  {
   "cell_type": "code",
   "execution_count": null,
   "metadata": {
    "id": "eRYOxzRvqT7B"
   },
   "outputs": [],
   "source": [
    "from pydantic import BaseModel, Field\n",
    "from typing import List, Union\n",
    "\n",
    "class ConstitutiveRule(BaseModel):\n",
    "    identifier: str = Field(..., description=\"Unique identifier for the rule\")\n",
    "    conditions: List[str] = Field(..., description=\"Conditions that create a new legal status or fact\")\n",
    "    result: str = Field(..., description=\"The legal status or fact created by the rule\")\n",
    "\n",
    "class PrescriptiveRule(BaseModel):\n",
    "    identifier: str = Field(..., description=\"Unique identifier for the rule\")\n",
    "    preconditions: List[str] = Field(..., description=\"Conditions under which the rule applies\")\n",
    "    obligations: List[str] = Field(default=[], description=\"Obligations imposed by the rule\")\n",
    "    permissions: List[str] = Field(default=[], description=\"Permissions granted by the rule\")\n",
    "    prohibitions: List[str] = Field(default=[], description=\"Prohibitions enforced by the rule\")\n",
    "\n",
    "class LegalRule(BaseModel):\n",
    "    type: Union[ConstitutiveRule, PrescriptiveRule] = Field(..., description=\"The specific type of legal rule, either constitutive or prescriptive\")\n"
   ]
  },
  {
   "cell_type": "code",
   "execution_count": null,
   "metadata": {
    "colab": {
     "base_uri": "https://localhost:8080/",
     "height": 368
    },
    "id": "hOCxGtNy8Krd",
    "outputId": "780f7036-1bd1-4a6f-9400-b00a9a4dab4d"
   },
   "outputs": [
    {
     "ename": "ValidationError",
     "evalue": "1 validation error for LegalRuleParser\npydantic_object\n  field required (type=value_error.missing)",
     "output_type": "error",
     "traceback": [
      "\u001b[0;31m---------------------------------------------------------------------------\u001b[0m",
      "\u001b[0;31mValidationError\u001b[0m                           Traceback (most recent call last)",
      "\u001b[0;32m<ipython-input-9-0b8250f568a9>\u001b[0m in \u001b[0;36m<cell line: 10>\u001b[0;34m()\u001b[0m\n\u001b[1;32m      8\u001b[0m \u001b[0;34m\u001b[0m\u001b[0m\n\u001b[1;32m      9\u001b[0m \u001b[0;31m# Example usage\u001b[0m\u001b[0;34m\u001b[0m\u001b[0;34m\u001b[0m\u001b[0m\n\u001b[0;32m---> 10\u001b[0;31m \u001b[0mparser\u001b[0m \u001b[0;34m=\u001b[0m \u001b[0mLegalRuleParser\u001b[0m\u001b[0;34m(\u001b[0m\u001b[0;34m)\u001b[0m\u001b[0;34m\u001b[0m\u001b[0;34m\u001b[0m\u001b[0m\n\u001b[0m\u001b[1;32m     11\u001b[0m prompt = '''Convert this into LegalRuleML format:- Responsibilities of dealers.\n\u001b[1;32m     12\u001b[0m \u001b[0;34m(\u001b[0m\u001b[0;36m1\u001b[0m\u001b[0;34m)\u001b[0m\u001b[0;34m\u001b[0m\u001b[0;34m\u001b[0m\u001b[0m\n",
      "\u001b[0;32m/usr/local/lib/python3.10/dist-packages/langchain_core/load/serializable.py\u001b[0m in \u001b[0;36m__init__\u001b[0;34m(self, **kwargs)\u001b[0m\n\u001b[1;32m    105\u001b[0m \u001b[0;34m\u001b[0m\u001b[0m\n\u001b[1;32m    106\u001b[0m     \u001b[0;32mdef\u001b[0m \u001b[0m__init__\u001b[0m\u001b[0;34m(\u001b[0m\u001b[0mself\u001b[0m\u001b[0;34m,\u001b[0m \u001b[0;34m**\u001b[0m\u001b[0mkwargs\u001b[0m\u001b[0;34m:\u001b[0m \u001b[0mAny\u001b[0m\u001b[0;34m)\u001b[0m \u001b[0;34m->\u001b[0m \u001b[0;32mNone\u001b[0m\u001b[0;34m:\u001b[0m\u001b[0;34m\u001b[0m\u001b[0;34m\u001b[0m\u001b[0m\n\u001b[0;32m--> 107\u001b[0;31m         \u001b[0msuper\u001b[0m\u001b[0;34m(\u001b[0m\u001b[0;34m)\u001b[0m\u001b[0;34m.\u001b[0m\u001b[0m__init__\u001b[0m\u001b[0;34m(\u001b[0m\u001b[0;34m**\u001b[0m\u001b[0mkwargs\u001b[0m\u001b[0;34m)\u001b[0m\u001b[0;34m\u001b[0m\u001b[0;34m\u001b[0m\u001b[0m\n\u001b[0m\u001b[1;32m    108\u001b[0m         \u001b[0mself\u001b[0m\u001b[0;34m.\u001b[0m\u001b[0m_lc_kwargs\u001b[0m \u001b[0;34m=\u001b[0m \u001b[0mkwargs\u001b[0m\u001b[0;34m\u001b[0m\u001b[0;34m\u001b[0m\u001b[0m\n\u001b[1;32m    109\u001b[0m \u001b[0;34m\u001b[0m\u001b[0m\n",
      "\u001b[0;32m/usr/local/lib/python3.10/dist-packages/pydantic/main.cpython-310-x86_64-linux-gnu.so\u001b[0m in \u001b[0;36mpydantic.main.BaseModel.__init__\u001b[0;34m()\u001b[0m\n",
      "\u001b[0;31mValidationError\u001b[0m: 1 validation error for LegalRuleParser\npydantic_object\n  field required (type=value_error.missing)"
     ]
    }
   ],
   "source": [
    "from langchain.llms import OpenAI\n",
    "from langchain.output_parsers import PydanticOutputParser\n",
    "\n",
    "# Assume initialization of OpenAI LLM and necessary imports\n",
    "\n",
    "class LegalRuleParser(PydanticOutputParser):\n",
    "    model = LegalRule\n",
    "\n",
    "# Example usage\n",
    "parser = LegalRuleParser()\n",
    "prompt = '''Convert this into LegalRuleML format:- Responsibilities of dealers.\n",
    "(1)\n",
    "in the case the dealer has been given the responsibility of collection on behalf of the producer, the dealer shall collect the e-waste by providing the consumer a box, bin or a demarcated area to deposit e-waste, or through take back system and send the e-waste so collected to collection centre or dismantler or recycler as designated by producer;\n",
    "(2)\n",
    "the dealer or retailer or e-retailer shall refund the amount as per take back system or Deposit Refund Scheme of the producer to the depositor of e-waste;\n",
    "(3)\n",
    "every dealer shall ensure that the e-waste thus generated is safely transported to authorised dismantlers or recyclers;\n",
    "(4)\n",
    "ensure that no damage is caused to the environment during storage and transportation of e-waste.'''\n",
    "# Assuming `query` method exists and returns structured data compatible with our models\n",
    "output = parser.parse({\"type\": {\"identifier\": \"rule_1\", \"conditions\": [\"condition1\"], \"result\": \"legal fact\"}})\n",
    "output2 = parser.parse({\"type\": {\"identifier\": \"rule_2\", \"preconditions\": [\"condition1\"], \"obligations\": [\"obligation1\"], \"permissions\": [], \"prohibitions\": []}})\n",
    "\n",
    "\n",
    "print(output)\n"
   ]
  },
  {
   "cell_type": "code",
   "execution_count": null,
   "metadata": {
    "colab": {
     "base_uri": "https://localhost:8080/"
    },
    "id": "wfQqOErj8hgz",
    "outputId": "9f43ff92-ac50-453b-d216-457544af808d"
   },
   "outputs": [
    {
     "data": {
      "text/plain": [
       "LegalRule(rule_type='PrescriptiveRule', rule_data=PrescriptiveRule(identifier='Responsibilities of dealers', preconditions=['The dealer has been given the responsibility of collection on behalf of the producer'], obligations=['The dealer shall collect the e-waste by providing the consumer a box, bin or a demarcated area to deposit e-waste, or through take back system and send the e-waste so collected to collection centre or dismantler or recycler as designated by producer'], permissions=['The dealer or retailer or e-retailer shall refund the amount as per take back system or Deposit Refund Scheme of the producer to the depositor of e-waste'], prohibitions=['The dealer shall ensure that the e-waste thus generated is safely transported to authorised dismantlers or recyclers', 'No damage shall be caused to the environment during storage and transportation of e-waste']))"
      ]
     },
     "execution_count": 19,
     "metadata": {},
     "output_type": "execute_result"
    }
   ],
   "source": [
    "from langchain.output_parsers import PydanticOutputParser\n",
    "from langchain.prompts import (\n",
    "    PromptTemplate,\n",
    ")\n",
    "from langchain_core.pydantic_v1 import BaseModel, Field, validator\n",
    "from langchain_openai import OpenAI\n",
    "from typing import List, Optional, Union\n",
    "\n",
    "\n",
    "# Define your desired data structure.\n",
    "\n",
    "class ConstitutiveRule(BaseModel):\n",
    "    identifier: str = Field(..., description=\"Unique identifier for the rule\")\n",
    "    conditions: List[str] = Field(..., description=\"Conditions that create a new legal status or fact\")\n",
    "    result: str = Field(..., description=\"The legal status or fact created by the rule\")\n",
    "\n",
    "class PrescriptiveRule(BaseModel):\n",
    "    identifier: str = Field(..., description=\"Unique identifier for the rule\")\n",
    "    preconditions: List[str] = Field(..., description=\"Conditions under which the rule applies\")\n",
    "    obligations: List[str] = Field(default=[], description=\"Obligations imposed by the rule\")\n",
    "    permissions: List[str] = Field(default=[], description=\"Permissions granted by the rule\")\n",
    "    prohibitions: List[str] = Field(default=[], description=\"Prohibitions enforced by the rule\")\n",
    "\n",
    "\n",
    "class LegalRule(BaseModel):\n",
    "    rule_type: Optional[str] = None  # This could be set based on user_choice or inferred from the data\n",
    "    rule_data: Union[ConstitutiveRule, PrescriptiveRule, dict] = {}\n",
    "\n",
    "    # Dynamically parse rule_data based on rule_type\n",
    "    @validator('rule_data', pre=True, always=True)\n",
    "    def parse_rule_data(cls, value, values):\n",
    "        rule_type = values.get('rule_type')\n",
    "        if rule_type == 'constitutive' and isinstance(value, dict):\n",
    "            return ConstitutiveRule(**value)\n",
    "        elif rule_type == 'prescriptive' and isinstance(value, dict):\n",
    "            return PrescriptiveRule(**value)\n",
    "        return value\n",
    "\n",
    "\n",
    "# And a query intended to prompt a language model to populate the data structure.\n",
    "conversion_query = '''Convert this text into LegalRuleML compliant code-  Responsibilities of dealers.\n",
    "(1)\n",
    "in the case the dealer has been given the responsibility of collection on behalf of the producer, the dealer shall collect the e-waste by providing the consumer a box, bin or a demarcated area to deposit e-waste, or through take back system and send the e-waste so collected to collection centre or dismantler or recycler as designated by producer;\n",
    "(2)\n",
    "the dealer or retailer or e-retailer shall refund the amount as per take back system or Deposit Refund Scheme of the producer to the depositor of e-waste;\n",
    "(3)\n",
    "every dealer shall ensure that the e-waste thus generated is safely transported to authorised dismantlers or recyclers;\n",
    "(4)\n",
    "ensure that no damage is caused to the environment during storage and transportation of e-waste.'''\n",
    "\n",
    "# Set up a parser + inject instructions into the prompt template.\n",
    "parser = PydanticOutputParser(pydantic_object=LegalRule)\n",
    "\n",
    "# Prompt\n",
    "prompt = PromptTemplate(\n",
    "    template=\"Answer the user query.\\n{format_instructions}\\n{query}\\n\",\n",
    "    input_variables=[\"query\", \"user_choice\"],\n",
    "    partial_variables={\"format_instructions\": parser.get_format_instructions()},\n",
    ")\n",
    "\n",
    "# Run\n",
    "_input = prompt.format_prompt(query=conversion_query, user_choice=\"prescriptive\")\n",
    "model = OpenAI(openai_api_key=openai_api_key, temperature=0)\n",
    "output = model(_input.to_string())\n",
    "parser.parse(output)"
   ]
  },
  {
   "cell_type": "code",
   "execution_count": null,
   "metadata": {
    "colab": {
     "base_uri": "https://localhost:8080/",
     "height": 1000
    },
    "id": "1gebtgN7-SlG",
    "outputId": "0d9b0a10-812a-48e3-fe94-859e4f627760"
   },
   "outputs": [
    {
     "ename": "OutputParserException",
     "evalue": "Failed to parse LegalRule from completion \n{\n    \"rule_type\": \"Responsibilities of dealers\",\n    \"rule_data\": {\n        \"identifier\": \"7\",\n        \"conditions\": [\n            \"the dealer has been given the responsibility of collection on behalf of the producer\"\n        ],\n        \"result\": \"the dealer shall collect the e-waste by providing the consumer a box, bin or a demarcated area to deposit e-waste, or through take back system and send the e-waste so collected to collection centre or dismantler or recycler as designated by producer\"\n    }\n},\n{\n    \"rule_type\": \"Responsibilities of dealers\",\n    \"rule_data\": {\n        \"identifier\": \"7\",\n        \"conditions\": [\n            \"the dealer or retailer or e-retailer shall refund the amount as per take back system or Deposit Refund Scheme of the producer to the depositor of e-waste\"\n        ],\n        \"result\": \"the dealer or retailer or e-retailer shall refund the amount as per take back system or Deposit Refund Scheme of the producer to the depositor of e-waste\"\n    }\n},\n{\n    \"rule_type\": \"Responsibilities of dealers\",\n    \"rule_data\": {\n        \"identifier\": \"7\",\n        \"conditions\": [\n            \"every. Got: Extra data: line 10 column 2 (char 507)",
     "output_type": "error",
     "traceback": [
      "\u001b[0;31m---------------------------------------------------------------------------\u001b[0m",
      "\u001b[0;31mJSONDecodeError\u001b[0m                           Traceback (most recent call last)",
      "\u001b[0;32m/usr/local/lib/python3.10/dist-packages/langchain/output_parsers/pydantic.py\u001b[0m in \u001b[0;36mparse\u001b[0;34m(self, text)\u001b[0m\n\u001b[1;32m     32\u001b[0m                 \u001b[0mjson_str\u001b[0m \u001b[0;34m=\u001b[0m \u001b[0mmatch\u001b[0m\u001b[0;34m.\u001b[0m\u001b[0mgroup\u001b[0m\u001b[0;34m(\u001b[0m\u001b[0;34m)\u001b[0m\u001b[0;34m\u001b[0m\u001b[0;34m\u001b[0m\u001b[0m\n\u001b[0;32m---> 33\u001b[0;31m             \u001b[0mjson_object\u001b[0m \u001b[0;34m=\u001b[0m \u001b[0mjson\u001b[0m\u001b[0;34m.\u001b[0m\u001b[0mloads\u001b[0m\u001b[0;34m(\u001b[0m\u001b[0mjson_str\u001b[0m\u001b[0;34m,\u001b[0m \u001b[0mstrict\u001b[0m\u001b[0;34m=\u001b[0m\u001b[0;32mFalse\u001b[0m\u001b[0;34m)\u001b[0m\u001b[0;34m\u001b[0m\u001b[0;34m\u001b[0m\u001b[0m\n\u001b[0m\u001b[1;32m     34\u001b[0m             \u001b[0;32mreturn\u001b[0m \u001b[0mself\u001b[0m\u001b[0;34m.\u001b[0m\u001b[0mpydantic_object\u001b[0m\u001b[0;34m.\u001b[0m\u001b[0mparse_obj\u001b[0m\u001b[0;34m(\u001b[0m\u001b[0mjson_object\u001b[0m\u001b[0;34m)\u001b[0m\u001b[0;34m\u001b[0m\u001b[0;34m\u001b[0m\u001b[0m\n",
      "\u001b[0;32m/usr/lib/python3.10/json/__init__.py\u001b[0m in \u001b[0;36mloads\u001b[0;34m(s, cls, object_hook, parse_float, parse_int, parse_constant, object_pairs_hook, **kw)\u001b[0m\n\u001b[1;32m    358\u001b[0m         \u001b[0mkw\u001b[0m\u001b[0;34m[\u001b[0m\u001b[0;34m'parse_constant'\u001b[0m\u001b[0;34m]\u001b[0m \u001b[0;34m=\u001b[0m \u001b[0mparse_constant\u001b[0m\u001b[0;34m\u001b[0m\u001b[0;34m\u001b[0m\u001b[0m\n\u001b[0;32m--> 359\u001b[0;31m     \u001b[0;32mreturn\u001b[0m \u001b[0mcls\u001b[0m\u001b[0;34m(\u001b[0m\u001b[0;34m**\u001b[0m\u001b[0mkw\u001b[0m\u001b[0;34m)\u001b[0m\u001b[0;34m.\u001b[0m\u001b[0mdecode\u001b[0m\u001b[0;34m(\u001b[0m\u001b[0ms\u001b[0m\u001b[0;34m)\u001b[0m\u001b[0;34m\u001b[0m\u001b[0;34m\u001b[0m\u001b[0m\n\u001b[0m",
      "\u001b[0;32m/usr/lib/python3.10/json/decoder.py\u001b[0m in \u001b[0;36mdecode\u001b[0;34m(self, s, _w)\u001b[0m\n\u001b[1;32m    339\u001b[0m         \u001b[0;32mif\u001b[0m \u001b[0mend\u001b[0m \u001b[0;34m!=\u001b[0m \u001b[0mlen\u001b[0m\u001b[0;34m(\u001b[0m\u001b[0ms\u001b[0m\u001b[0;34m)\u001b[0m\u001b[0;34m:\u001b[0m\u001b[0;34m\u001b[0m\u001b[0;34m\u001b[0m\u001b[0m\n\u001b[0;32m--> 340\u001b[0;31m             \u001b[0;32mraise\u001b[0m \u001b[0mJSONDecodeError\u001b[0m\u001b[0;34m(\u001b[0m\u001b[0;34m\"Extra data\"\u001b[0m\u001b[0;34m,\u001b[0m \u001b[0ms\u001b[0m\u001b[0;34m,\u001b[0m \u001b[0mend\u001b[0m\u001b[0;34m)\u001b[0m\u001b[0;34m\u001b[0m\u001b[0;34m\u001b[0m\u001b[0m\n\u001b[0m\u001b[1;32m    341\u001b[0m         \u001b[0;32mreturn\u001b[0m \u001b[0mobj\u001b[0m\u001b[0;34m\u001b[0m\u001b[0;34m\u001b[0m\u001b[0m\n",
      "\u001b[0;31mJSONDecodeError\u001b[0m: Extra data: line 10 column 2 (char 507)",
      "\nDuring handling of the above exception, another exception occurred:\n",
      "\u001b[0;31mOutputParserException\u001b[0m                     Traceback (most recent call last)",
      "\u001b[0;32m<ipython-input-22-37ad64466e89>\u001b[0m in \u001b[0;36m<cell line: 45>\u001b[0;34m()\u001b[0m\n\u001b[1;32m     43\u001b[0m \u001b[0mmodel\u001b[0m \u001b[0;34m=\u001b[0m \u001b[0mOpenAI\u001b[0m\u001b[0;34m(\u001b[0m\u001b[0mopenai_api_key\u001b[0m\u001b[0;34m=\u001b[0m\u001b[0mopenai_api_key\u001b[0m\u001b[0;34m,\u001b[0m \u001b[0mtemperature\u001b[0m\u001b[0;34m=\u001b[0m\u001b[0;36m0\u001b[0m\u001b[0;34m)\u001b[0m\u001b[0;34m\u001b[0m\u001b[0;34m\u001b[0m\u001b[0m\n\u001b[1;32m     44\u001b[0m \u001b[0moutput\u001b[0m \u001b[0;34m=\u001b[0m \u001b[0mmodel\u001b[0m\u001b[0;34m(\u001b[0m\u001b[0m_input\u001b[0m\u001b[0;34m.\u001b[0m\u001b[0mto_string\u001b[0m\u001b[0;34m(\u001b[0m\u001b[0;34m)\u001b[0m\u001b[0;34m)\u001b[0m\u001b[0;34m\u001b[0m\u001b[0;34m\u001b[0m\u001b[0m\n\u001b[0;32m---> 45\u001b[0;31m \u001b[0mparser\u001b[0m\u001b[0;34m.\u001b[0m\u001b[0mparse\u001b[0m\u001b[0;34m(\u001b[0m\u001b[0moutput\u001b[0m\u001b[0;34m)\u001b[0m\u001b[0;34m\u001b[0m\u001b[0;34m\u001b[0m\u001b[0m\n\u001b[0m",
      "\u001b[0;32m/usr/local/lib/python3.10/dist-packages/langchain/output_parsers/pydantic.py\u001b[0m in \u001b[0;36mparse\u001b[0;34m(self, text)\u001b[0m\n\u001b[1;32m     37\u001b[0m             \u001b[0mname\u001b[0m \u001b[0;34m=\u001b[0m \u001b[0mself\u001b[0m\u001b[0;34m.\u001b[0m\u001b[0mpydantic_object\u001b[0m\u001b[0;34m.\u001b[0m\u001b[0m__name__\u001b[0m\u001b[0;34m\u001b[0m\u001b[0;34m\u001b[0m\u001b[0m\n\u001b[1;32m     38\u001b[0m             \u001b[0mmsg\u001b[0m \u001b[0;34m=\u001b[0m \u001b[0;34mf\"Failed to parse {name} from completion {text}. Got: {e}\"\u001b[0m\u001b[0;34m\u001b[0m\u001b[0;34m\u001b[0m\u001b[0m\n\u001b[0;32m---> 39\u001b[0;31m             \u001b[0;32mraise\u001b[0m \u001b[0mOutputParserException\u001b[0m\u001b[0;34m(\u001b[0m\u001b[0mmsg\u001b[0m\u001b[0;34m,\u001b[0m \u001b[0mllm_output\u001b[0m\u001b[0;34m=\u001b[0m\u001b[0mtext\u001b[0m\u001b[0;34m)\u001b[0m\u001b[0;34m\u001b[0m\u001b[0;34m\u001b[0m\u001b[0m\n\u001b[0m\u001b[1;32m     40\u001b[0m \u001b[0;34m\u001b[0m\u001b[0m\n\u001b[1;32m     41\u001b[0m     \u001b[0;32mdef\u001b[0m \u001b[0mget_format_instructions\u001b[0m\u001b[0;34m(\u001b[0m\u001b[0mself\u001b[0m\u001b[0;34m)\u001b[0m \u001b[0;34m->\u001b[0m \u001b[0mstr\u001b[0m\u001b[0;34m:\u001b[0m\u001b[0;34m\u001b[0m\u001b[0;34m\u001b[0m\u001b[0m\n",
      "\u001b[0;31mOutputParserException\u001b[0m: Failed to parse LegalRule from completion \n{\n    \"rule_type\": \"Responsibilities of dealers\",\n    \"rule_data\": {\n        \"identifier\": \"7\",\n        \"conditions\": [\n            \"the dealer has been given the responsibility of collection on behalf of the producer\"\n        ],\n        \"result\": \"the dealer shall collect the e-waste by providing the consumer a box, bin or a demarcated area to deposit e-waste, or through take back system and send the e-waste so collected to collection centre or dismantler or recycler as designated by producer\"\n    }\n},\n{\n    \"rule_type\": \"Responsibilities of dealers\",\n    \"rule_data\": {\n        \"identifier\": \"7\",\n        \"conditions\": [\n            \"the dealer or retailer or e-retailer shall refund the amount as per take back system or Deposit Refund Scheme of the producer to the depositor of e-waste\"\n        ],\n        \"result\": \"the dealer or retailer or e-retailer shall refund the amount as per take back system or Deposit Refund Scheme of the producer to the depositor of e-waste\"\n    }\n},\n{\n    \"rule_type\": \"Responsibilities of dealers\",\n    \"rule_data\": {\n        \"identifier\": \"7\",\n        \"conditions\": [\n            \"every. Got: Extra data: line 10 column 2 (char 507)"
     ]
    }
   ],
   "source": [
    "# And a query intended to prompt a language model to populate the data structure.\n",
    "conversion_query = '''Convert this text into LegalRuleML compliant code-  7. Responsibilities of dealers.\n",
    "(1)\n",
    "in the case the dealer has been given the responsibility of collection on behalf of the producer, the dealer shall collect the e-waste by providing the consumer a box, bin or a demarcated area to deposit e-waste, or through take back system and send the e-waste so collected to collection centre or dismantler or recycler as designated by producer;\n",
    "(2)\n",
    "the dealer or retailer or e-retailer shall refund the amount as per take back system or Deposit Refund Scheme of the producer to the depositor of e-waste;\n",
    "(3)\n",
    "every dealer shall ensure that the e-waste thus generated is safely transported to authorised dismantlers or recyclers;\n",
    "(4)\n",
    "ensure that no damage is caused to the environment during storage and transportation of e-waste.\n",
    "8. Responsibilities of the refurbisher.\n",
    "(1)\n",
    "collect e-waste generated during the process of refurbishing and channelise the waste to authorised dismantler or recycler through its collection centre;\n",
    "(2)\n",
    "make an application in Form 1(a) in accordance with the procedure laid down in sub-rule (4) of rule 13 to the concerned State Pollution Control Board for grant of one time authorisation;\n",
    "(a)\n",
    "the concerned State Pollution Control Board shall authorise the Refurbisher on one time basis as per Form 1 (bb) and authorisation would be deemed as considered if not objected to within a period of thirty days;\n",
    "(b)\n",
    "the authorised Refurbisher shall be required to submit details of e-waste generated to the concerned State Pollution Control Board on yearly basis;\n",
    "(3)\n",
    "ensure that no damage is caused to the environment during storage and transportation of e-waste;\n",
    "(4)\n",
    "ensure that the refurbishing process do not have any adverse effect on the health and the environment;\n",
    "(5)\n",
    "ensure that the e-waste thus generated is safely transported to authorised collection centres or dismantlers or recyclers;\n",
    "(6)\n",
    "file annual returns in Form-3 to the concerned State Pollution Control Board, on or before the 30th day of June following the financial year to which that return relates;\n",
    "(7)\n",
    "maintain records of the e-waste handled in Form-2 and such records should be available for scrutiny by the appropriate authority.'''\n",
    "\n",
    "# Set up a parser + inject instructions into the prompt template.\n",
    "parser = PydanticOutputParser(pydantic_object=LegalRule)\n",
    "\n",
    "# Prompt\n",
    "prompt = PromptTemplate(\n",
    "    template=\"Answer the user query.\\n{format_instructions}\\n{query}\\n\",\n",
    "    input_variables=[\"query\", \"user_choice\"],\n",
    "    partial_variables={\"format_instructions\": parser.get_format_instructions()},\n",
    ")\n",
    "\n",
    "# Run\n",
    "_input = prompt.format_prompt(query=conversion_query, user_choice=\"prescriptive\")\n",
    "model = OpenAI(openai_api_key=openai_api_key, temperature=0)\n",
    "output = model(_input.to_string())\n",
    "parser.parse(output)"
   ]
  },
  {
   "cell_type": "markdown",
   "metadata": {
    "id": "JZl-gYVZKkS8"
   },
   "source": [
    "\n",
    "```\n",
    "# This is formatted as code\n",
    "```\n",
    "\n"
   ]
  },
  {
   "cell_type": "code",
   "execution_count": null,
   "metadata": {
    "colab": {
     "base_uri": "https://localhost:8080/"
    },
    "id": "4FkR_uJtKdZs",
    "outputId": "cd5a7fde-4c7d-47be-8a53-88b8b80b8d57"
   },
   "outputs": [
    {
     "name": "stdout",
     "output_type": "stream",
     "text": [
      "The output should be formatted as a JSON instance that conforms to the JSON schema below.\n",
      "\n",
      "As an example, for the schema {\"properties\": {\"foo\": {\"title\": \"Foo\", \"description\": \"a list of strings\", \"type\": \"array\", \"items\": {\"type\": \"string\"}}}, \"required\": [\"foo\"]}\n",
      "the object {\"foo\": [\"bar\", \"baz\"]} is a well-formatted instance of the schema. The object {\"properties\": {\"foo\": [\"bar\", \"baz\"]}} is not well-formatted.\n",
      "\n",
      "Here is the output schema:\n",
      "```\n",
      "{\"properties\": {\"rule_type\": {\"title\": \"Rule Type\", \"type\": \"string\"}, \"rule_data\": {\"title\": \"Rule Data\", \"default\": {}, \"anyOf\": [{\"$ref\": \"#/definitions/ConstitutiveRule\"}, {\"$ref\": \"#/definitions/PrescriptiveRule\"}, {\"type\": \"object\"}]}}, \"definitions\": {\"ConstitutiveRule\": {\"title\": \"ConstitutiveRule\", \"type\": \"object\", \"properties\": {\"identifier\": {\"title\": \"Identifier\", \"description\": \"Unique identifier for the rule\", \"type\": \"string\"}, \"conditions\": {\"title\": \"Conditions\", \"description\": \"Conditions that create a new legal status or fact\", \"type\": \"array\", \"items\": {\"type\": \"string\"}}, \"result\": {\"title\": \"Result\", \"description\": \"The legal status or fact created by the rule\", \"type\": \"string\"}}, \"required\": [\"identifier\", \"conditions\", \"result\"]}, \"PrescriptiveRule\": {\"title\": \"PrescriptiveRule\", \"type\": \"object\", \"properties\": {\"identifier\": {\"title\": \"Identifier\", \"description\": \"Unique identifier for the rule\", \"type\": \"string\"}, \"preconditions\": {\"title\": \"Preconditions\", \"description\": \"Conditions under which the rule applies\", \"type\": \"array\", \"items\": {\"type\": \"string\"}}, \"obligations\": {\"title\": \"Obligations\", \"description\": \"Obligations imposed by the rule\", \"default\": [], \"type\": \"array\", \"items\": {\"type\": \"string\"}}, \"permissions\": {\"title\": \"Permissions\", \"description\": \"Permissions granted by the rule\", \"default\": [], \"type\": \"array\", \"items\": {\"type\": \"string\"}}, \"prohibitions\": {\"title\": \"Prohibitions\", \"description\": \"Prohibitions enforced by the rule\", \"default\": [], \"type\": \"array\", \"items\": {\"type\": \"string\"}}}, \"required\": [\"identifier\", \"preconditions\"]}}}\n",
      "```\n"
     ]
    }
   ],
   "source": [
    "print(parser.get_format_instructions())\n"
   ]
  },
  {
   "cell_type": "code",
   "execution_count": null,
   "metadata": {
    "colab": {
     "base_uri": "https://localhost:8080/"
    },
    "id": "N9rQ9GDfKqQN",
    "outputId": "405df050-ce1e-4a25-ae78-03839d6f8360"
   },
   "outputs": [
    {
     "name": "stdout",
     "output_type": "stream",
     "text": [
      "text='Answer the user query.\\nThe output should be formatted as a JSON instance that conforms to the JSON schema below.\\n\\nAs an example, for the schema {\"properties\": {\"foo\": {\"title\": \"Foo\", \"description\": \"a list of strings\", \"type\": \"array\", \"items\": {\"type\": \"string\"}}}, \"required\": [\"foo\"]}\\nthe object {\"foo\": [\"bar\", \"baz\"]} is a well-formatted instance of the schema. The object {\"properties\": {\"foo\": [\"bar\", \"baz\"]}} is not well-formatted.\\n\\nHere is the output schema:\\n```\\n{\"properties\": {\"rule_type\": {\"title\": \"Rule Type\", \"type\": \"string\"}, \"rule_data\": {\"title\": \"Rule Data\", \"default\": {}, \"anyOf\": [{\"$ref\": \"#/definitions/ConstitutiveRule\"}, {\"$ref\": \"#/definitions/PrescriptiveRule\"}, {\"type\": \"object\"}]}}, \"definitions\": {\"ConstitutiveRule\": {\"title\": \"ConstitutiveRule\", \"type\": \"object\", \"properties\": {\"identifier\": {\"title\": \"Identifier\", \"description\": \"Unique identifier for the rule\", \"type\": \"string\"}, \"conditions\": {\"title\": \"Conditions\", \"description\": \"Conditions that create a new legal status or fact\", \"type\": \"array\", \"items\": {\"type\": \"string\"}}, \"result\": {\"title\": \"Result\", \"description\": \"The legal status or fact created by the rule\", \"type\": \"string\"}}, \"required\": [\"identifier\", \"conditions\", \"result\"]}, \"PrescriptiveRule\": {\"title\": \"PrescriptiveRule\", \"type\": \"object\", \"properties\": {\"identifier\": {\"title\": \"Identifier\", \"description\": \"Unique identifier for the rule\", \"type\": \"string\"}, \"preconditions\": {\"title\": \"Preconditions\", \"description\": \"Conditions under which the rule applies\", \"type\": \"array\", \"items\": {\"type\": \"string\"}}, \"obligations\": {\"title\": \"Obligations\", \"description\": \"Obligations imposed by the rule\", \"default\": [], \"type\": \"array\", \"items\": {\"type\": \"string\"}}, \"permissions\": {\"title\": \"Permissions\", \"description\": \"Permissions granted by the rule\", \"default\": [], \"type\": \"array\", \"items\": {\"type\": \"string\"}}, \"prohibitions\": {\"title\": \"Prohibitions\", \"description\": \"Prohibitions enforced by the rule\", \"default\": [], \"type\": \"array\", \"items\": {\"type\": \"string\"}}}, \"required\": [\"identifier\", \"preconditions\"]}}}\\n```\\nConvert this text into LegalRuleML compliant code-  7. Responsibilities of dealers.\\n(1)\\nin the case the dealer has been given the responsibility of collection on behalf of the producer, the dealer shall collect the e-waste by providing the consumer a box, bin or a demarcated area to deposit e-waste, or through take back system and send the e-waste so collected to collection centre or dismantler or recycler as designated by producer;\\n(2)\\nthe dealer or retailer or e-retailer shall refund the amount as per take back system or Deposit Refund Scheme of the producer to the depositor of e-waste;\\n(3)\\nevery dealer shall ensure that the e-waste thus generated is safely transported to authorised dismantlers or recyclers;\\n(4)\\nensure that no damage is caused to the environment during storage and transportation of e-waste.\\n8. Responsibilities of the refurbisher.\\n(1)\\ncollect e-waste generated during the process of refurbishing and channelise the waste to authorised dismantler or recycler through its collection centre;\\n(2)\\nmake an application in Form 1(a) in accordance with the procedure laid down in sub-rule (4) of rule 13 to the concerned State Pollution Control Board for grant of one time authorisation;\\n(a)\\nthe concerned State Pollution Control Board shall authorise the Refurbisher on one time basis as per Form 1 (bb) and authorisation would be deemed as considered if not objected to within a period of thirty days;\\n(b)\\nthe authorised Refurbisher shall be required to submit details of e-waste generated to the concerned State Pollution Control Board on yearly basis;\\n(3)\\nensure that no damage is caused to the environment during storage and transportation of e-waste;\\n(4)\\nensure that the refurbishing process do not have any adverse effect on the health and the environment;\\n(5)\\nensure that the e-waste thus generated is safely transported to authorised collection centres or dismantlers or recyclers;\\n(6)\\nfile annual returns in Form-3 to the concerned State Pollution Control Board, on or before the 30th day of June following the financial year to which that return relates;\\n(7)\\nmaintain records of the e-waste handled in Form-2 and such records should be available for scrutiny by the appropriate authority.\\n'\n"
     ]
    }
   ],
   "source": [
    "print(_input)"
   ]
  },
  {
   "cell_type": "code",
   "execution_count": null,
   "metadata": {
    "colab": {
     "base_uri": "https://localhost:8080/"
    },
    "id": "Od34l6VFMqm0",
    "outputId": "651fa17e-6ab5-4ce2-dff6-787f0cd56693"
   },
   "outputs": [
    {
     "data": {
      "text/plain": [
       "LegalRule(rule_type='PrescriptiveRule', rule_data=PrescriptiveRule(identifier='7', preconditions=['the dealer has been given the responsibility of collection on behalf of the producer'], obligations=['the dealer shall collect the e-waste by providing the consumer a box, bin or a demarcated area to deposit e-waste, or through take back system and send the e-waste so collected to collection centre or dismantler or recycler as designated by producer'], permissions=['the dealer or retailer or e-retailer shall refund the amount as per take back system or Deposit Refund Scheme of the producer to the depositor of e-waste'], prohibitions=['ensure that no damage is caused to the environment during storage and transportation of e-waste']))"
      ]
     },
     "execution_count": 25,
     "metadata": {},
     "output_type": "execute_result"
    }
   ],
   "source": [
    "# And a query intended to prompt a language model to populate the data structure.\n",
    "conversion_query = '''Convert this text into LegalRuleML compliant code-  7. Responsibilities of dealers.\n",
    "(1)\n",
    "in the case the dealer has been given the responsibility of collection on behalf of the producer, the dealer shall collect the e-waste by providing the consumer a box, bin or a demarcated area to deposit e-waste, or through take back system and send the e-waste so collected to collection centre or dismantler or recycler as designated by producer;\n",
    "(2)\n",
    "the dealer or retailer or e-retailer shall refund the amount as per take back system or Deposit Refund Scheme of the producer to the depositor of e-waste;\n",
    "(3)\n",
    "every dealer shall ensure that the e-waste thus generated is safely transported to authorised dismantlers or recyclers;\n",
    "(4)\n",
    "ensure that no damage is caused to the environment during storage and transportation of e-waste.\n",
    "'''\n",
    "# Set up a parser + inject instructions into the prompt template.\n",
    "parser = PydanticOutputParser(pydantic_object=LegalRule)\n",
    "\n",
    "# Prompt\n",
    "prompt = PromptTemplate(\n",
    "    template=\"Answer the user query.\\n{format_instructions}\\n{query}\\n\",\n",
    "    input_variables=[\"query\", \"user_choice\"],\n",
    "    partial_variables={\"format_instructions\": parser.get_format_instructions()},\n",
    ")\n",
    "\n",
    "# Run\n",
    "_input = prompt.format_prompt(query=conversion_query, user_choice=\"prescriptive\")\n",
    "model = OpenAI(openai_api_key=openai_api_key, temperature=0)\n",
    "output = model(_input.to_string())\n",
    "parser.parse(output)"
   ]
  },
  {
   "cell_type": "code",
   "execution_count": null,
   "metadata": {
    "colab": {
     "base_uri": "https://localhost:8080/"
    },
    "id": "s_-rQ0ECNvIF",
    "outputId": "3b6fd0b9-255f-4372-b1fa-8babef721a68"
   },
   "outputs": [
    {
     "name": "stdout",
     "output_type": "stream",
     "text": [
      "\n",
      "{\n",
      "    \"rule_type\": \"PrescriptiveRule\",\n",
      "    \"rule_data\": {\n",
      "        \"identifier\": \"7\",\n",
      "        \"preconditions\": [\n",
      "            \"the dealer has been given the responsibility of collection on behalf of the producer\"\n",
      "        ],\n",
      "        \"obligations\": [\n",
      "            \"the dealer shall collect the e-waste by providing the consumer a box, bin or a demarcated area to deposit e-waste, or through take back system and send the e-waste so collected to collection centre or dismantler or recycler as designated by producer\"\n",
      "        ],\n",
      "        \"permissions\": [\n",
      "            \"the dealer or retailer or e-retailer shall refund the amount as per take back system or Deposit Refund Scheme of the producer to the depositor of e-waste\"\n",
      "        ],\n",
      "        \"prohibitions\": [\n",
      "            \"ensure that no damage is caused to the environment during storage and transportation of e-waste\"\n",
      "        ]\n",
      "    }\n",
      "}\n"
     ]
    }
   ],
   "source": [
    "print(output)"
   ]
  },
  {
   "cell_type": "code",
   "execution_count": null,
   "metadata": {
    "id": "Es1atWpmOAsu"
   },
   "outputs": [],
   "source": []
  }
 ],
 "metadata": {
  "colab": {
   "provenance": []
  },
  "kernelspec": {
   "display_name": "Python 3 (ipykernel)",
   "language": "python",
   "name": "python3"
  },
  "language_info": {
   "codemirror_mode": {
    "name": "ipython",
    "version": 3
   },
   "file_extension": ".py",
   "mimetype": "text/x-python",
   "name": "python",
   "nbconvert_exporter": "python",
   "pygments_lexer": "ipython3",
   "version": "3.11.5"
  }
 },
 "nbformat": 4,
 "nbformat_minor": 4
}
