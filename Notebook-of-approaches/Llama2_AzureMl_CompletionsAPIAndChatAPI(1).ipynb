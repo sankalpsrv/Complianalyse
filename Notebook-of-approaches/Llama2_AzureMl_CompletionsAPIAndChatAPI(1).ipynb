{
  "nbformat": 4,
  "nbformat_minor": 0,
  "metadata": {
    "colab": {
      "provenance": []
    },
    "kernelspec": {
      "name": "python3",
      "display_name": "Python 3"
    },
    "language_info": {
      "name": "python"
    }
  },
  "cells": [
    {
      "cell_type": "markdown",
      "source": [
        "This notebook contains the comparisons for the results from using :- Completions and Chat Endpoints from Azure ML Endpoints for the **Llama 2 - 7b foundational model**\n",
        "\n",
        "It also compares *both approaches* for *both endpoints*:- Langchain as well as without Langchain.\n",
        "\n",
        "1) Setup without LangChain is working as intended, and returning results in both Chat and Completions endpoint. This is the most feasible model given time constraints, although LangChain can be integrated later on as it provides a good framework.\n",
        "\n",
        "2) It was found that the completions endpoint deployed via Azure ML returns no output even when it was attempted to run with few-shot prompting and stop."
      ],
      "metadata": {
        "id": "tOgFpvwcdvfM"
      }
    },
    {
      "cell_type": "markdown",
      "source": [
        "# Setup cells"
      ],
      "metadata": {
        "id": "Ig2_Xeu9fqqo"
      }
    },
    {
      "cell_type": "code",
      "execution_count": null,
      "metadata": {
        "colab": {
          "base_uri": "https://localhost:8080/"
        },
        "id": "DFtb1Z30Fuie",
        "outputId": "6e90e329-5f21-45ca-cf9d-eb364acbf9fd"
      },
      "outputs": [
        {
          "output_type": "stream",
          "name": "stdout",
          "text": [
            "Collecting langchain\n",
            "  Downloading langchain-0.1.7-py3-none-any.whl (815 kB)\n",
            "\u001b[?25l     \u001b[90m━━━━━━━━━━━━━━━━━━━━━━━━━━━━━━━━━━━━━━━━\u001b[0m \u001b[32m0.0/815.9 kB\u001b[0m \u001b[31m?\u001b[0m eta \u001b[36m-:--:--\u001b[0m\r\u001b[2K     \u001b[91m━━━━━━━━━━\u001b[0m\u001b[90m╺\u001b[0m\u001b[90m━━━━━━━━━━━━━━━━━━━━━━━━━━━━━\u001b[0m \u001b[32m204.8/815.9 kB\u001b[0m \u001b[31m5.9 MB/s\u001b[0m eta \u001b[36m0:00:01\u001b[0m\r\u001b[2K     \u001b[90m━━━━━━━━━━━━━━━━━━━━━━━━━━━━━━━━━━━━━━━━\u001b[0m \u001b[32m815.9/815.9 kB\u001b[0m \u001b[31m15.0 MB/s\u001b[0m eta \u001b[36m0:00:00\u001b[0m\n",
            "\u001b[?25hRequirement already satisfied: PyYAML>=5.3 in /usr/local/lib/python3.10/dist-packages (from langchain) (6.0.1)\n",
            "Requirement already satisfied: SQLAlchemy<3,>=1.4 in /usr/local/lib/python3.10/dist-packages (from langchain) (2.0.27)\n",
            "Requirement already satisfied: aiohttp<4.0.0,>=3.8.3 in /usr/local/lib/python3.10/dist-packages (from langchain) (3.9.3)\n",
            "Requirement already satisfied: async-timeout<5.0.0,>=4.0.0 in /usr/local/lib/python3.10/dist-packages (from langchain) (4.0.3)\n",
            "Collecting dataclasses-json<0.7,>=0.5.7 (from langchain)\n",
            "  Downloading dataclasses_json-0.6.4-py3-none-any.whl (28 kB)\n",
            "Collecting jsonpatch<2.0,>=1.33 (from langchain)\n",
            "  Downloading jsonpatch-1.33-py2.py3-none-any.whl (12 kB)\n",
            "Collecting langchain-community<0.1,>=0.0.20 (from langchain)\n",
            "  Downloading langchain_community-0.0.20-py3-none-any.whl (1.7 MB)\n",
            "\u001b[2K     \u001b[90m━━━━━━━━━━━━━━━━━━━━━━━━━━━━━━━━━━━━━━━━\u001b[0m \u001b[32m1.7/1.7 MB\u001b[0m \u001b[31m53.4 MB/s\u001b[0m eta \u001b[36m0:00:00\u001b[0m\n",
            "\u001b[?25hCollecting langchain-core<0.2,>=0.1.22 (from langchain)\n",
            "  Downloading langchain_core-0.1.23-py3-none-any.whl (241 kB)\n",
            "\u001b[2K     \u001b[90m━━━━━━━━━━━━━━━━━━━━━━━━━━━━━━━━━━━━━━━━\u001b[0m \u001b[32m241.2/241.2 kB\u001b[0m \u001b[31m26.3 MB/s\u001b[0m eta \u001b[36m0:00:00\u001b[0m\n",
            "\u001b[?25hCollecting langsmith<0.1,>=0.0.83 (from langchain)\n",
            "  Downloading langsmith-0.0.92-py3-none-any.whl (56 kB)\n",
            "\u001b[2K     \u001b[90m━━━━━━━━━━━━━━━━━━━━━━━━━━━━━━━━━━━━━━━━\u001b[0m \u001b[32m56.5/56.5 kB\u001b[0m \u001b[31m5.1 MB/s\u001b[0m eta \u001b[36m0:00:00\u001b[0m\n",
            "\u001b[?25hRequirement already satisfied: numpy<2,>=1 in /usr/local/lib/python3.10/dist-packages (from langchain) (1.25.2)\n",
            "Requirement already satisfied: pydantic<3,>=1 in /usr/local/lib/python3.10/dist-packages (from langchain) (2.6.1)\n",
            "Requirement already satisfied: requests<3,>=2 in /usr/local/lib/python3.10/dist-packages (from langchain) (2.31.0)\n",
            "Requirement already satisfied: tenacity<9.0.0,>=8.1.0 in /usr/local/lib/python3.10/dist-packages (from langchain) (8.2.3)\n",
            "Requirement already satisfied: aiosignal>=1.1.2 in /usr/local/lib/python3.10/dist-packages (from aiohttp<4.0.0,>=3.8.3->langchain) (1.3.1)\n",
            "Requirement already satisfied: attrs>=17.3.0 in /usr/local/lib/python3.10/dist-packages (from aiohttp<4.0.0,>=3.8.3->langchain) (23.2.0)\n",
            "Requirement already satisfied: frozenlist>=1.1.1 in /usr/local/lib/python3.10/dist-packages (from aiohttp<4.0.0,>=3.8.3->langchain) (1.4.1)\n",
            "Requirement already satisfied: multidict<7.0,>=4.5 in /usr/local/lib/python3.10/dist-packages (from aiohttp<4.0.0,>=3.8.3->langchain) (6.0.5)\n",
            "Requirement already satisfied: yarl<2.0,>=1.0 in /usr/local/lib/python3.10/dist-packages (from aiohttp<4.0.0,>=3.8.3->langchain) (1.9.4)\n",
            "Collecting marshmallow<4.0.0,>=3.18.0 (from dataclasses-json<0.7,>=0.5.7->langchain)\n",
            "  Downloading marshmallow-3.20.2-py3-none-any.whl (49 kB)\n",
            "\u001b[2K     \u001b[90m━━━━━━━━━━━━━━━━━━━━━━━━━━━━━━━━━━━━━━━━\u001b[0m \u001b[32m49.4/49.4 kB\u001b[0m \u001b[31m5.6 MB/s\u001b[0m eta \u001b[36m0:00:00\u001b[0m\n",
            "\u001b[?25hCollecting typing-inspect<1,>=0.4.0 (from dataclasses-json<0.7,>=0.5.7->langchain)\n",
            "  Downloading typing_inspect-0.9.0-py3-none-any.whl (8.8 kB)\n",
            "Collecting jsonpointer>=1.9 (from jsonpatch<2.0,>=1.33->langchain)\n",
            "  Downloading jsonpointer-2.4-py2.py3-none-any.whl (7.8 kB)\n",
            "Requirement already satisfied: anyio<5,>=3 in /usr/local/lib/python3.10/dist-packages (from langchain-core<0.2,>=0.1.22->langchain) (3.7.1)\n",
            "Collecting langsmith<0.1,>=0.0.83 (from langchain)\n",
            "  Downloading langsmith-0.0.87-py3-none-any.whl (55 kB)\n",
            "\u001b[2K     \u001b[90m━━━━━━━━━━━━━━━━━━━━━━━━━━━━━━━━━━━━━━━━\u001b[0m \u001b[32m55.4/55.4 kB\u001b[0m \u001b[31m5.8 MB/s\u001b[0m eta \u001b[36m0:00:00\u001b[0m\n",
            "\u001b[?25hRequirement already satisfied: packaging<24.0,>=23.2 in /usr/local/lib/python3.10/dist-packages (from langchain-core<0.2,>=0.1.22->langchain) (23.2)\n",
            "Requirement already satisfied: annotated-types>=0.4.0 in /usr/local/lib/python3.10/dist-packages (from pydantic<3,>=1->langchain) (0.6.0)\n",
            "Requirement already satisfied: pydantic-core==2.16.2 in /usr/local/lib/python3.10/dist-packages (from pydantic<3,>=1->langchain) (2.16.2)\n",
            "Requirement already satisfied: typing-extensions>=4.6.1 in /usr/local/lib/python3.10/dist-packages (from pydantic<3,>=1->langchain) (4.9.0)\n",
            "Requirement already satisfied: charset-normalizer<4,>=2 in /usr/local/lib/python3.10/dist-packages (from requests<3,>=2->langchain) (3.3.2)\n",
            "Requirement already satisfied: idna<4,>=2.5 in /usr/local/lib/python3.10/dist-packages (from requests<3,>=2->langchain) (3.6)\n",
            "Requirement already satisfied: urllib3<3,>=1.21.1 in /usr/local/lib/python3.10/dist-packages (from requests<3,>=2->langchain) (2.0.7)\n",
            "Requirement already satisfied: certifi>=2017.4.17 in /usr/local/lib/python3.10/dist-packages (from requests<3,>=2->langchain) (2024.2.2)\n",
            "Requirement already satisfied: greenlet!=0.4.17 in /usr/local/lib/python3.10/dist-packages (from SQLAlchemy<3,>=1.4->langchain) (3.0.3)\n",
            "Requirement already satisfied: sniffio>=1.1 in /usr/local/lib/python3.10/dist-packages (from anyio<5,>=3->langchain-core<0.2,>=0.1.22->langchain) (1.3.0)\n",
            "Requirement already satisfied: exceptiongroup in /usr/local/lib/python3.10/dist-packages (from anyio<5,>=3->langchain-core<0.2,>=0.1.22->langchain) (1.2.0)\n",
            "Collecting mypy-extensions>=0.3.0 (from typing-inspect<1,>=0.4.0->dataclasses-json<0.7,>=0.5.7->langchain)\n",
            "  Downloading mypy_extensions-1.0.0-py3-none-any.whl (4.7 kB)\n",
            "Installing collected packages: mypy-extensions, marshmallow, jsonpointer, typing-inspect, jsonpatch, langsmith, dataclasses-json, langchain-core, langchain-community, langchain\n",
            "Successfully installed dataclasses-json-0.6.4 jsonpatch-1.33 jsonpointer-2.4 langchain-0.1.7 langchain-community-0.0.20 langchain-core-0.1.23 langsmith-0.0.87 marshmallow-3.20.2 mypy-extensions-1.0.0 typing-inspect-0.9.0\n"
          ]
        }
      ],
      "source": [
        "!pip install langchain"
      ]
    },
    {
      "cell_type": "markdown",
      "source": [
        "### Setup for Langchain\n",
        "\n",
        "Common elements were put here, whereas more specific changes were made in the relevant cells below, dealing with inference and few shot prompting."
      ],
      "metadata": {
        "id": "TMhYsYwkf0bo"
      }
    },
    {
      "cell_type": "code",
      "source": [
        "from langchain_community.chat_models.azureml_endpoint import AzureMLChatOnlineEndpoint"
      ],
      "metadata": {
        "id": "ghLui_8HI37E"
      },
      "execution_count": null,
      "outputs": []
    },
    {
      "cell_type": "code",
      "source": [
        "from langchain_community.llms.azureml_endpoint import AzureMLOnlineEndpoint"
      ],
      "metadata": {
        "id": "5kK4E67fJ2g8"
      },
      "execution_count": null,
      "outputs": []
    },
    {
      "cell_type": "code",
      "source": [
        "from langchain.schema import HumanMessage\n",
        "from langchain_community.llms.azureml_endpoint import (\n",
        "    AzureMLEndpointApiType,\n",
        "    LlamaContentFormatter,\n",
        ")\n",
        "\n"
      ],
      "metadata": {
        "id": "RIJrm2bkgWXq"
      },
      "execution_count": null,
      "outputs": []
    },
    {
      "cell_type": "markdown",
      "source": [
        "## Approach 1 - Completions Endpoint using Langchain"
      ],
      "metadata": {
        "id": "Sd_GM27GgaCQ"
      }
    },
    {
      "cell_type": "code",
      "source": [
        "llm = AzureMLOnlineEndpoint(\n",
        "    endpoint_url=azure_public_address,\n",
        "    endpoint_api_type=AzureMLEndpointApiType.serverless,\n",
        "    endpoint_api_key=azure_env_key,\n",
        "    content_formatter=LlamaContentFormatter(),\n",
        "    model_kwargs={\"temperature\": 0.8, \"max_new_tokens\": 1000},\n",
        ")\n",
        "response = llm.invoke('''You are an automated LegalRuleML XML generator. You are given a question and answer as follows, please try to generate the answer for the next prompt accordingly\n",
        "\n",
        "question\": \"Statute: Punishment for piracy - Whoever commits any act of piracy shall be punished with imprisonment for life or with fine or with both; or with death if the act of piracy causes death.\",\n",
        "        \"answer\":\n",
        "<LegalRuleML xmlns=\"http://www.oasis-open.org/committees/legalruleml\">\n",
        "  <lrml:PrescriptiveStatement id=\"PunishmentForPiracy\">\n",
        "    <lrml:Rule id=\"RuleForPiracyPunishment\">\n",
        "      <lrml:if>\n",
        "      <lrml:Fact>\n",
        "          <lrml:Rel iri=\"#commitPiracy\"/>\n",
        "        </lrml:Fact>\n",
        "      </lrml:if>\n",
        "      <lrml:then>\n",
        "        <lrml:Obligation>\n",
        "          <lrml:Sanction>\n",
        "            <lrml:Penalty>\n",
        "              <lrml:Type iri=\"#imprisonment\"/>\n",
        "              <lrml:Duration max=\"life\"/>\n",
        "            </lrml:Penalty>\n",
        "            <lrml:Condition>\n",
        "              <lrml:CausesDeathOrAttempt/>\n",
        "              <lrml:AdditionalSanctions>\n",
        "                <lrml:Restitution/>\n",
        "                <lrml:ForfeitureOfProperty/>\n",
        "              </lrml:AdditionalSanctions>\n",
        "            </lrml:Condition>\n",
        "          </lrml:Sanction>\n",
        "        </lrml:Obligation>\n",
        "      </lrml:then>\n",
        "    </lrml:Rule>\n",
        "  </lrml:PrescriptiveStatement>\n",
        "</LegalRuleML>\n",
        "\n",
        "Question that requires your converting to LegalRuleML :\n",
        "\n",
        "Accident reporting.\n",
        "(1)In case of any major accident at any institution or facility or any other site while handling bio-medical waste, the authorised person shall intimate immediately to the prescribed authority about such accident and forward a report within twenty-four hours in writing regarding the remedial steps taken in Form I.\n",
        "\n",
        "''')\n",
        "response"
      ],
      "metadata": {
        "colab": {
          "base_uri": "https://localhost:8080/",
          "height": 36
        },
        "id": "s1RCrj8XK9C6",
        "outputId": "fe065502-1f24-45b8-d9dc-0c2238ab265e"
      },
      "execution_count": 48,
      "outputs": [
        {
          "output_type": "execute_result",
          "data": {
            "text/plain": [
              "'(2)For every accident as specified in clause (1), the authorised'"
            ],
            "application/vnd.google.colaboratory.intrinsic+json": {
              "type": "string"
            }
          },
          "metadata": {},
          "execution_count": 48
        }
      ]
    },
    {
      "cell_type": "markdown",
      "source": [
        "### Setup without Langchain"
      ],
      "metadata": {
        "id": "LxCs4DsSgg3s"
      }
    },
    {
      "cell_type": "code",
      "source": [
        "import urllib.request\n",
        "import json\n",
        "import os\n",
        "import ssl\n",
        "\n",
        "def allowSelfSignedHttps(allowed):\n",
        "    # bypass the server certificate verification on client side\n",
        "    if allowed and not os.environ.get('PYTHONHTTPSVERIFY', '') and getattr(ssl, '_create_unverified_context', None):\n",
        "        ssl._create_default_https_context = ssl._create_unverified_context\n",
        "\n",
        "allowSelfSignedHttps(True) # this line is needed if you use self-signed certificate in your scoring service.\n",
        "\n",
        "# Request data goes here\n",
        "# The example below assumes JSON formatting which may be updated\n",
        "# depending on the format your endpoint expects.\n",
        "# More information can be found here:\n",
        "# https://docs.microsoft.com/azure/machine-learning/how-to-deploy-advanced-entry-script\n",
        "\n",
        "body = str.encode(json.dumps(data))\n",
        "\n",
        "url = azure_public_address\n",
        "# Replace this with the primary/secondary key or AMLToken for the endpoint\n",
        "api_key = azure_env_key\n",
        "if not api_key:\n",
        "    raise Exception(\"A key should be provided to invoke the endpoint\")\n",
        "\n",
        "\n",
        "headers = {'Content-Type':'application/json', 'Authorization':('Bearer '+ api_key)}"
      ],
      "metadata": {
        "id": "7R3LSwlWgApz"
      },
      "execution_count": 83,
      "outputs": []
    },
    {
      "cell_type": "markdown",
      "source": [
        "# Approach 2 : Completions Endpoint without LangChain"
      ],
      "metadata": {
        "id": "OZScLj6Wgwaa"
      }
    },
    {
      "cell_type": "code",
      "source": [
        "data =  {\n",
        "  \"prompt\": '''You are an automated LegalRuleML XML generator. You are given a question and answer as follows, please try to generate the answer for the next prompt accordingly\n",
        "\n",
        "question\": \"Statute: Punishment for piracy - Whoever commits any act of piracy shall be punished with imprisonment for life or with fine or with both; or with death if the act of piracy causes death.\",\n",
        "        \"answer\":\n",
        "<LegalRuleML xmlns=\"http://www.oasis-open.org/committees/legalruleml\">\n",
        "  <lrml:PrescriptiveStatement id=\"PunishmentForPiracy\">\n",
        "    <lrml:Rule id=\"RuleForPiracyPunishment\">\n",
        "      <lrml:if>\n",
        "      <lrml:Fact>\n",
        "          <lrml:Rel iri=\"#commitPiracy\"/>\n",
        "        </lrml:Fact>\n",
        "      </lrml:if>\n",
        "      <lrml:then>\n",
        "        <lrml:Obligation>\n",
        "          <lrml:Sanction>\n",
        "            <lrml:Penalty>\n",
        "              <lrml:Type iri=\"#imprisonment\"/>\n",
        "              <lrml:Duration max=\"life\"/>\n",
        "            </lrml:Penalty>\n",
        "            <lrml:Condition>\n",
        "              <lrml:CausesDeathOrAttempt/>\n",
        "              <lrml:AdditionalSanctions>\n",
        "                <lrml:Restitution/>\n",
        "                <lrml:ForfeitureOfProperty/>\n",
        "              </lrml:AdditionalSanctions>\n",
        "            </lrml:Condition>\n",
        "          </lrml:Sanction>\n",
        "        </lrml:Obligation>\n",
        "      </lrml:then>\n",
        "    </lrml:Rule>\n",
        "  </lrml:PrescriptiveStatement>\n",
        "</LegalRuleML>\n",
        "\n",
        "Question that requires your converting to LegalRuleML :\n",
        "\n",
        "Accident reporting.\n",
        "(1)In case of any major accident at any institution or facility or any other site while handling bio-medical waste, the authorised person shall intimate immediately to the prescribed authority about such accident and forward a report within twenty-four hours in writing regarding the remedial steps taken in Form I.\n",
        "''',\n",
        "  \"temperature\": 0.4,\n",
        "  \"max_tokens\": 3000\n",
        "}\n",
        "\n",
        "req = urllib.request.Request(url, body, headers)\n",
        "\n",
        "try:\n",
        "   response = urllib.request.urlopen(req)\n",
        "\n",
        "   result = response.read()\n",
        "   print(\"result is \", result)\n",
        "except urllib.error.HTTPError as error:\n",
        "   print(\"The request failed with status code: \" + str(error.code))\n",
        "\n",
        "   # Print the headers - they include the requert ID and the timestamp, which are useful for debugging the failure\n",
        "   print(error.info())\n",
        "   print(error.read().decode(\"utf8\", 'ignore'))"
      ],
      "metadata": {
        "colab": {
          "base_uri": "https://localhost:8080/"
        },
        "id": "lQ3G8DIuOmoT",
        "outputId": "80c65e62-688d-476c-cb66-a7b967ef63da"
      },
      "execution_count": 84,
      "outputs": [
        {
          "output_type": "stream",
          "name": "stdout",
          "text": [
            "result is  b'{\"id\":\"aa498e11-e4a6-4c43-a6e6-f1bca5ab05ca\",\"object\":\"text_completion\",\"created\":1897211,\"model\":\"\",\"choices\":[{\"text\":\"(2)The prescribed authority shall cause an enquiry to be made into the cause of such accident and the remedial steps taken by the institution or facility or other site.\\\\n(3)If the prescribed authority is satisfied that the institution or facility or other site has taken adequate remedial steps, he may close the enquiry.\\\\n(4)If the prescribed authority is satisfied that the institution or facility or other site has not taken adequate remedial steps, he may cause an enquiry to be made by a committee of three members to be nominated by him and the committee shall submit its report within a period of sixty days from the date of receipt of the reference.\\\\n(5)If the prescribed authority is satisfied that the institution or facility or other site has taken adequate remedial steps, he may close the enquiry.\\\\n(6)If the prescribed authority is satisfied that the institution or facility or other site has not taken adequate remedial steps, he may cause an enquiry to be made by a committee of three members to be nominated by him and the committee shall submit its report within a period of sixty days from the date of receipt of the reference.\\\\n(7)If the prescribed authority is satisfied that the institution or facility or other site has taken adequate remedial steps, he may close the enquiry.\\\\n(8)If the prescribed authority is satisfied that the institution or facility or other site has not taken adequate remedial steps, he may cause an enquiry to be made by a committee of three members to be nominated by him and the committee shall submit its report within a period of sixty days from the date of receipt of the reference.\\\\n(9)If the prescribed authority is satisfied that the institution or facility or other site has taken adequate remedial steps, he may close the enquiry.\\\\n(10)If the prescribed authority is satisfied that the institution or facility or other site has not taken adequate remedial steps, he may cause an enquiry to be made by a committee of three members to be nominated by him and the committee shall submit its report within a period of sixty days from the date of receipt of the reference.\\\\n(11)If the prescribed authority is satisfied that the institution or facility or other site has taken adequate remedial steps, he may close the enquiry.\\\\n(12)If the prescribed authority is satisfied that the institution or facility or other site has not taken adequate remedial steps, he may cause an enquiry to be made by a committee of three members to be nominated by him and the committee shall submit its report within a period of sixty days from the date of receipt of the reference.\\\\n(13)If the prescribed authority is satisfied that the institution or facility or other site has taken adequate remedial steps, he may close the enquiry.\\\\n(14)If the prescribed authority is satisfied that the institution or facility or other site has not taken adequate remedial steps, he may cause an enquiry to be made by a committee of three members to be nominated by him and the committee shall submit its report within a period of sixty days from the date of receipt of the reference.\\\\n(15)If the prescribed authority is satisfied that the institution or facility or other site has taken adequate remedial steps, he may close the enquiry.\\\\n(16)If the prescribed authority is satisfied that the institution or facility or other site has not taken adequate remedial steps, he may cause an enquiry to be made by a committee of three members to be nominated by him and the committee shall submit its report within a period of sixty days from the date of receipt of the reference.\\\\n(17)If the prescribed authority is satisfied that the institution or facility or other site has taken adequate remedial steps, he may close the enquiry.\\\\n(18)If the prescribed authority is satisfied that the institution or facility or other site has not taken adequate remedial steps, he may cause an enquiry to be made by a committee of three members to be nominated by him and the committee shall submit its report within a period of sixty days from the date of receipt of the reference.\\\\n(19)If the prescribed authority is satisfied that the institution or facility or other site has taken adequate remedial steps, he may close the enquiry.\\\\n(20)If the prescribed authority is satisfied that the institution or facility or other site has not taken adequate remedial steps, he may cause an enquiry to be made by a committee of three members to be nominated by him and the committee shall submit its report within a period of sixty days from the date of receipt of the reference.\\\\n(21)If the prescribed authority is satisfied that the institution or facility or other site has taken adequate remedial steps, he may close the enquiry.\\\\n(22)If the prescribed authority is satisfied that the institution or facility or other site has not taken adequate remedial steps, he may cause an enquiry to be made by a committee of three members to be nominated by him and the committee shall submit its report within a period of sixty days from the date of receipt of the reference.\\\\n(23)If the prescribed authority is satisfied that the institution or facility or other site has taken adequate remedial steps, he may close the enquiry.\\\\n(24)If the prescribed authority is satisfied that the institution or facility or other site has not taken adequate remedial steps, he may cause an enquiry to be made by a committee of three members to be nominated by him and the committee shall submit its report within a period of sixty days from the date of receipt of the reference.\\\\n(25)If the prescribed authority is satisfied that the institution or facility or other site has taken adequate remedial steps, he may close the enquiry.\\\\n(26)If the prescribed authority is satisfied that the institution or facility or other site has not taken adequate remedial steps, he may cause an enquiry to be made by a committee of three members to be nominated by him and the committee shall submit its report within a period of sixty days from the date of receipt of the reference.\\\\n(27)If the prescribed authority is satisfied that the institution or facility or other site has taken adequate remedial steps, he may close the enquiry.\\\\n(28)If the prescribed authority is satisfied that the institution or facility or other site has not taken adequate remedial steps, he may cause an enquiry to be made by a committee of three members to be nominated by him and the committee shall submit its report within a period of sixty days from the date of receipt of the reference.\\\\n(29)If the prescribed authority is satisfied that the institution or facility or other site has taken adequate remedial steps, he may close the enquiry.\\\\n(30)If the prescribed authority is satisfied that the institution or facility or other site has not taken adequate remedial steps, he may cause an enquiry to be made by a committee of three members to be nominated by him and the committee shall submit its report within a period of sixty days from the date of receipt of the reference.\\\\n(31)If the prescribed authority is satisfied that the institution or facility or other site has taken adequate remedial steps, he may close the enquiry.\\\\n(32)If the prescribed authority is satisfied that the institution or facility or other site has not taken adequate remedial steps, he may cause an enquiry to be made by a committee of three members to be nominated by him and the committee shall submit its report within a period of sixty days from the date of receipt of the reference.\\\\n(33)If the prescribed authority is satisfied that the institution or facility or other site has taken adequate remedial steps, he may close the enquiry.\\\\n(34)If the prescribed authority is satisfied that the institution or facility or other site has not taken adequate remedial steps, he may cause an enquiry to be made by a committee of three members to be nominated by him and the committee shall submit its report within a period of sixty days from the date of receipt of the reference.\\\\n(35)If the prescribed authority is satisfied that the institution or facility or other site has taken adequate remedial steps, he may close the enquiry.\\\\n(36)If the prescribed authority is satisfied that the institution or facility or other site has not taken adequate remedial steps, he may cause an enquiry to be made by a committee of three members to be nominated by him and the committee shall submit its report within a period of sixty days from the date of receipt of the reference.\\\\n(37)If the prescribed authority is satisfied that the institution or facility or other site has taken adequate remedial steps, he may close the enquiry.\\\\n(38)If the prescribed authority is satisfied that the institution or facility or other site has not taken adequate remedial steps, he may cause an enquiry to be made by a committee of three members to be nominated by him and the committee shall submit its report within a period of sixty days from the date of receipt of the reference.\\\\n(39)If the prescribed authority is satisfied that the institution or facility or other site has taken adequate remedial steps, he may close the enquiry.\\\\n(40)If the prescribed authority is satisfied that the institution or facility or other site has not taken adequate remedial steps, he may cause an enquiry to be made by a committee of three members to be nominated by him and the committee shall submit its report within a period of sixty days from the date of receipt of the reference.\\\\n(41)If the prescribed authority is satisfied that the institution or facility or other site has taken adequate remedial steps, he may close the enquiry.\\\\n(42)If the prescribed authority is satisfied that the institution or facility or other site has not taken adequate remedial steps, he may cause an enquiry to be made by a committee of three members to be nominated by him and the committee shall submit its report within a period of sixty days from the date of receipt of the reference.\\\\n(43)If the prescribed authority is satisfied that the institution or facility or other site has taken adequate remedial steps, he may close the enquiry.\\\\n(44)If the prescribed authority is satisfied that the institution or facility or other site has not taken adequate remedial steps, he may cause an enquiry to be made by a committee of three members to be nominated by him and the committee shall submit its report within a period of sixty days from the date of receipt of the reference.\\\\n(45)If the prescribed authority is satisfied that the institution or facility or other site has taken adequate remedial steps, he may close the enquiry.\\\\n(46)If the prescribed authority is satisfied that the institution or facility or other site has not taken adequate remedial steps, he may cause an enquiry to be made by a committee of three members to be nominated by him and the committee shall submit its report within a period of sixty days from the date of receipt of the reference.\\\\n(47)If the prescribed authority is satisfied that the institution or facility or other site has taken adequate remedial steps, he may close the enquiry.\\\\n(48)If the prescribed authority is satisfied that the institution or facility or other site has not taken adequate remedial steps, he may cause an enquiry to be made by a committee of three members to be nominated by him and the committee shall submit its report within a period of sixty days from the date of receipt of the reference.\\\\n(49)If the prescribed authority is satisfied that the institution or facility or other site has taken adequate remedial steps, he may close the enquiry.\\\\n(50)If the prescribed authority is satisfied that the institution or facility or other site has not taken adequate remedial steps, he may cause an enquiry to be made by a committee of three members to be nominated by him and the committee shall submit its report within a period of sixty days from the date of receipt of the reference.\\\\n(51)If the prescribed authority is satisfied that the institution or facility or other site has taken adequate remedial steps, he may close the enquiry.\\\\n(52)If the prescribed authority is satisfied that the institution or facility or other site has not taken adequate remedial steps, he may cause an enquiry to be made by a committee of three members to be nominated by him and the committee shall submit its report within a period of sixty days from the date of receipt of the reference.\\\\n(53)If the prescribed authority is satisfied that the institution or facility or other site has taken adequate remedial steps, he may close the enquiry.\\\\n(54)If the prescribed authority is satisfied that the institution or facility or other site has not taken adequate remedial steps, he may cause an enquiry to be made by a committee of three members to be nominated by him and the committee shall submit its report within a period of sixty days from the date of receipt of the reference.\\\\n(55)If the prescribed authority is satisfied that the institution or facility or other site has taken adequate remedial steps, he may close the enquiry.\\\\n(56)If the prescribed authority is satisfied that the institution or facility or other site has\",\"index\":0,\"finish_reason\":\"length\",\"logprobs\":null}],\"usage\":{\"prompt_tokens\":487,\"total_tokens\":3487,\"completion_tokens\":3000}}\\n'\n"
          ]
        }
      ]
    },
    {
      "cell_type": "code",
      "source": [],
      "metadata": {
        "id": "Do5PY4L2k-g-"
      },
      "execution_count": null,
      "outputs": []
    },
    {
      "cell_type": "code",
      "source": [
        "result_json = json.loads(result.decode('utf-8'))\n",
        "\n",
        "# Extract the value inside the \"text\" key\n",
        "text_value = result_json['choices'][0]['text']\n",
        "print(text_value)"
      ],
      "metadata": {
        "colab": {
          "base_uri": "https://localhost:8080/"
        },
        "id": "p_2HSezVSJza",
        "outputId": "49298dce-942f-4068-a365-7e124471eaa6"
      },
      "execution_count": 85,
      "outputs": [
        {
          "output_type": "stream",
          "name": "stdout",
          "text": [
            "(2)The prescribed authority shall cause an enquiry to be made into the cause of such accident and the remedial steps taken by the institution or facility or other site.\n",
            "(3)If the prescribed authority is satisfied that the institution or facility or other site has taken adequate remedial steps, he may close the enquiry.\n",
            "(4)If the prescribed authority is satisfied that the institution or facility or other site has not taken adequate remedial steps, he may cause an enquiry to be made by a committee of three members to be nominated by him and the committee shall submit its report within a period of sixty days from the date of receipt of the reference.\n",
            "(5)If the prescribed authority is satisfied that the institution or facility or other site has taken adequate remedial steps, he may close the enquiry.\n",
            "(6)If the prescribed authority is satisfied that the institution or facility or other site has not taken adequate remedial steps, he may cause an enquiry to be made by a committee of three members to be nominated by him and the committee shall submit its report within a period of sixty days from the date of receipt of the reference.\n",
            "(7)If the prescribed authority is satisfied that the institution or facility or other site has taken adequate remedial steps, he may close the enquiry.\n",
            "(8)If the prescribed authority is satisfied that the institution or facility or other site has not taken adequate remedial steps, he may cause an enquiry to be made by a committee of three members to be nominated by him and the committee shall submit its report within a period of sixty days from the date of receipt of the reference.\n",
            "(9)If the prescribed authority is satisfied that the institution or facility or other site has taken adequate remedial steps, he may close the enquiry.\n",
            "(10)If the prescribed authority is satisfied that the institution or facility or other site has not taken adequate remedial steps, he may cause an enquiry to be made by a committee of three members to be nominated by him and the committee shall submit its report within a period of sixty days from the date of receipt of the reference.\n",
            "(11)If the prescribed authority is satisfied that the institution or facility or other site has taken adequate remedial steps, he may close the enquiry.\n",
            "(12)If the prescribed authority is satisfied that the institution or facility or other site has not taken adequate remedial steps, he may cause an enquiry to be made by a committee of three members to be nominated by him and the committee shall submit its report within a period of sixty days from the date of receipt of the reference.\n",
            "(13)If the prescribed authority is satisfied that the institution or facility or other site has taken adequate remedial steps, he may close the enquiry.\n",
            "(14)If the prescribed authority is satisfied that the institution or facility or other site has not taken adequate remedial steps, he may cause an enquiry to be made by a committee of three members to be nominated by him and the committee shall submit its report within a period of sixty days from the date of receipt of the reference.\n",
            "(15)If the prescribed authority is satisfied that the institution or facility or other site has taken adequate remedial steps, he may close the enquiry.\n",
            "(16)If the prescribed authority is satisfied that the institution or facility or other site has not taken adequate remedial steps, he may cause an enquiry to be made by a committee of three members to be nominated by him and the committee shall submit its report within a period of sixty days from the date of receipt of the reference.\n",
            "(17)If the prescribed authority is satisfied that the institution or facility or other site has taken adequate remedial steps, he may close the enquiry.\n",
            "(18)If the prescribed authority is satisfied that the institution or facility or other site has not taken adequate remedial steps, he may cause an enquiry to be made by a committee of three members to be nominated by him and the committee shall submit its report within a period of sixty days from the date of receipt of the reference.\n",
            "(19)If the prescribed authority is satisfied that the institution or facility or other site has taken adequate remedial steps, he may close the enquiry.\n",
            "(20)If the prescribed authority is satisfied that the institution or facility or other site has not taken adequate remedial steps, he may cause an enquiry to be made by a committee of three members to be nominated by him and the committee shall submit its report within a period of sixty days from the date of receipt of the reference.\n",
            "(21)If the prescribed authority is satisfied that the institution or facility or other site has taken adequate remedial steps, he may close the enquiry.\n",
            "(22)If the prescribed authority is satisfied that the institution or facility or other site has not taken adequate remedial steps, he may cause an enquiry to be made by a committee of three members to be nominated by him and the committee shall submit its report within a period of sixty days from the date of receipt of the reference.\n",
            "(23)If the prescribed authority is satisfied that the institution or facility or other site has taken adequate remedial steps, he may close the enquiry.\n",
            "(24)If the prescribed authority is satisfied that the institution or facility or other site has not taken adequate remedial steps, he may cause an enquiry to be made by a committee of three members to be nominated by him and the committee shall submit its report within a period of sixty days from the date of receipt of the reference.\n",
            "(25)If the prescribed authority is satisfied that the institution or facility or other site has taken adequate remedial steps, he may close the enquiry.\n",
            "(26)If the prescribed authority is satisfied that the institution or facility or other site has not taken adequate remedial steps, he may cause an enquiry to be made by a committee of three members to be nominated by him and the committee shall submit its report within a period of sixty days from the date of receipt of the reference.\n",
            "(27)If the prescribed authority is satisfied that the institution or facility or other site has taken adequate remedial steps, he may close the enquiry.\n",
            "(28)If the prescribed authority is satisfied that the institution or facility or other site has not taken adequate remedial steps, he may cause an enquiry to be made by a committee of three members to be nominated by him and the committee shall submit its report within a period of sixty days from the date of receipt of the reference.\n",
            "(29)If the prescribed authority is satisfied that the institution or facility or other site has taken adequate remedial steps, he may close the enquiry.\n",
            "(30)If the prescribed authority is satisfied that the institution or facility or other site has not taken adequate remedial steps, he may cause an enquiry to be made by a committee of three members to be nominated by him and the committee shall submit its report within a period of sixty days from the date of receipt of the reference.\n",
            "(31)If the prescribed authority is satisfied that the institution or facility or other site has taken adequate remedial steps, he may close the enquiry.\n",
            "(32)If the prescribed authority is satisfied that the institution or facility or other site has not taken adequate remedial steps, he may cause an enquiry to be made by a committee of three members to be nominated by him and the committee shall submit its report within a period of sixty days from the date of receipt of the reference.\n",
            "(33)If the prescribed authority is satisfied that the institution or facility or other site has taken adequate remedial steps, he may close the enquiry.\n",
            "(34)If the prescribed authority is satisfied that the institution or facility or other site has not taken adequate remedial steps, he may cause an enquiry to be made by a committee of three members to be nominated by him and the committee shall submit its report within a period of sixty days from the date of receipt of the reference.\n",
            "(35)If the prescribed authority is satisfied that the institution or facility or other site has taken adequate remedial steps, he may close the enquiry.\n",
            "(36)If the prescribed authority is satisfied that the institution or facility or other site has not taken adequate remedial steps, he may cause an enquiry to be made by a committee of three members to be nominated by him and the committee shall submit its report within a period of sixty days from the date of receipt of the reference.\n",
            "(37)If the prescribed authority is satisfied that the institution or facility or other site has taken adequate remedial steps, he may close the enquiry.\n",
            "(38)If the prescribed authority is satisfied that the institution or facility or other site has not taken adequate remedial steps, he may cause an enquiry to be made by a committee of three members to be nominated by him and the committee shall submit its report within a period of sixty days from the date of receipt of the reference.\n",
            "(39)If the prescribed authority is satisfied that the institution or facility or other site has taken adequate remedial steps, he may close the enquiry.\n",
            "(40)If the prescribed authority is satisfied that the institution or facility or other site has not taken adequate remedial steps, he may cause an enquiry to be made by a committee of three members to be nominated by him and the committee shall submit its report within a period of sixty days from the date of receipt of the reference.\n",
            "(41)If the prescribed authority is satisfied that the institution or facility or other site has taken adequate remedial steps, he may close the enquiry.\n",
            "(42)If the prescribed authority is satisfied that the institution or facility or other site has not taken adequate remedial steps, he may cause an enquiry to be made by a committee of three members to be nominated by him and the committee shall submit its report within a period of sixty days from the date of receipt of the reference.\n",
            "(43)If the prescribed authority is satisfied that the institution or facility or other site has taken adequate remedial steps, he may close the enquiry.\n",
            "(44)If the prescribed authority is satisfied that the institution or facility or other site has not taken adequate remedial steps, he may cause an enquiry to be made by a committee of three members to be nominated by him and the committee shall submit its report within a period of sixty days from the date of receipt of the reference.\n",
            "(45)If the prescribed authority is satisfied that the institution or facility or other site has taken adequate remedial steps, he may close the enquiry.\n",
            "(46)If the prescribed authority is satisfied that the institution or facility or other site has not taken adequate remedial steps, he may cause an enquiry to be made by a committee of three members to be nominated by him and the committee shall submit its report within a period of sixty days from the date of receipt of the reference.\n",
            "(47)If the prescribed authority is satisfied that the institution or facility or other site has taken adequate remedial steps, he may close the enquiry.\n",
            "(48)If the prescribed authority is satisfied that the institution or facility or other site has not taken adequate remedial steps, he may cause an enquiry to be made by a committee of three members to be nominated by him and the committee shall submit its report within a period of sixty days from the date of receipt of the reference.\n",
            "(49)If the prescribed authority is satisfied that the institution or facility or other site has taken adequate remedial steps, he may close the enquiry.\n",
            "(50)If the prescribed authority is satisfied that the institution or facility or other site has not taken adequate remedial steps, he may cause an enquiry to be made by a committee of three members to be nominated by him and the committee shall submit its report within a period of sixty days from the date of receipt of the reference.\n",
            "(51)If the prescribed authority is satisfied that the institution or facility or other site has taken adequate remedial steps, he may close the enquiry.\n",
            "(52)If the prescribed authority is satisfied that the institution or facility or other site has not taken adequate remedial steps, he may cause an enquiry to be made by a committee of three members to be nominated by him and the committee shall submit its report within a period of sixty days from the date of receipt of the reference.\n",
            "(53)If the prescribed authority is satisfied that the institution or facility or other site has taken adequate remedial steps, he may close the enquiry.\n",
            "(54)If the prescribed authority is satisfied that the institution or facility or other site has not taken adequate remedial steps, he may cause an enquiry to be made by a committee of three members to be nominated by him and the committee shall submit its report within a period of sixty days from the date of receipt of the reference.\n",
            "(55)If the prescribed authority is satisfied that the institution or facility or other site has taken adequate remedial steps, he may close the enquiry.\n",
            "(56)If the prescribed authority is satisfied that the institution or facility or other site has\n"
          ]
        }
      ]
    },
    {
      "cell_type": "code",
      "source": [],
      "metadata": {
        "id": "aJEVuSn0cWB_"
      },
      "execution_count": null,
      "outputs": []
    },
    {
      "cell_type": "markdown",
      "source": [
        "# Approach 3: AzureML Chat Endpoint using LangChain\n",
        "\n",
        "### It has been observed that the Chat endpoint has more options available for few-shot prompting compared to Completions endpoint"
      ],
      "metadata": {
        "id": "9kxMzsbAfYqh"
      }
    },
    {
      "cell_type": "code",
      "source": [
        "llm = AzureMLChatOnlineEndpoint(\n",
        "    endpoint_url=azure_public_address,\n",
        "    endpoint_api_type='serverless',\n",
        "    endpoint_api_key=azure_env_key,\n",
        "    content_formatter=LlamaContentFormatter(),\n",
        "    model_kwargs={\"temperature\": 0.4, \"max_new_tokens\": 1000},\n",
        ")"
      ],
      "metadata": {
        "id": "s2LrLMoHhKwr"
      },
      "execution_count": 87,
      "outputs": []
    },
    {
      "cell_type": "code",
      "source": [
        "from langchain.chains import LLMChain\n",
        "from langchain.prompts import PromptTemplate\n",
        "from langchain.prompts.few_shot import FewShotPromptTemplate\n",
        "from langchain.prompts.prompt import PromptTemplate"
      ],
      "metadata": {
        "id": "dAk9VGIGh1hF"
      },
      "execution_count": 88,
      "outputs": []
    },
    {
      "cell_type": "code",
      "execution_count": 89,
      "metadata": {
        "id": "eJMqgDGzMyW0",
        "tags": []
      },
      "outputs": [],
      "source": [
        "\n",
        "examples = [\n",
        "    {\n",
        "        \"question\": \"Statute: Punishment for piracy - Whoever commits any act of piracy shall be punished with imprisonment for life or with fine or with both; or with death if the act of piracy causes death.\",\n",
        "        \"answer\": \"\"\"\n",
        "<LegalRuleML xmlns=\"http://www.oasis-open.org/committees/legalruleml\">\n",
        "  <lrml:PrescriptiveStatement id=\"PunishmentForPiracy\">\n",
        "    <lrml:Rule id=\"RuleForPiracyPunishment\">\n",
        "      <lrml:if>\n",
        "      <lrml:Fact>\n",
        "          <lrml:Rel iri=\"#commitPiracy\"/>\n",
        "        </lrml:Fact>\n",
        "      </lrml:if>\n",
        "      <lrml:then>\n",
        "        <lrml:Obligation>\n",
        "          <lrml:Sanction>\n",
        "            <lrml:Penalty>\n",
        "              <lrml:Type iri=\"#imprisonment\"/>\n",
        "              <lrml:Duration max=\"life\"/>\n",
        "            </lrml:Penalty>\n",
        "            <lrml:Condition>\n",
        "              <lrml:CausesDeathOrAttempt/>\n",
        "              <lrml:AdditionalSanctions>\n",
        "                <lrml:Restitution/>\n",
        "                <lrml:ForfeitureOfProperty/>\n",
        "              </lrml:AdditionalSanctions>\n",
        "            </lrml:Condition>\n",
        "          </lrml:Sanction>\n",
        "        </lrml:Obligation>\n",
        "      </lrml:then>\n",
        "    </lrml:Rule>\n",
        "  </lrml:PrescriptiveStatement>\n",
        "</LegalRuleML>\"\"\"}]\n",
        "\n",
        "example_prompt = PromptTemplate(\n",
        "    input_variables=[\"question\", \"answer\"], template=\"Question: {question}\\n{answer}\"\n",
        ")\n",
        "\n",
        "prompt = FewShotPromptTemplate(\n",
        "    examples=examples,\n",
        "    example_prompt=example_prompt,\n",
        "    suffix=\"Question: {input}\",\n",
        "    input_variables=[\"input\"],\n",
        ")\n"
      ]
    },
    {
      "cell_type": "code",
      "source": [
        "prompt_for_input=prompt.format(input=\"(1)In case of any major accident at any institution or facility or any other site while handling bio-medical waste, the authorised person shall intimate immediately to the prescribed authority about such accident and forward a report within twenty-four hours in writing regarding the remedial steps taken in Form I.\")\n",
        "\n",
        "print (\"Input prompt is\", prompt_for_input)\n"
      ],
      "metadata": {
        "colab": {
          "base_uri": "https://localhost:8080/"
        },
        "id": "vrOacf5XkjwV",
        "outputId": "83c6e072-c21a-4f3d-a06e-551021a885a3"
      },
      "execution_count": 92,
      "outputs": [
        {
          "output_type": "stream",
          "name": "stdout",
          "text": [
            "Input prompt is Question: Statute: Punishment for piracy - Whoever commits any act of piracy shall be punished with imprisonment for life or with fine or with both; or with death if the act of piracy causes death.\n",
            "\n",
            "<LegalRuleML xmlns=\"http://www.oasis-open.org/committees/legalruleml\">\n",
            "  <lrml:PrescriptiveStatement id=\"PunishmentForPiracy\">\n",
            "    <lrml:Rule id=\"RuleForPiracyPunishment\">\n",
            "      <lrml:if>\n",
            "      <lrml:Fact>\n",
            "          <lrml:Rel iri=\"#commitPiracy\"/>\n",
            "        </lrml:Fact>\n",
            "      </lrml:if>\n",
            "      <lrml:then>\n",
            "        <lrml:Obligation>\n",
            "          <lrml:Sanction>\n",
            "            <lrml:Penalty>\n",
            "              <lrml:Type iri=\"#imprisonment\"/>\n",
            "              <lrml:Duration max=\"life\"/>\n",
            "            </lrml:Penalty>\n",
            "            <lrml:Condition>\n",
            "              <lrml:CausesDeathOrAttempt/>\n",
            "              <lrml:AdditionalSanctions>\n",
            "                <lrml:Restitution/>\n",
            "                <lrml:ForfeitureOfProperty/>\n",
            "              </lrml:AdditionalSanctions>\n",
            "            </lrml:Condition>\n",
            "          </lrml:Sanction>\n",
            "        </lrml:Obligation>\n",
            "      </lrml:then>\n",
            "    </lrml:Rule>\n",
            "  </lrml:PrescriptiveStatement>\n",
            "</LegalRuleML>\n",
            "\n",
            "Question: (1)In case of any major accident at any institution or facility or any other site while handling bio-medical waste, the authorised person shall intimate immediately to the prescribed authority about such accident and forward a report within twenty-four hours in writing regarding the remedial steps taken in Form I.\n"
          ]
        }
      ]
    },
    {
      "cell_type": "code",
      "source": [
        "response=llm.invoke(prompt_for_input)"
      ],
      "metadata": {
        "colab": {
          "base_uri": "https://localhost:8080/",
          "height": 304
        },
        "id": "tmVlAmMRsCFr",
        "outputId": "e269b6f3-ebc1-4d57-eb45-c54203c6d512"
      },
      "execution_count": 93,
      "outputs": [
        {
          "output_type": "error",
          "ename": "AttributeError",
          "evalue": "'LlamaContentFormatter' object has no attribute 'format_messages_request_payload'",
          "traceback": [
            "\u001b[0;31m---------------------------------------------------------------------------\u001b[0m",
            "\u001b[0;31mAttributeError\u001b[0m                            Traceback (most recent call last)",
            "\u001b[0;32m<ipython-input-93-6a1b04a70452>\u001b[0m in \u001b[0;36m<cell line: 1>\u001b[0;34m()\u001b[0m\n\u001b[0;32m----> 1\u001b[0;31m \u001b[0mresponse\u001b[0m\u001b[0;34m=\u001b[0m\u001b[0mllm\u001b[0m\u001b[0;34m.\u001b[0m\u001b[0minvoke\u001b[0m\u001b[0;34m(\u001b[0m\u001b[0mprompt_for_input\u001b[0m\u001b[0;34m)\u001b[0m\u001b[0;34m\u001b[0m\u001b[0;34m\u001b[0m\u001b[0m\n\u001b[0m",
            "\u001b[0;32m/usr/local/lib/python3.10/dist-packages/langchain_core/language_models/chat_models.py\u001b[0m in \u001b[0;36minvoke\u001b[0;34m(self, input, config, stop, **kwargs)\u001b[0m\n\u001b[1;32m    164\u001b[0m         return cast(\n\u001b[1;32m    165\u001b[0m             \u001b[0mChatGeneration\u001b[0m\u001b[0;34m,\u001b[0m\u001b[0;34m\u001b[0m\u001b[0;34m\u001b[0m\u001b[0m\n\u001b[0;32m--> 166\u001b[0;31m             self.generate_prompt(\n\u001b[0m\u001b[1;32m    167\u001b[0m                 \u001b[0;34m[\u001b[0m\u001b[0mself\u001b[0m\u001b[0;34m.\u001b[0m\u001b[0m_convert_input\u001b[0m\u001b[0;34m(\u001b[0m\u001b[0minput\u001b[0m\u001b[0;34m)\u001b[0m\u001b[0;34m]\u001b[0m\u001b[0;34m,\u001b[0m\u001b[0;34m\u001b[0m\u001b[0;34m\u001b[0m\u001b[0m\n\u001b[1;32m    168\u001b[0m                 \u001b[0mstop\u001b[0m\u001b[0;34m=\u001b[0m\u001b[0mstop\u001b[0m\u001b[0;34m,\u001b[0m\u001b[0;34m\u001b[0m\u001b[0;34m\u001b[0m\u001b[0m\n",
            "\u001b[0;32m/usr/local/lib/python3.10/dist-packages/langchain_core/language_models/chat_models.py\u001b[0m in \u001b[0;36mgenerate_prompt\u001b[0;34m(self, prompts, stop, callbacks, **kwargs)\u001b[0m\n\u001b[1;32m    542\u001b[0m     ) -> LLMResult:\n\u001b[1;32m    543\u001b[0m         \u001b[0mprompt_messages\u001b[0m \u001b[0;34m=\u001b[0m \u001b[0;34m[\u001b[0m\u001b[0mp\u001b[0m\u001b[0;34m.\u001b[0m\u001b[0mto_messages\u001b[0m\u001b[0;34m(\u001b[0m\u001b[0;34m)\u001b[0m \u001b[0;32mfor\u001b[0m \u001b[0mp\u001b[0m \u001b[0;32min\u001b[0m \u001b[0mprompts\u001b[0m\u001b[0;34m]\u001b[0m\u001b[0;34m\u001b[0m\u001b[0;34m\u001b[0m\u001b[0m\n\u001b[0;32m--> 544\u001b[0;31m         \u001b[0;32mreturn\u001b[0m \u001b[0mself\u001b[0m\u001b[0;34m.\u001b[0m\u001b[0mgenerate\u001b[0m\u001b[0;34m(\u001b[0m\u001b[0mprompt_messages\u001b[0m\u001b[0;34m,\u001b[0m \u001b[0mstop\u001b[0m\u001b[0;34m=\u001b[0m\u001b[0mstop\u001b[0m\u001b[0;34m,\u001b[0m \u001b[0mcallbacks\u001b[0m\u001b[0;34m=\u001b[0m\u001b[0mcallbacks\u001b[0m\u001b[0;34m,\u001b[0m \u001b[0;34m**\u001b[0m\u001b[0mkwargs\u001b[0m\u001b[0;34m)\u001b[0m\u001b[0;34m\u001b[0m\u001b[0;34m\u001b[0m\u001b[0m\n\u001b[0m\u001b[1;32m    545\u001b[0m \u001b[0;34m\u001b[0m\u001b[0m\n\u001b[1;32m    546\u001b[0m     async def agenerate_prompt(\n",
            "\u001b[0;32m/usr/local/lib/python3.10/dist-packages/langchain_core/language_models/chat_models.py\u001b[0m in \u001b[0;36mgenerate\u001b[0;34m(self, messages, stop, callbacks, tags, metadata, run_name, **kwargs)\u001b[0m\n\u001b[1;32m    406\u001b[0m                 \u001b[0;32mif\u001b[0m \u001b[0mrun_managers\u001b[0m\u001b[0;34m:\u001b[0m\u001b[0;34m\u001b[0m\u001b[0;34m\u001b[0m\u001b[0m\n\u001b[1;32m    407\u001b[0m                     \u001b[0mrun_managers\u001b[0m\u001b[0;34m[\u001b[0m\u001b[0mi\u001b[0m\u001b[0;34m]\u001b[0m\u001b[0;34m.\u001b[0m\u001b[0mon_llm_error\u001b[0m\u001b[0;34m(\u001b[0m\u001b[0me\u001b[0m\u001b[0;34m,\u001b[0m \u001b[0mresponse\u001b[0m\u001b[0;34m=\u001b[0m\u001b[0mLLMResult\u001b[0m\u001b[0;34m(\u001b[0m\u001b[0mgenerations\u001b[0m\u001b[0;34m=\u001b[0m\u001b[0;34m[\u001b[0m\u001b[0;34m]\u001b[0m\u001b[0;34m)\u001b[0m\u001b[0;34m)\u001b[0m\u001b[0;34m\u001b[0m\u001b[0;34m\u001b[0m\u001b[0m\n\u001b[0;32m--> 408\u001b[0;31m                 \u001b[0;32mraise\u001b[0m \u001b[0me\u001b[0m\u001b[0;34m\u001b[0m\u001b[0;34m\u001b[0m\u001b[0m\n\u001b[0m\u001b[1;32m    409\u001b[0m         flattened_outputs = [\n\u001b[1;32m    410\u001b[0m             \u001b[0mLLMResult\u001b[0m\u001b[0;34m(\u001b[0m\u001b[0mgenerations\u001b[0m\u001b[0;34m=\u001b[0m\u001b[0;34m[\u001b[0m\u001b[0mres\u001b[0m\u001b[0;34m.\u001b[0m\u001b[0mgenerations\u001b[0m\u001b[0;34m]\u001b[0m\u001b[0;34m,\u001b[0m \u001b[0mllm_output\u001b[0m\u001b[0;34m=\u001b[0m\u001b[0mres\u001b[0m\u001b[0;34m.\u001b[0m\u001b[0mllm_output\u001b[0m\u001b[0;34m)\u001b[0m\u001b[0;34m\u001b[0m\u001b[0;34m\u001b[0m\u001b[0m\n",
            "\u001b[0;32m/usr/local/lib/python3.10/dist-packages/langchain_core/language_models/chat_models.py\u001b[0m in \u001b[0;36mgenerate\u001b[0;34m(self, messages, stop, callbacks, tags, metadata, run_name, **kwargs)\u001b[0m\n\u001b[1;32m    396\u001b[0m             \u001b[0;32mtry\u001b[0m\u001b[0;34m:\u001b[0m\u001b[0;34m\u001b[0m\u001b[0;34m\u001b[0m\u001b[0m\n\u001b[1;32m    397\u001b[0m                 results.append(\n\u001b[0;32m--> 398\u001b[0;31m                     self._generate_with_cache(\n\u001b[0m\u001b[1;32m    399\u001b[0m                         \u001b[0mm\u001b[0m\u001b[0;34m,\u001b[0m\u001b[0;34m\u001b[0m\u001b[0;34m\u001b[0m\u001b[0m\n\u001b[1;32m    400\u001b[0m                         \u001b[0mstop\u001b[0m\u001b[0;34m=\u001b[0m\u001b[0mstop\u001b[0m\u001b[0;34m,\u001b[0m\u001b[0;34m\u001b[0m\u001b[0;34m\u001b[0m\u001b[0m\n",
            "\u001b[0;32m/usr/local/lib/python3.10/dist-packages/langchain_core/language_models/chat_models.py\u001b[0m in \u001b[0;36m_generate_with_cache\u001b[0;34m(self, messages, stop, run_manager, **kwargs)\u001b[0m\n\u001b[1;32m    575\u001b[0m                 )\n\u001b[1;32m    576\u001b[0m             \u001b[0;32mif\u001b[0m \u001b[0mnew_arg_supported\u001b[0m\u001b[0;34m:\u001b[0m\u001b[0;34m\u001b[0m\u001b[0;34m\u001b[0m\u001b[0m\n\u001b[0;32m--> 577\u001b[0;31m                 return self._generate(\n\u001b[0m\u001b[1;32m    578\u001b[0m                     \u001b[0mmessages\u001b[0m\u001b[0;34m,\u001b[0m \u001b[0mstop\u001b[0m\u001b[0;34m=\u001b[0m\u001b[0mstop\u001b[0m\u001b[0;34m,\u001b[0m \u001b[0mrun_manager\u001b[0m\u001b[0;34m=\u001b[0m\u001b[0mrun_manager\u001b[0m\u001b[0;34m,\u001b[0m \u001b[0;34m**\u001b[0m\u001b[0mkwargs\u001b[0m\u001b[0;34m\u001b[0m\u001b[0;34m\u001b[0m\u001b[0m\n\u001b[1;32m    579\u001b[0m                 )\n",
            "\u001b[0;32m/usr/local/lib/python3.10/dist-packages/langchain_community/chat_models/azureml_endpoint.py\u001b[0m in \u001b[0;36m_generate\u001b[0;34m(self, messages, stop, run_manager, **kwargs)\u001b[0m\n\u001b[1;32m    192\u001b[0m             \u001b[0m_model_kwargs\u001b[0m\u001b[0;34m[\u001b[0m\u001b[0;34m\"stop\"\u001b[0m\u001b[0;34m]\u001b[0m \u001b[0;34m=\u001b[0m \u001b[0mstop\u001b[0m\u001b[0;34m\u001b[0m\u001b[0;34m\u001b[0m\u001b[0m\n\u001b[1;32m    193\u001b[0m \u001b[0;34m\u001b[0m\u001b[0m\n\u001b[0;32m--> 194\u001b[0;31m         request_payload = self.content_formatter.format_messages_request_payload(\n\u001b[0m\u001b[1;32m    195\u001b[0m             \u001b[0mmessages\u001b[0m\u001b[0;34m,\u001b[0m \u001b[0m_model_kwargs\u001b[0m\u001b[0;34m,\u001b[0m \u001b[0mself\u001b[0m\u001b[0;34m.\u001b[0m\u001b[0mendpoint_api_type\u001b[0m\u001b[0;34m\u001b[0m\u001b[0;34m\u001b[0m\u001b[0m\n\u001b[1;32m    196\u001b[0m         )\n",
            "\u001b[0;31mAttributeError\u001b[0m: 'LlamaContentFormatter' object has no attribute 'format_messages_request_payload'"
          ]
        }
      ]
    },
    {
      "cell_type": "markdown",
      "source": [
        "# Approach 4: Using AzureML Endpoints for Llama Chat **without LangChain**\n",
        "\n",
        "This endpoint lets you use Few Shot Prompting, whereas the previous approaches did not let you use the same or as in the case of LangChain, were returning errors"
      ],
      "metadata": {
        "id": "qR0dcogZphBu"
      }
    },
    {
      "cell_type": "code",
      "source": [
        "data = {\n",
        "  \"messages\": [\n",
        "    {\n",
        "      \"role\": \"system\",\n",
        "      \"content\": \"You are a consistent Legal Rule ML converter who takes the statute text as input and outputs the XML format for the same\"\n",
        "    },\n",
        "    {\n",
        "      \"role\": \"user\",\n",
        "      \"content\": \"Convert this statute to Legal Rule ML XML format: Punishment for piracy - Whoever commits any act of piracy shall be punished with imprisonment for life or with fine or with both; or with death if the act of piracy causes death.\"\n",
        "    },\n",
        "    {\n",
        "      \"role\": \"assistant\",\n",
        "      \"content\": \"\"\"<LegalRuleML xmlns=\"http://www.oasis-open.org/committees/legalruleml\">\n",
        "  <lrml:PrescriptiveStatement id=\"PunishmentForPiracy\">\n",
        "    <lrml:Rule id=\"RuleForPiracyPunishment\">\n",
        "      <lrml:if>\n",
        "      <lrml:Fact>\n",
        "          <lrml:Rel iri=\"#commitPiracy\"/>\n",
        "        </lrml:Fact>\n",
        "      </lrml:if>\n",
        "      <lrml:then>\n",
        "        <lrml:Obligation>\n",
        "          <lrml:Sanction>\n",
        "            <lrml:Penalty>\n",
        "              <lrml:Type iri=\"#imprisonment\"/>\n",
        "              <lrml:Duration max=\"life\"/>\n",
        "            </lrml:Penalty>\n",
        "            <lrml:Condition>\n",
        "              <lrml:CausesDeathOrAttempt/>\n",
        "              <lrml:AdditionalSanctions>\n",
        "                <lrml:Restitution/>\n",
        "                <lrml:ForfeitureOfProperty/>\n",
        "              </lrml:AdditionalSanctions>\n",
        "            </lrml:Condition>\n",
        "          </lrml:Sanction>\n",
        "        </lrml:Obligation>\n",
        "      </lrml:then>\n",
        "    </lrml:Rule>\n",
        "  </lrml:PrescriptiveStatement>\n",
        "</LegalRuleML>\n",
        "\"\"\"\n",
        "    },\n",
        "    {\n",
        "      \"role\": \"user\",\n",
        "      \"content\": \"\"\"Convert this extract of a statute to LegalRuleML XML format: Accident reporting.\n",
        "(1)In case of any major accident at any institution or facility or any other site while handling bio-medical waste, the authorised person shall intimate immediately to the prescribed authority about such accident and forward a report within twenty-four hours in writing regarding the remedial steps taken in Form I.\"\"\"\n",
        "    }\n",
        "  ],\n",
        "  \"temperature\": 0.8,\n",
        "  \"max_tokens\": 128\n",
        "}\n",
        "\n"
      ],
      "metadata": {
        "id": "zutYpxlEpxSm"
      },
      "execution_count": 69,
      "outputs": []
    },
    {
      "cell_type": "code",
      "source": [
        "import urllib.request\n",
        "import json\n",
        "import os\n",
        "import ssl\n",
        "\n",
        "def allowSelfSignedHttps(allowed):\n",
        "    # bypass the server certificate verification on client side\n",
        "    if allowed and not os.environ.get('PYTHONHTTPSVERIFY', '') and getattr(ssl, '_create_unverified_context', None):\n",
        "        ssl._create_default_https_context = ssl._create_unverified_context\n",
        "\n",
        "allowSelfSignedHttps(True) # this line is needed if you use self-signed certificate in your scoring service.\n",
        "\n",
        "# Request data goes here\n",
        "# The example below assumes JSON formatting which may be updated\n",
        "# depending on the format your endpoint expects.\n",
        "# More information can be found here:\n",
        "# https://docs.microsoft.com/azure/machine-learning/how-to-deploy-advanced-entry-script\n",
        "data = {\n",
        "  \"messages\": [\n",
        "    {\n",
        "      \"role\": \"system\",\n",
        "      \"content\": \"You are a consistent Legal Rule ML converter who takes the statute text as input and outputs the XML format for the same\"\n",
        "    },\n",
        "    {\n",
        "      \"role\": \"user\",\n",
        "      \"content\": \"Convert this statute to Legal Rule ML XML format: Punishment for piracy - Whoever commits any act of piracy shall be punished with imprisonment for life or with fine or with both; or with death if the act of piracy causes death.\"\n",
        "    },\n",
        "    {\n",
        "      \"role\": \"assistant\",\n",
        "      \"content\": \"\"\"<LegalRuleML xmlns=\"http://www.oasis-open.org/committees/legalruleml\">\n",
        "  <lrml:PrescriptiveStatement id=\"PunishmentForPiracy\">\n",
        "    <lrml:Rule id=\"RuleForPiracyPunishment\">\n",
        "      <lrml:if>\n",
        "      <lrml:Fact>\n",
        "          <lrml:Rel iri=\"#commitPiracy\"/>\n",
        "        </lrml:Fact>\n",
        "      </lrml:if>\n",
        "      <lrml:then>\n",
        "        <lrml:Obligation>\n",
        "          <lrml:Sanction>\n",
        "            <lrml:Penalty>\n",
        "              <lrml:Type iri=\"#imprisonment\"/>\n",
        "              <lrml:Duration max=\"life\"/>\n",
        "            </lrml:Penalty>\n",
        "            <lrml:Condition>\n",
        "              <lrml:CausesDeathOrAttempt/>\n",
        "              <lrml:AdditionalSanctions>\n",
        "                <lrml:Restitution/>\n",
        "                <lrml:ForfeitureOfProperty/>\n",
        "              </lrml:AdditionalSanctions>\n",
        "            </lrml:Condition>\n",
        "          </lrml:Sanction>\n",
        "        </lrml:Obligation>\n",
        "      </lrml:then>\n",
        "    </lrml:Rule>\n",
        "  </lrml:PrescriptiveStatement>\n",
        "</LegalRuleML>\n",
        "\"\"\"\n",
        "    },\n",
        "    {\n",
        "      \"role\": \"user\",\n",
        "      \"content\": \"\"\"Convert this extract of a statute to LegalRuleML XML format: Accident reporting.\n",
        "(1)In case of any major accident at any institution or facility or any other site while handling bio-medical waste, the authorised person shall intimate immediately to the prescribed authority about such accident and forward a report within twenty-four hours in writing regarding the remedial steps taken in Form I.\"\"\"\n",
        "    }\n",
        "  ],\n",
        "  \"temperature\": 0.8,\n",
        "  \"max_tokens\": 1500\n",
        "}\n",
        "\n",
        "\n",
        "\n",
        "body = str.encode(json.dumps(data))\n",
        "\n",
        "url = 'https://Llama-2-7b-chat-schem-serverless.eastus2.inference.ai.azure.com/v1/chat/completions'\n",
        "# Replace this with the primary/secondary key or AMLToken for the endpoint\n",
        "api_key = azure_env_key\n",
        "if not api_key:\n",
        "    raise Exception(\"A key should be provided to invoke the endpoint\")\n",
        "\n",
        "\n",
        "headers = {'Content-Type':'application/json', 'Authorization':('Bearer '+ api_key)}\n",
        "\n",
        "req = urllib.request.Request(url, body, headers)\n",
        "\n",
        "try:\n",
        "    response = urllib.request.urlopen(req)\n",
        "\n",
        "    result = response.read()\n",
        "    print(result)\n",
        "except urllib.error.HTTPError as error:\n",
        "    print(\"The request failed with status code: \" + str(error.code))\n",
        "\n",
        "    # Print the headers - they include the requert ID and the timestamp, which are useful for debugging the failure\n",
        "    print(error.info())\n",
        "    print(error.read().decode(\"utf8\", 'ignore'))\n"
      ],
      "metadata": {
        "colab": {
          "base_uri": "https://localhost:8080/"
        },
        "id": "OhuAgbOFsUOr",
        "outputId": "104ce734-7464-4ae0-e00c-4e9511fa22f4"
      },
      "execution_count": 74,
      "outputs": [
        {
          "output_type": "stream",
          "name": "stdout",
          "text": [
            "b'{\"choices\":[{\"finish_reason\":\"stop\",\"index\":0,\"message\":{\"content\":\"  Here is the LegalRuleML XML format for the given statutory provision:\\\\n```\\\\n\\\\u003cLegalRuleML xmlns=\\\\\"http://www.oasis-open.org/committees/legalruleml\\\\\"\\\\u003e\\\\n  \\\\u003clrml:PrescriptiveStatement id=\\\\\"AccidentReporting\\\\\"\\\\u003e\\\\n    \\\\u003clrml:Rule id=\\\\\"AccidentReportingRule\\\\\"\\\\u003e\\\\n      \\\\u003clrml:if\\\\u003e\\\\n        \\\\u003clrml:Fact\\\\u003e\\\\n          \\\\u003clrml:Rel iri=\\\\\"#majorAccident\\\\\"/\\\\u003e\\\\n        \\\\u003c/lrml:Fact\\\\u003e\\\\n      \\\\u003c/lrml:if\\\\u003e\\\\n      \\\\u003clrml:then\\\\u003e\\\\n        \\\\u003clrml:Obligation\\\\u003e\\\\n          \\\\u003clrml:Action\\\\u003e\\\\n            \\\\u003clrml:IntimateAuthority iri=\\\\\"#prescribedAuthority\\\\\"/\\\\u003e\\\\n            \\\\u003clrml:Timing\\\\u003e\\\\n              \\\\u003clrml:TimeSpan start=\\\\\"immediately\\\\\"/\\\\u003e\\\\n            \\\\u003c/lrml:Timing\\\\u003e\\\\n          \\\\u003c/lrml:Action\\\\u003e\\\\n          \\\\u003clrml:Action\\\\u003e\\\\n            \\\\u003clrml:Reporting\\\\u003e\\\\n              \\\\u003clrml:Form\\\\u003e\\\\n                \\\\u003clrml:Iri iri=\\\\\"#FormI\\\\\"/\\\\u003e\\\\n              \\\\u003c/lrml:Form\\\\u003e\\\\n              \\\\u003clrml:Timing\\\\u003e\\\\n                \\\\u003clrml:TimeSpan start=\\\\\"within24hours\\\\\"/\\\\u003e\\\\n              \\\\u003c/lrml:Timing\\\\u003e\\\\n            \\\\u003c/lrml:Reporting\\\\u003e\\\\n          \\\\u003c/lrml:Action\\\\u003e\\\\n        \\\\u003c/lrml:Obligation\\\\u003e\\\\n      \\\\u003c/lrml:then\\\\u003e\\\\n    \\\\u003c/lrml:Rule\\\\u003e\\\\n  \\\\u003c/lrml:PrescriptiveStatement\\\\u003e\\\\n\\\\u003c/LegalRuleML\\\\u003e\\\\n```\\\\nExplanation:\\\\n\\\\n* `\\\\u003cLegalRuleML xmlns=\\\\\"http://www.oasis-open.org/committees/legalruleml\\\\\"\\\\u003e` is the root element of the LegalRuleML document.\\\\n* `\\\\u003clrml:PrescriptiveStatement id=\\\\\"AccidentReporting\\\\\"\\\\u003e` is the container element for the prescriptive statement.\\\\n* `\\\\u003clrml:Rule id=\\\\\"AccidentReportingRule\\\\\"\\\\u003e` is the container element for the rule.\\\\n* `\\\\u003clrml:if\\\\u003e` is an element that triggers the rule when the condition inside it is met.\\\\n* `\\\\u003clrml:Fact\\\\u003e` is an element that represents a fact or condition that must be true for the rule to apply. In this case, the fact is that a major accident has occurred.\\\\n* `\\\\u003clrml:then\\\\u003e` is an element that represents the consequences of the rule applying. In this case, the consequence is that the authorized person must intimate the prescribed authority immediately and submit a written report within 24 hours.\\\\n* `\\\\u003clrml:Obligation\\\\u003e` is an element that represents an obligation or duty that must be performed. In this case, the obligation is to intimate the prescribed authority and submit a written report.\\\\n* `\\\\u003clrml:Action\\\\u003e` is an element that represents an action or task that must be performed. In this case, the action is to intimate the prescribed authority and submit a written report.\\\\n* `\\\\u003clrml:IntimateAuthority iri=\\\\\"#prescribedAuthority\\\\\"\\\\u003e` is an element that represents the authority that must be intimated. In this case, the authority is the prescribed authority.\\\\n* `\\\\u003clrml:Timing\\\\u003e` is an element that represents the timing of the action or task. In this case, the timing is that the intimation must be made immediately after the accident occurs.\\\\n* `\\\\u003clrml:Reporting\\\\u003e` is an element that represents the reporting requirements. In this case, the reporting requires the submission of a written report within 24 hours of the accident.\\\\n* `\\\\u003clrml:Form\\\\u003e` is an element that represents the form of the report. In this case, the form is Form I.\\\\n* `\\\\u003clrml:Timing\\\\u003e` is an element that represents the timing of the reporting. In this case, the timing is that the report must be submitted within 24 hours of the accident.\\\\n\\\\nNote: The elements and attributes used in this example are just one possible way of representing the given statutory provision in LegalRuleML format. The exact elements and attributes used may vary depending on the specific requirements of the LegalRuleML schema and the context of the statutory provision.\",\"role\":\"assistant\"}}],\"created\":189988,\"id\":\"8553f38f-08d9-47c9-a250-cc8bf02e2622\",\"object\":\"chat.completion\",\"usage\":{\"completion_tokens\":921,\"prompt_tokens\":506,\"total_tokens\":1427}}\\n'\n"
          ]
        }
      ]
    },
    {
      "cell_type": "code",
      "source": [
        "result_json = json.loads(result.decode('utf-8'))\n",
        "\n",
        "# Extract the value inside the \"text\" key\n",
        "text_value = result_json['choices'][0]['message']['content']\n",
        "print(text_value)"
      ],
      "metadata": {
        "colab": {
          "base_uri": "https://localhost:8080/"
        },
        "id": "sycBfHalrtak",
        "outputId": "5548f042-3c1f-409e-a09a-85f32e7ad38f"
      },
      "execution_count": 78,
      "outputs": [
        {
          "output_type": "stream",
          "name": "stdout",
          "text": [
            "  Here is the LegalRuleML XML format for the given statutory provision:\n",
            "```\n",
            "<LegalRuleML xmlns=\"http://www.oasis-open.org/committees/legalruleml\">\n",
            "  <lrml:PrescriptiveStatement id=\"AccidentReporting\">\n",
            "    <lrml:Rule id=\"AccidentReportingRule\">\n",
            "      <lrml:if>\n",
            "        <lrml:Fact>\n",
            "          <lrml:Rel iri=\"#majorAccident\"/>\n",
            "        </lrml:Fact>\n",
            "      </lrml:if>\n",
            "      <lrml:then>\n",
            "        <lrml:Obligation>\n",
            "          <lrml:Action>\n",
            "            <lrml:IntimateAuthority iri=\"#prescribedAuthority\"/>\n",
            "            <lrml:Timing>\n",
            "              <lrml:TimeSpan start=\"immediately\"/>\n",
            "            </lrml:Timing>\n",
            "          </lrml:Action>\n",
            "          <lrml:Action>\n",
            "            <lrml:Reporting>\n",
            "              <lrml:Form>\n",
            "                <lrml:Iri iri=\"#FormI\"/>\n",
            "              </lrml:Form>\n",
            "              <lrml:Timing>\n",
            "                <lrml:TimeSpan start=\"within24hours\"/>\n",
            "              </lrml:Timing>\n",
            "            </lrml:Reporting>\n",
            "          </lrml:Action>\n",
            "        </lrml:Obligation>\n",
            "      </lrml:then>\n",
            "    </lrml:Rule>\n",
            "  </lrml:PrescriptiveStatement>\n",
            "</LegalRuleML>\n",
            "```\n",
            "Explanation:\n",
            "\n",
            "* `<LegalRuleML xmlns=\"http://www.oasis-open.org/committees/legalruleml\">` is the root element of the LegalRuleML document.\n",
            "* `<lrml:PrescriptiveStatement id=\"AccidentReporting\">` is the container element for the prescriptive statement.\n",
            "* `<lrml:Rule id=\"AccidentReportingRule\">` is the container element for the rule.\n",
            "* `<lrml:if>` is an element that triggers the rule when the condition inside it is met.\n",
            "* `<lrml:Fact>` is an element that represents a fact or condition that must be true for the rule to apply. In this case, the fact is that a major accident has occurred.\n",
            "* `<lrml:then>` is an element that represents the consequences of the rule applying. In this case, the consequence is that the authorized person must intimate the prescribed authority immediately and submit a written report within 24 hours.\n",
            "* `<lrml:Obligation>` is an element that represents an obligation or duty that must be performed. In this case, the obligation is to intimate the prescribed authority and submit a written report.\n",
            "* `<lrml:Action>` is an element that represents an action or task that must be performed. In this case, the action is to intimate the prescribed authority and submit a written report.\n",
            "* `<lrml:IntimateAuthority iri=\"#prescribedAuthority\">` is an element that represents the authority that must be intimated. In this case, the authority is the prescribed authority.\n",
            "* `<lrml:Timing>` is an element that represents the timing of the action or task. In this case, the timing is that the intimation must be made immediately after the accident occurs.\n",
            "* `<lrml:Reporting>` is an element that represents the reporting requirements. In this case, the reporting requires the submission of a written report within 24 hours of the accident.\n",
            "* `<lrml:Form>` is an element that represents the form of the report. In this case, the form is Form I.\n",
            "* `<lrml:Timing>` is an element that represents the timing of the reporting. In this case, the timing is that the report must be submitted within 24 hours of the accident.\n",
            "\n",
            "Note: The elements and attributes used in this example are just one possible way of representing the given statutory provision in LegalRuleML format. The exact elements and attributes used may vary depending on the specific requirements of the LegalRuleML schema and the context of the statutory provision.\n"
          ]
        }
      ]
    },
    {
      "cell_type": "code",
      "source": [],
      "metadata": {
        "id": "mtcOdKCes9k7"
      },
      "execution_count": null,
      "outputs": []
    }
  ]
}